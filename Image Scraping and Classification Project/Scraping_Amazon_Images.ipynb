{
  "nbformat": 4,
  "nbformat_minor": 0,
  "metadata": {
    "colab": {
      "name": "Scraping Amazon Images.ipynb",
      "provenance": []
    },
    "kernelspec": {
      "name": "python3",
      "display_name": "Python 3"
    }
  },
  "cells": [
    {
      "cell_type": "markdown",
      "metadata": {
        "id": "Y-Xa1PJBuFR5"
      },
      "source": [
        "# **Programme codes for scraping images in amazon.in**"
      ]
    },
    {
      "cell_type": "code",
      "metadata": {
        "colab": {
          "base_uri": "https://localhost:8080/"
        },
        "id": "SQHsuIGqq1X6",
        "outputId": "40949556-20cd-45fb-c0e7-677f437cff17"
      },
      "source": [
        "# Importing Libraries\r\n",
        "!pip install bs4\r\n",
        "!pip install requests"
      ],
      "execution_count": 1,
      "outputs": [
        {
          "output_type": "stream",
          "text": [
            "Requirement already satisfied: bs4 in /usr/local/lib/python3.6/dist-packages (0.0.1)\n",
            "Requirement already satisfied: beautifulsoup4 in /usr/local/lib/python3.6/dist-packages (from bs4) (4.6.3)\n",
            "Requirement already satisfied: requests in /usr/local/lib/python3.6/dist-packages (2.23.0)\n",
            "Requirement already satisfied: idna<3,>=2.5 in /usr/local/lib/python3.6/dist-packages (from requests) (2.10)\n",
            "Requirement already satisfied: urllib3!=1.25.0,!=1.25.1,<1.26,>=1.21.1 in /usr/local/lib/python3.6/dist-packages (from requests) (1.24.3)\n",
            "Requirement already satisfied: certifi>=2017.4.17 in /usr/local/lib/python3.6/dist-packages (from requests) (2020.12.5)\n",
            "Requirement already satisfied: chardet<4,>=3.0.2 in /usr/local/lib/python3.6/dist-packages (from requests) (3.0.4)\n"
          ],
          "name": "stdout"
        }
      ]
    },
    {
      "cell_type": "code",
      "metadata": {
        "colab": {
          "base_uri": "https://localhost:8080/"
        },
        "id": "7VKYhuf4r9pH",
        "outputId": "3fb02573-000c-433a-8da9-bf4b4a169090"
      },
      "source": [
        "# Below is the codes for scrapping men(Trousers) images\r\n",
        "import requests \r\n",
        "from bs4 import BeautifulSoup \r\n",
        "\t\r\n",
        "def getdata(url): \r\n",
        "\tr = requests.get(url) \r\n",
        "\treturn r.text \r\n",
        "\t\r\n",
        "htmldata = getdata(\"https://www.amazon.in/s?k=men%28trousers%29&ref=nb_sb_noss_2\") \r\n",
        "soup = BeautifulSoup(htmldata, 'html.parser') \r\n",
        "for item in soup.find_all('img'): \r\n",
        "\tprint(item['src'])\r\n"
      ],
      "execution_count": 2,
      "outputs": [
        {
          "output_type": "stream",
          "text": [
            "https://images-eu.ssl-images-amazon.com/images/G/31/gno/sprites/nav-sprite-global-1x-hm-dsk-reorg._CB405936311_.png\n",
            "https://images-eu.ssl-images-amazon.com/images/G/31/prime/Gateway/2020/June/gaming-swm._CB430661085_.jpg\n",
            "https://m.media-amazon.com/images/I/61YDguyCe8L._AC_UY218_.jpg\n",
            "https://m.media-amazon.com/images/I/81UwKKEVb1L._AC_UY218_.jpg\n",
            "https://m.media-amazon.com/images/I/81Lg1x1O29L._AC_UY218_.jpg\n",
            "https://m.media-amazon.com/images/I/71aqtnohnfL._AC_UY218_.jpg\n",
            "https://m.media-amazon.com/images/I/81aKPu-Gl-L._AC_UY218_.jpg\n",
            "https://m.media-amazon.com/images/I/61BQKoPoo1L._AC_UY218_.jpg\n",
            "https://m.media-amazon.com/images/I/617x+uSU2+L._AC_UY218_.jpg\n",
            "https://m.media-amazon.com/images/I/81zh36QEztL._AC_UY218_.jpg\n",
            "https://m.media-amazon.com/images/I/61dI07YFAHL._AC_UY218_.jpg\n",
            "https://m.media-amazon.com/images/I/617G5vMNjOL._AC_UY218_.jpg\n",
            "https://m.media-amazon.com/images/I/61i--IXJFNL._AC_UY218_.jpg\n",
            "https://m.media-amazon.com/images/I/81eScpD8yaL._AC_UY218_.jpg\n",
            "https://m.media-amazon.com/images/I/71kU8iG29oL._AC_UY218_.jpg\n",
            "https://m.media-amazon.com/images/I/81ls7jcQYfL._AC_UY218_.jpg\n",
            "https://m.media-amazon.com/images/I/71P1i2v4hqL._AC_UY218_.jpg\n",
            "https://m.media-amazon.com/images/I/61ejkDyiQiL._AC_UY218_.jpg\n"
          ],
          "name": "stdout"
        }
      ]
    },
    {
      "cell_type": "code",
      "metadata": {
        "colab": {
          "base_uri": "https://localhost:8080/"
        },
        "id": "XpDwaopBsY7k",
        "outputId": "17b1d5ce-bd51-436f-95d7-a0e5cd9bf7e0"
      },
      "source": [
        "# Scrapping Jeans(men) \r\n",
        "import requests \r\n",
        "from bs4 import BeautifulSoup \r\n",
        "\t\r\n",
        "def getdata(url): \r\n",
        "\tr = requests.get(url) \r\n",
        "\treturn r.text \r\n",
        "\t\r\n",
        "htmldata = getdata(\"https://www.amazon.in/s?k=jeans+men&crid=343P2CDC16F6U&sprefix=jeans%2Caps%2C390&ref=nb_sb_ss_ts-a-p_1_5\") \r\n",
        "soup = BeautifulSoup(htmldata, 'html.parser') \r\n",
        "for item in soup.find_all('img'): \r\n",
        "\tprint(item['src'])\r\n"
      ],
      "execution_count": 8,
      "outputs": [
        {
          "output_type": "stream",
          "text": [
            "https://images-eu.ssl-images-amazon.com/images/G/31/gno/sprites/nav-sprite-global-1x-hm-dsk-reorg._CB405936311_.png\n",
            "https://images-eu.ssl-images-amazon.com/images/G/31/prime/Gateway/2020/June/gaming-swm._CB430661085_.jpg\n",
            "https://m.media-amazon.com/images/I/818v2hyeiFL._AC_UY218_.jpg\n",
            "https://m.media-amazon.com/images/I/91Kq4Rrh-jL._AC_UY218_.jpg\n",
            "https://m.media-amazon.com/images/I/71Lb085kaML._AC_UY218_.jpg\n",
            "https://m.media-amazon.com/images/I/81xy501HtDL._AC_UL320_.jpg\n",
            "https://m.media-amazon.com/images/I/81nk1gxvoBL._AC_UL320_.jpg\n",
            "https://m.media-amazon.com/images/I/81rcMJm4kFL._AC_UL320_.jpg\n",
            "https://m.media-amazon.com/images/I/81xy501HtDL._AC_UL320_.jpg\n",
            "https://m.media-amazon.com/images/I/81V2YwqIuqL._AC_UL320_.jpg\n",
            "https://m.media-amazon.com/images/I/81nuOCZkXjL._AC_UY218_.jpg\n",
            "https://m.media-amazon.com/images/I/81TYscw9JOL._AC_UY218_.jpg\n",
            "https://m.media-amazon.com/images/I/81NbtHkoyBL._AC_UY218_.jpg\n",
            "https://m.media-amazon.com/images/I/71O1VDRM0-L._AC_UY218_.jpg\n",
            "https://m.media-amazon.com/images/I/81w2CwmKR7L._AC_UY218_.jpg\n",
            "https://m.media-amazon.com/images/I/81iWc9um37L._AC_UY218_.jpg\n",
            "https://m.media-amazon.com/images/I/51PAjY776nL._AC_UY218_.jpg\n",
            "https://m.media-amazon.com/images/I/81GktRDyaAL._AC_UY218_.jpg\n",
            "https://m.media-amazon.com/images/I/51Gvco2ivdL._AC_UY218_.jpg\n",
            "https://m.media-amazon.com/images/I/61aGmtzhdhL._AC_UY218_.jpg\n",
            "https://m.media-amazon.com/images/I/51RSDqezU6L._AC_UY218_.jpg\n",
            "https://m.media-amazon.com/images/I/81MK6QnHJWL._AC_UY218_.jpg\n",
            "https://m.media-amazon.com/images/I/81jtZoQJ75L._AC_UY218_.jpg\n",
            "https://images-na.ssl-images-amazon.com/images/G/01/x-locale/common/grey-pixel.gif\n",
            "https://m.media-amazon.com/images/I/31UAgkiDRkL._SX144_.jpg\n",
            "https://images-na.ssl-images-amazon.com/images/G/01/x-locale/common/grey-pixel.gif\n",
            "https://m.media-amazon.com/images/I/41QFLArTr+L._SX144_.jpg\n",
            "https://images-na.ssl-images-amazon.com/images/G/01/x-locale/common/grey-pixel.gif\n",
            "https://m.media-amazon.com/images/I/31AGVLYk6FL._SX144_.jpg\n",
            "https://images-na.ssl-images-amazon.com/images/G/01/x-locale/common/grey-pixel.gif\n",
            "https://m.media-amazon.com/images/I/31CY7o-+JxL._SX144_.jpg\n"
          ],
          "name": "stdout"
        }
      ]
    },
    {
      "cell_type": "code",
      "metadata": {
        "colab": {
          "base_uri": "https://localhost:8080/"
        },
        "id": "eTi9Cbl6tgSj",
        "outputId": "68dbf5a2-0030-4a64-d6ac-46d82e04ab3b"
      },
      "source": [
        "# Scrapping sarees(women)\r\n",
        "import requests \r\n",
        "from bs4 import BeautifulSoup \r\n",
        "\t\r\n",
        "def getdata(url): \r\n",
        "\tr = requests.get(url) \r\n",
        "\treturn r.text \r\n",
        "\t\r\n",
        "htmldata = getdata(\"https://www.amazon.in/s?k=sarees+women&crid=17US8GBPC24OB&sprefix=sarees+w%2Caps%2C437&ref=nb_sb_ss_ts-a-p_1_8\") \r\n",
        "soup = BeautifulSoup(htmldata, 'html.parser') \r\n",
        "for item in soup.find_all('img'): \r\n",
        "\tprint(item['src'])\r\n"
      ],
      "execution_count": 9,
      "outputs": [
        {
          "output_type": "stream",
          "text": [
            "https://images-eu.ssl-images-amazon.com/images/G/31/gno/sprites/nav-sprite-global-1x-hm-dsk-reorg._CB405936311_.png\n",
            "https://images-eu.ssl-images-amazon.com/images/G/31/prime/Gateway/2020/June/gaming-swm._CB430661085_.jpg\n",
            "https://m.media-amazon.com/images/I/71D+M8s9e8L._AC_UY218_.jpg\n",
            "https://m.media-amazon.com/images/I/61B8o9UlqpL._AC_UY218_.jpg\n",
            "https://m.media-amazon.com/images/I/61dbP1wFneL._AC_UY218_.jpg\n",
            "https://images-eu.ssl-images-amazon.com/images/S/amazon-avatars-global/ec3e8a23-d682-442d-bbab-0483ca04b118._CR3,0,954,954_SX50_._TTW_.jpg\n",
            "https://m.media-amazon.com/images/I/81vEM7nxL8L._AC_UL320_.jpg\n",
            "https://m.media-amazon.com/images/I/71gS9nADNeL._AC_UL320_.jpg\n",
            "https://m.media-amazon.com/images/I/919Uu73NihL._AC_UL320_.jpg\n",
            "https://m.media-amazon.com/images/I/91nycgf7mbL._AC_UL320_.jpg\n",
            "https://m.media-amazon.com/images/I/81s4hVMBN3L._AC_UY218_.jpg\n",
            "https://m.media-amazon.com/images/I/81h7PuLq-yL._AC_UY218_.jpg\n",
            "https://m.media-amazon.com/images/I/81imt1SsneL._AC_UY218_.jpg\n",
            "https://m.media-amazon.com/images/I/71DLhI+syxL._AC_UY218_.jpg\n",
            "https://m.media-amazon.com/images/I/91XWAmF7RhL._AC_UY218_.jpg\n",
            "https://m.media-amazon.com/images/I/91dJZdKOJPL._AC_UY218_.jpg\n",
            "https://m.media-amazon.com/images/I/81yuk77EXsL._AC_UY218_.jpg\n",
            "https://m.media-amazon.com/images/I/71Uvae5MKfL._AC_UY218_.jpg\n",
            "https://m.media-amazon.com/images/I/61AJfE0W64L._AC_UY218_.jpg\n",
            "https://m.media-amazon.com/images/I/71BSeRD2cBL._AC_UY218_.jpg\n",
            "https://m.media-amazon.com/images/I/51hw22SU20L._AC_UY218_.jpg\n",
            "https://m.media-amazon.com/images/I/61qqS6Hn1TL._AC_UY218_.jpg\n",
            "https://m.media-amazon.com/images/I/71TJ9p46PVL._AC_UY218_.jpg\n",
            "https://images-na.ssl-images-amazon.com/images/G/01/x-locale/common/grey-pixel.gif\n",
            "https://m.media-amazon.com/images/I/412s-Ar2mPL._SX144_.jpg\n",
            "https://images-na.ssl-images-amazon.com/images/G/01/x-locale/common/grey-pixel.gif\n",
            "https://m.media-amazon.com/images/I/419GlgVUdnL._SX144_.jpg\n",
            "https://images-na.ssl-images-amazon.com/images/G/01/x-locale/common/grey-pixel.gif\n",
            "https://m.media-amazon.com/images/I/41a5fxQw9jL._SX144_.jpg\n",
            "https://images-na.ssl-images-amazon.com/images/G/01/x-locale/common/grey-pixel.gif\n",
            "https://m.media-amazon.com/images/I/51Y73GwjniL._SX144_.jpg\n"
          ],
          "name": "stdout"
        }
      ]
    },
    {
      "cell_type": "code",
      "metadata": {
        "id": "nWGTRZ26tzj-"
      },
      "source": [
        ""
      ],
      "execution_count": 4,
      "outputs": []
    }
  ]
}