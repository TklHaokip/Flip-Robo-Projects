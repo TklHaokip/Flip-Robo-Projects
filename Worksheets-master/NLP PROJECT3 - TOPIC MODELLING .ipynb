{
 "cells": [
  {
   "cell_type": "markdown",
   "metadata": {},
   "source": [
    "# Project 3 - simple model\n",
    "=========\n",
    "Topic Modelling\n",
    "===============\n",
    "\n",
    "Collect randomly as many as news content from different fields for training. (thru any form, web scrape, pdf, newspaper etc.)\n",
    "\n",
    "Use case\n",
    "========\n",
    " Collect randomly another set of content for test. \n",
    "\n",
    "Build topic modelling to understand the topics in the test data.\n",
    "\n"
   ]
  },
  {
   "cell_type": "markdown",
   "metadata": {},
   "source": [
    "# Objectives\n",
    "1). Build simple model\n",
    "\n",
    "2). Topic modelling using LSA\n",
    "\n",
    "3).Topic modelling using LDA\n",
    "\n"
   ]
  },
  {
   "cell_type": "markdown",
   "metadata": {},
   "source": [
    "# Preparing Documents\n",
    "Here, I will use few articles that i have collected from various newspaper websites and build simple Model."
   ]
  },
  {
   "cell_type": "code",
   "execution_count": 1,
   "metadata": {},
   "outputs": [],
   "source": [
    "doc1 = '''India-China Relation\n",
    "The People’s Republic of China (PRC) was established on October 1, 1949, and India was the first non-communist country to establish an Embassy in PRC. On April 1, 1950, India and China established diplomatic relations. The two countries also jointly expounded the Panchsheel (Five Principles of Peaceful Coexistence) in 1954.\n",
    "\n",
    "Background of India-China Relations\n",
    "Chinese Premier Zhou Enlai visited India in June 1954 and Prime Minister Nehru visited China in October 1954. Premier Zhou Enlai again visited India in January 1957 and in April 1960. The Sino-Indian conflict, which took place from October 20 in 1962 led to a serious setback in bilateral relations. India and China restored ambassadorial relations in August 1976. Higher political level contacts were revived by the visit of the then External Affairs Minister, A.B. Vajpayee in February 1979.\n",
    "\n",
    "The Chinese Foreign Minister Huang Hua paid a return visit to India in June 1981. Prime Minister Rajiv Gandhi visited China in December 1988. During this visit, both sides agreed to develop and expand bilateral relations in all fields. It was also agreed to establish a Joint Working Group (JWG) – to seek a fair, reasonable, and mutually acceptable solution on the boundary question – and a Joint Economic Group (JEG). From the Chinese side, Premier Li Peng visited India in December 1991. Prime Minister Narasimha Rao visited China in September 1993.\n",
    "\n",
    "The Agreement on the Maintenance of Peace and Tranquility along the Line of Actual Control (LAC) in the India – China Border Area was signed during this visit, providing for both sides to respect the status quo on the border, clarify the LAC where there are doubts and undertake CBMs. President R. Venkataraman paid a state visit to China in May 1992.\n",
    "\n",
    "This was the first Head of State-level visit from India to China. President Jiang Zemin’s state visit to India in November 1996 was similarly the first by a PRC Head of State to India. The four agreements signed during his visit included the one on CBMs in the Military Field along the LAC covering the adoption of concrete measures between the two militaries to enhance exchanges and to promote cooperation and trust. India-China political relations are enhanced and strengthened by various mechanisms. There is a close and regular interaction between strategic and foreign policy think-tanks.\n",
    "\n",
    "Relations After Nuclear Test\n",
    "After the nuclear tests on 11 May 1998, the relations faced a minor setback. External Affairs Minister Jaswant Singh visited China in June 1999 and both sides reiterated that neither country is a threat to the other. President K.R. Narayanan’s visit to China in May – June 2000 marked a return to high-level exchanges. Premier Zhu Rongji visited India in January 2002. Prime Minister A.B. Vajpayee visited China in June 2003 during which a Declaration on Principles for Relations and Comprehensive Cooperation was signed. This was the first comprehensive document on the development of bilateral relations signed at the highest level between India and China. India and China concluded a border trade protocol to add a border crossing between Sikkim and Tibet Autonomous Region. The two Prime Ministers appointed Special Representatives to explore from the political perspective of the overall bilateral relationship the framework of a boundary settlement.\n",
    "Indian Companies in China\n",
    "With the growth in bilateral trade between India and China in the last few years, many Indian companies have started setting up Chinese operations to service both their Indian and MNC clientele in China. Indian enterprises operating in China either as representative offices, Wholly Owned Foreign Enterprises or Joint Ventures with Chinese companies are into manufacturing (pharmaceuticals, refractories, laminated tubes, auto-components, wind energy, etc.), IT and IT-enabled services (including IT education, software solutions, and specific software products), trading, banking, and allied activities.\n",
    "While the Indian trading community is primarily confined to major port cities such as Guangzhou and Shenzhen, they are also present in large numbers in places where the Chinese have set up warehouses and wholesale markets such as Yiwu. Most of the Indian companies have a presence in Shanghai, which is China’s financial center; while a few Indian companies have set up offices in the capital city of Beijing. Some of the prominent Indian companies in China include Dr. Reddy’s Laboratories, Aurobindo Pharma, Matrix Pharma, NIIT, Bharat Forge, Infosys, TCS, APTECH, Wipro, Mahindra Satyam, Essel Packaging, Suzlon Energy, Reliance Industries, SUNDARAM Fasteners, Mahindra & Mahindra, TATA Sons, Binani Cements, etc. In the field of banking, ten Indian banks have set up operations in China. State Bank of India (Shanghai), Bank of India (Shenzhen), Canara Bank (Shanghai) and Bank of Baroda (Guangzhou), have branch offices, while others (Punjab National Banks, UCO Bank, Allahabad Bank, Indian Overseas Bank, Union Bank of India, etc.) have representative offices. Apart from PSU banks, private banks such as Axis, ICICI also has representative offices in China.\n",
    "\n",
    "Chinese Companies in India\n",
    "According to information available with the Embassy of India, close to 100 Chinese companies have established offices/operations in India. Many large Chinese state-owned companies in the field of machinery and infrastructure construction have won projects in India and have opened project offices in India. These include Sinosteel, Shougang International, Baoshan Iron & Steel Ltd, Sany Heavy Industry Ltd, Chongqing Lifan Industry Ltd, China Dongfang International, Sino Hydro Corporation, etc. Many Chinese electronic, IT, and hardware manufacturing companies also have operations in India. These include Huawei Technologies, ZTE, TCL, Haier, etc. A large number of Chinese companies are involved in EPC projects in the Power Sector.\n",
    "These include Shanghai Electric, Harbin Electric, Dongfang Electric, Shenyang Electric etc. Chinese automobile major Beijing Automotive Industry Corporation (BAIC) has recently announced plans to invest US$ 250 million in an auto plant in Pune. TBEA a Xinjiang-based transformer manufacturer has firmed up plans to invest in a manufacturing facility in Gujarat. During the visit of Premier Wen to India, Huawei announced plans to invest in a telecom equipment manufacturing facility in Chennai.\n",
    "\n",
    "India-China economic relations constitute an important element of the strategic and cooperative partnership between the two countries. Several institutional mechanisms have been established for enhancing and strengthening economic cooperation between the two countries. Besides the India-China Joint Economic Group on Economic Relations and Trade, Science and Technology (JEG), and the India-China Strategic and Economic Dialogue (SED), a Financial Dialogue has also been taking place between the two countries since 2006.\n",
    "\n",
    "These include Shanghai Electric, Harbin Electric, Dongfang Electric, Shenyang Electric etc. Chinese automobile major Beijing Automotive Industry Corporation (BAIC) has recently announced plans to invest US$ 250 million in an auto plant in Pune. TBEA a Xinjiang-based transformer manufacturer has firmed up plans to invest in a manufacturing facility in Gujarat. During the visit of Premier Wen to India, Huawei announced plans to invest in a telecom equipment manufacturing facility in Chennai.\n",
    "\n",
    "India-China economic relations constitute an important element of the strategic and cooperative partnership between the two countries. Several institutional mechanisms have been established for enhancing and strengthening economic cooperation between the two countries. Besides the India-China Joint Economic Group on Economic Relations and Trade, Science and Technology (JEG), and the India-China Strategic and Economic Dialogue (SED), a Financial Dialogue has also been taking place between the two countries since 2006.\n",
    "\n",
    "India-China Financial Dialogue:\n",
    "In accordance with the MoU on the Launch of the Financial Dialogue between India and China, signed during Chinese Prime Minister Wen Jiabao’s visit to India in April 2005, the two sides have since successfully held Financial Dialogues. A Joint Statement was signed and released at the end of the Dialogue. During the Dialogue, both sides exchanged views on the global macroeconomic situation and policy responses, with specific reference to current risks to the global economy and the role of India and China in the post-crisis recovery phase. Discussions also took place on G20 issues including reforms in the International Monetary System and the Framework for Strong, Sustainable, and Balanced Growth.\n",
    "\n",
    "Banking Links:\n",
    "Many Indian banks have established their presence in mainland China in the last few years. Four Indian banks, namely, State Bank of India (Shanghai), Canara Bank (Shanghai), Bank of Baroda (Guangzhou), and Bank of India (Shenzhen) have to branch offices in China. At present, the State Bank of India is the only Indian bank to have the authorization to conduct local currency (RMB) business at its branch in Shanghai. More Indian banks are planning to upgrade their Representative Offices in China to branch offices and existing branch offices are applying for RMB license. Various Government institutions and agencies from the two countries have also been interacting with each other for furthering cooperation in areas such as taxation, human resource development, and employment, health, urban development, and tourism. There are a close exchange and interaction between the economic think tanks and scholars as well.\n",
    "\n",
    "Chinese President XI Jinping’s Visit (In September 2014)\n",
    "\n",
    "China’s President Xi Jinping’s visit to India will go down history in five major aspects.\n",
    "\n",
    "Result of the visit\n",
    "\n",
    "Annual Visits at the level of heads of State/Govt.\n",
    "A city in each country identified for a smart city demonstration project\n",
    "Increase speed on the existing line from Chennai to Mysore via Bangalore\n",
    "Training in a heavy haul for 100 Indian Railways officials\n",
    "Redevelopment of existing railway stations and establishment of a railway university in India\n",
    "2015 as the ‘Visit India Year’ in China and 2016 as the ‘Visit China Year’ in India\n",
    "Promoting tourism products and routes in India based on the historical travels of the Chinese-monk scholar Xuan Zang to India in the 7th century AD\n",
    "China would be a partner country at the Delhi International Book Fair 2016\n",
    "China would be a guest country at the Indian International Film Festival 2014\n",
    "Strengthen exchanges in movies, broadcasting and television shows\n",
    "The first round of maritime cooperation dialogue to be held this year.\n",
    "Latest Developments in India-China Relations\n",
    "In September 2014 the relationship became strained as troops of the People’s Liberation Army (PLA) reportedly entered two kilometers inside the Line of Actual Control (LAC) in the Chumar sector. The next month, V. K. Singh said that China and India had come to an “agreement of views” on the threat of terrorism emanating from Pakistan.\n",
    "On 16 June 2017 Chinese troops with construction vehicles and road-building equipment began extending an existing road southward in Doklam, a territory which is claimed by both China as well as India’s ally Bhutan.\n",
    "On 28 August 2017, China and India reached a consensus to put an end to the border stand-off. Both of them agreed to disengage from the standoff in Doklam.\n",
    "On 18 June 2017, around 270 Indian troops, with weapons and two bulldozers, entered Doklam to stop the Chinese troops from constructing the road. Among other charges, China accused India of illegal intrusion into its territory, across what is called the mutually agreed China-India boundary, and violation of its territorial sovereignty and United Nations Charter.\n",
    "In May 2018, the two countries agreed to coordinate their development programs in Afghanistan in the areas of health, education, and food security.\n",
    "In 2019, India reiterated that it would not join One Belt One Road initiative, stating that it cannot accept a project that ignores concerns about its territorial integrity.\n",
    "On 11 October 2019, Chinese president Xi Jinping met with Indian prime minister Narendra Modi at Mahabalipuram, Tamil Nadu, India for a second informal meeting between India and China.\n",
    "On 10 May 2020, Chinese and Indian troops clashed in Nathu La, Sikkim (India). 11 soldiers were injured. Following the skirmishes in Sikkim, tensions between the two countries grew in Ladakh with a buildup of troops at multiple locations.\n",
    "In the initial weeks of June 2020, there was a substantial buildup of troops on both sides of the LAC, with both the Indian and Chinese army matching strength for strength\n",
    "Following a high-level visit by commanding officers of both the Indian and Chinese forces, the Chinese army on June 9th, 2020 agreed to withdraw about 2-2.5 km away from the disputed territory, with the Indian army also agreeing to disengage at some locations. Talks for further disengagement are to continue in the coming days.\n",
    "A major incident had occurred in the stand-off between India and China in Ladakh on the night of 15th June 2020. One Commanding Officer and two jawans of the Indian Army lost their lives during a violent face-off with Chinese troops in the Galwan area of Eastern Ladakh. These are the first combat deaths on the disputed boundary since 1975. In total, 2o Indian soldiers were martyred in the clashes. Indian Army had given a befitting reply to the Chinese Army and as per different Indian media reports, the Chinese Army lost a substantial number of soldiers in the ensuing conflict.\n",
    "Army Chief Gen Manoj Naravane had taken a review of the situation and announced that further steps will be taken to de-escalate the situation while calling for restrain from personnel of both the Armies.'''"
   ]
  },
  {
   "cell_type": "code",
   "execution_count": 2,
   "metadata": {},
   "outputs": [],
   "source": [
    "doc2='''Composite Dialogue\n",
    "The Composite Dialogue between India and Pakistan from 2004 to 2008 addressed all outstanding issues. It had completed four rounds and the fifth round was in progress when it was paused in the wake of the Mumbai terrorist attack in November 2008. Amongst its achievements can be cited several Confidence Building Measures (CBMs) related to peace and security; enhanced people to people contacts through bus and train services; the revival of the Bilateral Joint Commission after 16 years; setting up of the Judicial Committee to look into the humanitarian issue of civilian prisoners/fishermen held in each other’s jails and growth in bilateral trade by 550% between the year 2003-04 and 2007-08 from US$ 344.59 million to US$ 2.23 billion.\n",
    "\n",
    "CONFLICT ZONES\n",
    "\n",
    "The main factors which have contributed to the strained relations between the two countries are –\n",
    "\n",
    "Siachen Glacier: There have been demands for the withdrawal of Indian troops from Siachen. However, Siachen holds strategic importance for India and India has refused to agree to the demand. It was suggested to make it a demilitarized zone. India and Pakistan almost managed this in Nov. 1992. The agreement on Siachen was in the mutual withdrawal of troops from new positions, the creation of a “zone of complete disengagement,’ and the delineation of a “zone of peace and tranquility”. The process broke down before a formal treaty could be agreed to.\n",
    "Tulbul / Wular Project: The issue was between India and Pakistan. It relates to a barrage to be constructed by the J&K on the Jhelum just below the Wular lake. The object of the barrage is to allow navigation over a distance of around 20 km, between Wular lake and the Kashmir town of Baramulla.\n",
    "Sir Creek Problem: Sir Creek is a 60 km estuary in the Rann of kutch. The Rann of Kutch lies between Gujarat on the India side and Sindh on the Pakistan side. The main problem arises between India and Pakistan because of the boundary live which divides Sir Creek.\n",
    "Arms Race: Developed nations led by the USA have expressed their concern over the dangerous arms race going on in the Indian subcontinent. India conducted her first nuclear test in 1974 after that Pakistan has been secretly developing its nuclear capabilities.\n",
    "Terrorism and Drug Trafficking: Pakistan has been trying a proxy war by supporting terrorist activities in Kashmir. India has often tried to draw the attention of the international community towards it. Kashmir remains the biggest issue of dispute between India and Pakistan.\n",
    "Kashmir – The Root Cause of Clash: Before the merger, the state was attached by Pak-sponsored armed infiltrators. They were repulsed but a portion of Kashmir came under infiltrators. Today, the part of Kashmir is known as Pak occupied Kashmir (POK). During the conflict, the matter was raised in UNO by India. The UN-appointed commission called the United Nations Commission for India and Pakistan to restore peace and arrange for plebiscite in Kashmir. However, it failed to bring the desired result.\n",
    "In favour of Kashmir, Pakistan argues that Kashmir is predominantly a Muslim populated state and according to ‘Two Nation Theory’, its natural place is in Pakistan. It further says that all three major rivers of Pakistan – Indus, Jhelum, and Chenab – originate in Kashmir. So the health of Pakistan’s agriculture depends on Kashmir “being a part of Pakistan’. India counters Pakistan’s argument by saying that it never accepted Jinnah’s two-nation theory. Moreover, more Muslims are living in independent India than in Pakistan. India decided to refer the Kashmir question to the security council of the UN in the year 1948. It requested the security council to ask the Pakistan government to sort out the difficulties. Pakistan demanded that Kashmir accession to India was illegal. The resolution affirmed the right of the Indian army to defend the state. The security council resolution could not be implemented because both India and Pakistan failed to comply with its conditions.\n",
    "\n",
    "Terrorism\n",
    "\n",
    "Terrorism remains our core concern in the relationship with Pakistan and has been repeatedly raised with Pakistan, including at the highest level, whereby India has consistently urged Pakistan to fulfill its repeated assurance given to us not to allow the territory under its control to be used for supporting terrorism directed against us or for any other anti-India activity. More recently, during the meeting of the Indian PM with the Pak PM, PM underlined our terrorism concerns and stressed that it was imperative to bring the perpetrators of the Mumbai attack to justice.\n",
    "\n",
    "Trade Normalisation\n",
    "\n",
    "To build the confidence of the business community on both sides, representatives of various trade regulatory bodies of India met, in India and Pakistan, representatives of leading chambers of commerce and industry of Pakistan and discussed matters about trade regulations, standards, labeling, and marking requirements. The two countries have initialed three agreements, viz., Customs Cooperation Agreement, Mutual Recognition Agreement, and Redressal of Trade Grievances Agreement.\n",
    "\n",
    "Trade Infrastructure\n",
    "\n",
    "The Home Minister of India, in the presence of, among others, the Commerce Ministers of India and Pakistan, and the Chief Ministers of the states of Punjab of the two countries inaugurated the Integrated Check Post (ICP) at Attari on April 13, 2012. The Attari ICP represents vastly improved infrastructure to facilitate trade and travel. Spread over 118 acres, it contains a passenger terminal measuring 9,600 sq mts, a dedicated cargo terminal measuring 4,700 sq mts, and separate import and export warehouses measuring over 10,000 sq mts, apart from over 50,000 sq mts of parking space for trucks, and an equally large area for future expansion. In recent months, various segments in Pakistan have spoken in favour of opening more land trade routes with India, including Munabao- Khokhrapar.\n",
    "\n",
    "Other Initiatives\n",
    "\n",
    "Industry representatives and officials from the two countries have held discussions on trade in electricity and also trade in petroleum products and Liquefied Natural Gas. Officials of the central banks of both countries have also met to discuss cooperation in the banking sector, inter alia, by opening branches of two public sector banks in each other’s country. Pakistan welcomed India’s recent decision to allow investment from Pakistan (notified by the Government of India in July 2012). Pakistan has also expressed appreciation for India’s support for getting approved the EU trade concession package for Pakistan by the General Council of WTO.\n",
    "\n",
    "Recent Developments (May 2013) – Dealing With SINO-PAK\n",
    "\n",
    "Indira Gandhi once said that she could visualize a time in the future when India and Pakistan would have normal, even friendly, relations but she did not have the same hope for relations with China because, she said, it was essentially an expansionist power. How do recent events validate her instinct and analysis? As far as Pakistan is concerned, it is universally acknowledged that it is the military establishment which is most opposed to normalizing relations with India; indeed, it appears to have a vested interest in keeping India-Pakistan relations tense. Friendly relations with India would seriously undermine the raison d’être for the inflated size of the armed forces. They would lose control over the security policy, over Afghan and Indian policy as well as control over the nuclear arsenal. In other words, the military establishment would become an adjunct of the civilian government, thereby losing not only its pre-eminent position but also its self-cultivated image of being the only institution that can safeguard and save the people, in effect, from themselves. It might also lose at least a part of its economic empire. Thus, for the Pakistan military, it makes sense not to normalize relations with India.\n",
    "\n",
    "Consensus for détente\n",
    "\n",
    "On the other hand, going by the election manifestos of major political parties in Pakistan in the run-up to the May 11 elections, there seems to be a growing consensus among politicians for détente with India. Their manifestos not only did not contain anti-India rhetoric; they also indicated a willingness to promote peace with India. The party of incoming Prime Minister Nawaz Sharif even went to the extent of declaring that it will open the transit route for trade between India, Afghanistan, and beyond through Pakistan. Since winning the election convincingly, he has reiterated his desire to work for better relations with India, which Prime Minister Manmohan Singh has warmly reciprocated. Imran Khan’s party also spoke of progressive detente with India. This trend needs to be noted and welcomed in India. It suggests that the political mainstream might be ready to stand up to the military in case the latter came in the way of normalizing relations with India. Whether it can do so will remain to be seen, but at least it has made public its intention to do so. Mr. Sharif has declared that he will be the ‘boss’ and that civilian supremacy will be asserted. If that happens, the possibility of normal relations between the two countries can certainly be entertained. Indians tend to lurch from euphoria to hostility in reacting to developments in neighbouring countries. We need to wait and watch. Does this mean that Pakistanis have finally accepted that India has no evil designs on their country and that they have nothing to fear from us? Opinion polls in Pakistan have suggested that India is not on the top of their list of most worrisome subjects. The realization that the country is being torn from within by forces nurtured by their agencies seems to have dawned on them. The business lobbies — and Mr. Sharif is a businessman — are certainly interested in opening trade and investment opportunities on a reciprocal basis. Pakistan has not kept the deadline of implementing the promised Most Favoured Nation status to India but one may expect this to happen given the declared intention of all parties to do so post-election. By and large, most people in Pakistan have reached the sensible conclusion that China, their all-weather friend, is not going to bail them out and that the best, perhaps the only, salvation for their fast-collapsing economy is to ride piggyback on India’s vast economy. The big question of how they tackle the terrorist outfits acting against India from Pakistani territory will remain.\n",
    "\n",
    "Increasing aggression\n",
    "\n",
    "China, by contrast, has become much more aggressive, and not just towards India. Having secured two decades of peaceful growth, China is now ready, it feels, to take on the world. Confirming this assertiveness are its actions in the South China Sea, Senkaku/Diaoyu islands, and its unwillingness to discuss water issues with neighbours. China is more than willing to exploit its greatly enhanced clout in the global economy to press its interests. It vigorously pursues its ambition to have the Yuan accepted as an alternative currency in international trade. It scored an important success by concluding a deal with Australia to trade directly using only the Yuan and the Australian dollar, bypassing the U.S. dollar. As far as India-specific actions are concerned, there are any number of examples of China’s difficult attitude, as indicated by the deployment of several thousand PLA personnel in Pakistan-occupied Kashmir and its intrusions across the Line of Actual Control. The most important indication of China’s true assessment of India’s importance for it is the suo moto statement of President Xi Jinping that the border problem will not be solved any time soon, making it clear that it certainly will not be resolved during his 10 years in office. Hence, the reported statement by a Chinese official in Delhi that China would like to focus on reaching an agreement on the ‘framework’ for the settlement of the border issue needs to be noted. China will continue to make noise about the need for the two countries to cooperate in the international arena on issues such as climate change, but it remains firmly opposed to India’s aspiration for a permanent seat on the United Nations Security Council (it would have been preferable for India not to have had any reference to this matter in the final declaration of the BRICS summit in South Africa than to have agreed to the most unpalatable formulation as finally agreed). This is what a Chinese scholar thought of India way back in 1903: “Indians have generally not cared if their territory is lost … Chinese determination is stronger than the Indian … we can foresee that Chinese accomplishments will certainly surpass those of the Indians.” Has anything changed? The comparison with Pakistan and China brings out an interesting aspect. For many years, we in India had been asking Pakistan to follow the example of our relationship with China, in which both countries took a conscious decision to keep aside the core issue of the border for the time being and concentrate on other aspects of bilateral relations that offered scope for cooperation to mutual benefit. Trade-in particular was identified as offering a huge potential for expanding bilateral relations. This has happened, although the trade is heavily lopsided in China’s favour. What is more, China is gobbling up our precious natural resources such as iron ore which we ought to be preserving for use in our steel plants. It was the expectation at least on our part that increased economic relations would create conditions propitious for the two countries to deal seriously and pragmatically with the border problem. In this, we have been sadly mistaken. Pakistan, on the other hand, insisted that there can be no progress on any of the bilateral issues so long as the core issue of Jammu and Kashmir was not resolved. It is premature to draw definitive conclusions, but about a year ago, Pakistan relented and agreed to move forward on trade before the core issue was settled. It agreed to grant India MFN status, apparently with the military’s consent, even in the absence of any progress on the Kashmir issue.\n",
    "\n",
    "An interesting debate\n",
    "\n",
    "What is the better approach? Settle the core issue first and then normalize, or normalize and then tackle the core issue? This is not just an academic question. Those arguing for the former would in effect suggest a standstill in bilateral relations since the core issues are not going to be resolved, given the inflexible and politically difficult positions of all sides. Those in favour of the latter approach in effect would be reconciled to an indefinite status quo since there would be no incentive to tackle the core issue. The debate needs to be joined.'''"
   ]
  },
  {
   "cell_type": "code",
   "execution_count": 3,
   "metadata": {},
   "outputs": [],
   "source": [
    "doc3='''﻿Jack Ma – The Inspirational Story of Alibaba Founder\n",
    "\n",
    "We are all social creatures always looking for fantasy in real life to trigger our thought process and seek inspiration from them. On a daily basis we come across a lot of strangers but we seek inspiration from only a few of them, and what sets them apart is the stories that they have to tell. Even as a child, we grow up listening to stories of how a hero comes to the rescue of his people and his family, we find solace in such stories. Studies have also found that such inspirational stories have a positive effect on our brains and helps us become more emphatic, generous and improve our overall outlook on life.\n",
    "\n",
    "So, today we’ll talk about a story. The story of the life of a man who has impacted the entire economy and internet industry of China almost single-handedly. His life is nothing less than the story of Robert, The Bruce and the Spider, that we were taught as kindergartens. That’s is the story of Jack Ma.\n",
    "\n",
    "Who is Jack Ma?\n",
    "\n",
    "Jack Ma is the founder of the E-commerce giant Alibaba and is a stakeholder at Alipay, it’s sister company which is an e-payment portal. He is now officially the richest man in China with an estimated net worth of $25 Billion, on the back of the recent world record $150 Billion IPO filing of his company. Given all of this, Jack Ma only holds a 7.8% stake in Alibaba and a 50% stake in Alipay. Alibaba and Jack Ma, although are not household names out of China, you must know that Alibaba is worth more than Facebook, and processes goods more than eBay and Amazon combined!\n",
    "\n",
    "This might be beginning to seem like the story of an arrogant and rich billionaire who hasn’t seen the dark. But don’t be mistaken by the numbers that you see above, they can fool anyone. Although as simple as it may sound, Jack Ma has had it hard in his life to get to where he is today. A true rags-to-riches story and definitely a one which will inspire you even in your darkest days.\n",
    "\n",
    "\n",
    "Jack Ma – The Backstory\n",
    "\n",
    "Ma Yun a.k.a. Jack Ma is one of those self-made billionaires with humble beginnings. Jack Ma was born in Hangzhou, located in the south-eastern part of China. He was born and raised along with an elder brother and a younger sister during the rise of communist China and its isolation from the Western regions. His parents were traditional Musicians-Storytellers and they didn’t make enough to be even considered as middle class during those days.\n",
    "Former US president Richard Nixon’s visit to Hangzhou in 1972 improved the situation of tourism in his home-town and Jack wanted to make the most of this opportunity. Jack always wanted to learn English as a kid and he spent his early mornings riding on his bike to a nearby park, giving English tours to foreigners for free. It was then he met a foreign girl who gave him the nickname ‘Jack’ for his name was hard to spell for her.\n",
    "\n",
    "Jack, after graduating with a Bachelor’s degree in English, worked as an English teacher at Hangzhou Dianzi University with a pay of $12 a month! Now here comes the part where it gets more interesting, even before he has received that degree and became an English teacher.\n",
    "\n",
    "Rejected, But Not a Failure.\n",
    "\n",
    "Jack Ma as an extremely lucky bloke who just became a billionaire in a snap. But it is safe to know that Rejections are synonymous with Jack Ma. You wouldn’t believe the number of times this man has been rejected and failed.\n",
    "\n",
    "In his early childhood, Jack Ma Failed in his Primary School examinations, not once, but Twice!  He Failed Thrice during his Middle School exams. When applying to universities after his High school, Jack failed the entrance exams thrice, before finally joining Hangzhou Normal University. He even applied and wrote to Harvard University ten times about being admitted – and got rejected each time. This was only during his education!\n",
    "\n",
    "During and after his Bachelor’s degree Jack tried and failed to get a job at a multitude of places. After spending three years to get into a University, Jack failed to land a job after applying to them 30 times! He recollects in his interview, “When KFC came to China, 24 people went for the job.  Twenty-three people were accepted.  I was the only guy who wasn’t.” He also one of the 5 applicants to a job in Police force and was the only one getting rejected after being told, “No, you’re no good.”\n",
    "\n",
    "Also, on his Entrepreneurial undertakings, Jack Ma went on to fail on two of his initial ventures. But that didn’t stop him in any way of dreaming bigger.\n",
    "Down, but not Out!\n",
    "\n",
    "The Resurrection of Jack Ma\n",
    "\n",
    "In one of his interviews, when asked about his rejections, this is what he had to say, “Well, I think we have to get used to it.  We’re not that good.” Overcoming the pain of rejections and treating rejections as opportunities to learn and grow was what Jack Ma made of it.\n",
    "\n",
    "After finally coming to terms with all of his rejections and failures, Jack Ma visited US in 1995, for a Government undertaking project related to the building of highways. It was then that Jack Ma was first introduced to the Internet and Computers. Computers were pretty rare in China then, given the high costs associated with them and Internet or E-mails were non-existent. The first word he searched on the Mosaic browser was ‘Beer’, and it popped out results from different countries, but signs of China anywhere. He then searched ‘China’ and not a single result popped out! He decided it was time for China and its people to get on the Internet.\n",
    "\n",
    "Finally, after persuading 17 of his other friends to invest and join him in his new e-commerce startup – Alibaba, the company began from his apartment. Initially, Alibaba didn’t had a single penny in investment from outside investors, but they later raised $20 Million from SoftBank and another $5 Million from Goldman Sachs in 1999. Building trust among the people of China that an online system of payment and package transfers is safe was the biggest challenge Jack Ma and Alibaba faced, a challenge that Jack will cherish for his lifetime.\n",
    "\n",
    "Having started his first successful company at the age of 31 and even after never having written a single line of code or selling something to anyone, Jack Ma runs one of the biggest E-commerce networks in the world. The company went on to grow rapidly, expanding all across the world, quickly growing out of its China shell. Only second to Walmart now in terms of sales per year, Alibaba has become the E-commerce giant that Jack Ma has envisioned for it.\n",
    "\n",
    "The Key Takeaway here\n",
    "\n",
    "Jack Ma Full Interview\n",
    "What does all of this lead to? With a positive and childlike demeanor to him, the one who himself draws inspiration from is the real-life ‘Forrest Gump,’ who never considers himself disadvantaged due to events occurred to him.\n",
    "\n",
    "“We keep fighting. We keep changing ourselves. We don’t complain.” -Jack Ma\n",
    "\n",
    "\n",
    "Believing in yourself, Being Persistent in the face of adversities and treating rejections and failures as opportunities to propel yourselves ahead is what Jack Ma’s extraordinary life speaks out to the world. Here are some of my favorite quotes by Jack Ma:\n",
    "\n",
    "Go big or Go home – Jack Ma\n",
    "\n",
    "\n",
    "Never give up. Today is hard, tomorrow will be worse, but the day after tomorrow will be sunshine. -Jack Ma\n",
    "\n",
    "\n",
    "You should learn from your competitor, but never copy. Copy, and you die. Jack Ma\n",
    "\n",
    "\n",
    "This is the story of the exceptionally optimistic and determined Entrepreneur who has changed the face of business and Internet in China and across the world.\n",
    "\n",
    "So what do you think about Jack Ma and his Entrepreneurial journey so for with Alibaba? Shout out your thoughts and comments about this business tycoon below.'''"
   ]
  },
  {
   "cell_type": "code",
   "execution_count": 4,
   "metadata": {},
   "outputs": [],
   "source": [
    "doc4='''The Jammu and Kashmir Issue\n",
    "Recent events have once again generated some curiosity and interest in the issue of Jammu & Kashmir. Basic facts pertaining to this issue are well established. However, there has been a concerted dis-information campaign that presents a distorted historical account of the developments that led to the irrevocable accession of the state of Jammu & Kashmir to India; the subsequent wars inflicted by Pakistan on India and the current situation in the once tranquil and beautiful Kashmir Valley. The involvement of Pakistan in fomenting insurgency and terrorism in the border states of India, especially Jammu & Kashmir, has been well documented and accepted by all impartial observers. While the current violence and disturbances instigated and abetted by Pakistan in the Kashmir Valley are there for all to see, the historical perspective needs to be put in the correct, factual light. The following pages give the factual background of the issue of Jammu & Kashmir.\n",
    "\n",
    "THE JAMMU AND KASHMIR ISSUE\n",
    "\n",
    "Accession to India\n",
    "\n",
    "The Accession of the state of Jammu and Kashmir to India, signed by the Maharaja (erstwhile ruler of the State) on 26th October, 1947, was completely valid in terms of the Government of India Act (1935), Indian Independence Act (1947) and international law and was total and irrevocable. The Accession was also supported by the largest political party in the state, the National Conference. In the Indian Independence Act, there was no provision for any conditional accession. The Instrument of Accession executed by the Maharaja was the same as the ones executed by over 500 princely states in India. There has been no complication in any of the other cases. There would have been none in this case either, except for Pakistan's action in sending in tribal invaders first (in October 1947) and its own regular troops later (May 1948).\n",
    "Lord Mountbatten's acceptance of the Instrument of Accession was unconditional. He said: \"I do hereby accept this Instrument of Accession\". The Instrument of Accession was complete with the offer and acceptance.\n",
    "There can, therefore, be no question of negotiating on the question of accession of the State of Jammu & Kashmir to India.\n",
    "\n",
    "Reference to UN\n",
    "India made a reference to the United Nations on 1st January 1948 under Article 35 of the Charter, which permits any member state to bring any situation, whose continuance is likely to endanger international peace and security, to the attention of the Security Council. The intention behind this reference was to prevent a war between the two newly independent countries, which would have become increasingly likely if the tribal invaders assisted first indirectly and then actively by the Pakistan army had persisted with their actions against India in Kashmir. The Government of India requested the Security Council \"to put an end immediately to the giving of such assistance which was an act of aggression against India”.\n",
    "Pakistan consistently misled the world regarding its involvement in Kashmir: (a) It claimed initially in 1947 that it was not in any way assisting the tribal invaders and was only not actively opposing their passage out of fear that they may turn against the local Pakistani population. It was, however, clearly established that these invaders were being looked after in Pakistan territory, fed, clothed, armed and otherwise equipped and transported to J&K with the help, direct and indirect, of Pakistani officials, both military & civil. The first Governor General of Pakistan, Mohammad Ali Jinnah claimed in a meeting with the then Governor General of India Lord Mountbatten that he was in a position \"to call the whole thing off\" subject to some of his demands being met. (b) Pakistan later claimed that its own forces were not involved directly in operations in Kashmir. But the UN Commission that visited India in July 1948 found Pakistani forces operating in Pakistan occupied Kashmir. The UNCIP Resolution of August 1948 documented the Pakistani aggression when it stated: \"The presence of troops of Pakistan in the territory of the state of Jammu and Kashmir constitute a material change in the situation since it was represented by the Government of Pakistan before the Security Council”. The UN sponsored mediator, Owen Dixon, was also constrained to record in his report of 15.9.1950 that \"I was prepared to adopt the view that when the frontier of the State of J&K was crossed, on I believe 20 October 1947, by hostile elements, it was contrary to international law, and that when, in May 1948 as I believe, units of the regular Pakistan forces moved into the territory of the state that too was inconsistent with international law\".\n",
    "\n",
    "Non-implementation of UN Resolutions by Pakistan\n",
    "Despite India's completely legal and valid position on Jammu & Kashmir, in order to find a solution to the situation created by Pakistan's aggression, India had accepted the option of holding a plebiscite in J&K. It had, however, been made clear by the Indian leaders that holding of such a plebiscite would be conditional upon Pakistan fulfilling Parts (I) & (II) of the UNCIP resolutions of 13 August, 1948, which inter alia, required that all forces regular and irregular under the control of both sides shall cease fire; Pakistan would withdraw its troops, it would endeavour to secure withdrawal of tribesmen and Pak nationals and India will withdraw bulk of its forces once the UNCIP confirms that the tribesmen and Pak nationals have withdrawn and Pak troops are being withdrawn. India was also to ensure that the state government takes various measures to preserve peace, law and order. Indian acceptance of these UNCIP resolutions was also subject to several conditions and assurances given by UNCIP including that Pakistan would be excluded from all affairs of Jammu & Kashmir, \"Azad J & K Government\" would not be recognised, sovereignty of J & K government over the entire territory of the state shall not be brought into question, territory occupied by Pakistan shall not be consolidated, and Pakistani troops would be withdrawn completely. Pakistan never fulfilled these assurances.\n",
    "\n",
    "Preconditions for Plebiscite Never Fulfilled by Pakistan\n",
    "The Government of Pakistan wrecked any possibility of plebiscite being conducted by not implementing part II of the resolution, perhaps because it was fully aware of what the result of such an exercise would be. The Pakistani troops, which were to withdraw from the state, did not do so. As a result normal conditions under which a plebiscite could be held were never created.\n",
    "India had accepted these resolutions, subject to assurances, (mentioned in para 6) and in the hope of having the matter resolved quickly. Pakistan, however, wrecked the implementation of the resolutions at that time by not fulfilling the preconditions. As V.K. Menon stated in the Security Council (763 Meeting, 23 January, 1957): \"if an offer is made and it is not accepted at the time it is made, it cannot be held for generations over the heads of those who made it\". With Pakistan's intransigence, and passage of time, the offer lapsed and was overtaken by events. In fact, the representative of India (M.C. Chagla) had stated in the Security Council as far back as 1964 (1088 meeting, 5 February 1964): \"I wish to make it clear on behalf of my Government that under no circumstances can we agree to the holding of a plebiscite in Kashmir\".\n",
    "The then Prime Minister of India, had in a statement in New York, stated on March 31, 1966 that: \"any plebiscite today would by definition amount to questioning the integrity of India. It would raise the issue of secession - an issue on which even the United States fought a civil war not so very long ago. We cannot and will not tolerate a second partition of India on religious grounds. It would destroy the very basis of the Indian State.\" Today, thirty-six years later, the Pakistani position is even more untenable.\n",
    "\n",
    "Solution Proposed by Resolutions: Time and Context Specific\n",
    "Since 1957 there have been no UN resolutions on the substantive aspects of the Jammu and Kashmir issue. Time and circumstances have not stood still. More than four and a half decades have lapsed since the original proposals were made as a possible solution. They can no longer be considered valid. In fact, in his report (dated 29th April, 1957), the UN Representative, who was then President of the Security Council, Gunnar Jarring, after completing his mission to India and Pakistan in 1957, took note of larger realities of the sub-continent including in Jammu and Kashmir and stated: \"The Council will, furthermore, be aware of the fact that the implementation of international agreements of an ad hoc character, which has not been achieved fairly speedily, may become progressively difficult because the situation with which they were to cope has tended to change\".\n",
    "Dr. Frank Graham, the UNCIP representative stated in March 1958: \"…the execution of the provisions of the resolution of 1948 might create more serious difficulties than were foreseen at the time the parties agreed to that. Whether the UN representative would be able to reconstitute the status quo which it had obtained ten years ago would seem to be doubtful….”.\n",
    "Over fifty years after Partition, the ground situation in the state to which the resolutions referred to has considerably changed. Pakistan unilaterally ceded a part of the state to China in 1963. There has been a demographic change on the Pakistani side with generations of non-Kashmiris allowed to take residence in the parts of J&K occupied by Pakistan. If the resolutions had begun to lose relevance in 1957, they have far less relevance now.\n",
    "The above position is increasingly being acknowledged by the world today. Highlighting the fact that the UNCIP resolutions did not come under Chapter VII, and were therefore not self enforcing, the UN Secretary General stated at a press conference in Islamabad in March 2001, that \"the two parties discussing these issues and finding a peaceful way out, is the route I recommend”.\n",
    "It is now widely acknowledged that bilateral dialogue, in accordance with the Simla Agreement, reiterated in the Lahore Declaration, is the only way to address all bilateral issues between India and Pakistan, including the issue of J&K. UK’s Secretary of State for Foreign and Commonwealth Affairs, stated in the British Parliament on 10th June 2002, that \"if United Nations resolutions could have solved the matter, it would have been solved more than 50 years ago”. Speaking for the British Government, he said, \"we think that there is not a huge amount of point in getting in a historiographical exercise about which position is correct. We have to deal with the here and now”, adding that a solution to this issue could be found only \"by looking forward and by a direct dialogue between those two sovereign nations, India and Pakistan”.\n",
    "\n",
    "Choice Made by the People of J&K and Elections in Kashmir\n",
    "The people of Jammu and Kashmir could not wait indefinitely to decide their future. In any case the UN resolutions did not recognise or grant any role to Pakistan in the conduct of the plebiscite. \"If Pakistan, therefore, has no part in the plebiscite, it really became a domestic matter for India\". (V.K. Krishna Menon, UNSC, 800th meeting, 11 November, 1957). India waited several years for Pakistan to fulfil the preconditions. When that did not happen, the people of Jammu and Kashmir then convened a Constituent Assembly in 1951, which once again reaffirmed the Accession of the State to India in 1956 and finalised the Constitution for the State. The Jammu and Kashmir Constitution reaffirms that \"the State is and shall be an integral part of the Union of India.\"\n",
    "The people, therefore, were consulted. \"We did not consult them privately; we did not consult them by selecting the people who were to be consulted. We consulted them by a normal process of democratic election - not even for a Parliament which we established, or the existing Government of Kashmir established, but for a Constituent Assembly\". (V.K. Krishna Menon, UNSC, 800 Meeting, 11 November, 1957). In several subsequent local, State and national elections the people of Jammu and Kashmir have repeatedly exercised their democratic choice.\n",
    "\n",
    "India Pakistan Discussions on J&K\n",
    "India has always been willing to discuss all issues, including the issue of Jammu & Kashmir, with Pakistan. In fact, in the decades of the ‘50s and ‘60s, several rounds of bilateral discussions took place between India and Pakistan over 1950-51, 1953-54, 1956-57 and 1962-63, to resolve the differences over Kashmir. J&K is also one of the eight subjects identified for dialogue under the Composite Dialogue set up at India's initiative in 1998. A perusal of the records of these meetings makes it clear that they failed in their endeavour only because of Pakistan's intransigent, unrealistic, and on occasions, unifocal approach, which did not take into account either the moral and juridical aspects of the issue or the existing realities.\n",
    "As in the UNSC, during these bilateral discussions, Pakistan has sought parity with India in terms of locus standi in Kashmir. This is untenable since the erstwhile ruler of J&K had duly acceded to India, the largest popular party had endorsed the Accession, and the people had subsequently ratified the earlier decisions. Pakistan, as the aggressor could not have parity with India, with which the accession of Jammu and Kashmir was complete and final.\n",
    "\n",
    "1965 War: Its Implications\n",
    "Pakistan tried to impose a military solution on J&K yet again in 1965, by instigating a war against India. The people of J&K resisted this new invasion. Pakistan's failure to impose this military solution and the efforts of the people of J&K to thwart the aims and designs of the Pakistani invaders are well documented.\n",
    "By imposing a war, Pakistan negated the very reason for which a reference had been made to the UN in 1948. All the arrangements that were arrived at with Pakistan through the instrumentality of the Security Council were based on the integrity and inviolability of the cease-fire line established after the 1947-48 skirmishes. By violating this line in 1965, Pakistan rendered obsolete and dead the resolutions of 1948 and 1949, in the context of which the Cease-Fire Line had been established through the Karachi Agreement of 1949.\n",
    "\n",
    "Simla Agreement - Its Implications\n",
    "Pakistan imposed yet another war on India in 1971. After this conflict, bilateral talks were held in June-July 1972 and the 'Simla Agreement' signed on 2 July 1972. In terms of this Agreement, which was duly ratified by the two Governments in 1972 itself, the two countries undertook to resolve all differences bilaterally and peacefully. Pakistan, through its commitments enshrined in this Agreement, accepted the need to shift the J&K issue from the UN to the bilateral plane.\n",
    "India’s stand has been clearly enunciated. Jammu and Kashmir is an integral part of India. While India is prepared to resolve all differences with Pakistan through bilateral talks as envisaged in the Simla Agreement, there can be no compromise on India’s unity and sovereignty. The issue that remains to be resolved is the vacation by Pakistan of territory illegally occupied by it.\n",
    "For meaningful bilateral negotiations, Pakistan must create the right climate by stopping its support to terrorism. There must be tangible and credible evidence of this on the ground. The Simla Agreement reiterated in the Lahore Declaration expressly forbids hostile propaganda, interference in internal Affairs and encouragement of any acts detrimental to maintenance of peaceful and harmonious relations. It also enjoins respect for each other’s territorial integrity and sovereignty. Pakistan is violating all these provisions.\n",
    "\n",
    "The Lahore visit of the Prime Minister of India\n",
    "Prime Minister A. B. Vajpayee took a historic initiative and visited Lahore from February 20-21, 1999. The visit was aimed at conveying India’s deep desire to establish peaceful, co-operative and friendly ties with Pakistan. Prime Minister Vajpayee proclaimed from the Minar-e-Pakistan that a stable, secure and prosperous Pakistan was in India’s interest. The Lahore Declaration, which committed the two countries to build trust and confidence and develop mutually beneficial co-operation to resolve outstanding issues including J&K through bilateral negotiations, provided a blue print for India-Pakistan relations into the 21st Century.\n",
    "\n",
    "Kargil\n",
    "However, the ink had barely dried on the Lahore Declaration that the Pakistani Army manifested its compulsive hostility towards India by launching a military operation in May 1999 across LoC in an attempt to occupy dominating heights along a 140 Km long stretch of Srinagar-Leh Highway. Its aim was to create a situation by which Pakistan would dominate the strategically important Kargil heights. India’s firm response forced Pakistani troops to retreat to their side of LoC. India’s policy of maintaining the sanctity of the LoC and the tremendous restraint shown by India in its firm action against the intruders without crossing the LoC found wide international support and endorsement.\n",
    "\n",
    "Agra Summit\n",
    "Notwithstanding, the continued sponsorship of cross border terrorism, on May 23, 2001 India again took the initiative to establish a high level political dialogue with Pakistan by inviting General Musharraf to visit India. The Pakistani President General Musharraf visited India from July 14-16, 2001 and had talks with Prime Minister Vajpayee in Agra. However, during the Summit, Pakistan demonstrated a unifocal approach, fixated entirely on one question and sought to make any improvement in relations conditional on prior resolution of the Kashmir issue. Pakistan was also reluctant to address India’s concerns relating to cross border terrorism. The hopes of forward movement in bilateral relations thus remained largely unattained.\n",
    "Pakistan’s Interference and Support to Terrorism\n",
    "The present situation in Kashmir has been created by Pakistan’s support to terrorism. This support to cross border terrorism is not only an attempt to unilaterally alter the status quo on the ground but also to undermine India’s secular fabric.\n",
    "Pakistan’s support to cross border terrorism against India is now openly acknowledged by the international community. The Secretary of State for Foreign and Commonwealth Affairs of the UK Government stated in the British Parliament on 10th June 2002, \"A number of terrorist organisations-including Lashkar-e-Toiba, Jaish-e-Mohammed and Harkat-ul-Mujahideen, each of which I proscribed when I was Home Secretary-have been at the forefront of violent activity in the region. India has long charged that such terrorism has had the covert support of successive Pakistani Governments and, in particular, of the main intelligence agency in Pakistan, the Inter-Service Intelligence Directorate-ISID. Her Majesty’s Government accept that there is a clear link between the ISID and those groups”.\n",
    "US Secretary of State, Colin Powell stated on 10th June 2002, \"Two weeks ago, we got assurances from President Musharraf that he would cease infiltration activity across the line of control… And then Deputy Secretary Armitage over this past week end got further assurances that cessation of activity would be visible and would be permanent and would be followed by other activities that had to do with the dismantling of the camps that led to the capacity to conduct these kinds of operation”.\n",
    "The section on Pakistan in the Annual Report on Patterns of Global Terrorism 2000 stated, \"Pakistan’s military government, headed by Gen. Pervez Musharraf, continued previous Pakistani Government support of the Kashmir insurgency, and Kashmiri militant groups continued to operate in Pakistan, raising funds and recruiting new cadre”. The report further said that HUM, a State Department designated Foreign Terrorist Organisation, continued to be \"active in Pakistan without discouragement by the Government of Pakistan”.\n",
    "Through his January 12 and May 27 addresses President Musharraf made two promises. Firstly, that Pakistan will not allow its territory to be used to promote terrorism anywhere in the world. Secondly, that no organisation will be allowed to indulge in terrorism in the name of Kashmir.\n",
    "\n",
    "Non-Applicability of ‘Self-determination’ to Integral Parts of States\n",
    "Under the UN Charter, the principles of self-determination are meant to apply to colonial territories and not to integral parts of countries. Pakistan’s harping on \"self-determination” today, against the principles advocated by the founders of Pakistan, are only a cover for territorial ambitions. The principles being espoused by Pakistan pose severe dangers to several countries in the world where multi-ethnic and multi-religious societies co-exist.\n",
    "\n",
    "Kashmir Developments – An Internal Matter for India\n",
    "In a diverse country like India, disaffection and discontent are not uncommon. Indian democracy has the necessary resilience to accommodate genuine grievances within the framework of our sovereignty, unity and integrity. Government of India has expressed its willingness to accommodate the legitimate political demands of the people of the state of J&K. However, Pakistan sponsored terrorists have terrorised the population and hindered political dialogue by intimidating or silencing voices of moderation that wish to engage in dialogue. The human rights of the people of J&K have been systematically violated by such terror tactics and the kidnappings and killings of innocent people by terrorists.\n",
    "Jammu & Kashmir is an integral part of India. There can be no compromise on India’s unity and integrity.'''"
   ]
  },
  {
   "cell_type": "code",
   "execution_count": 5,
   "metadata": {},
   "outputs": [],
   "source": [
    "doc5='''﻿Lebanon's prime minister has announced his government's resignation, less than a week after a huge explosion tore through capital Beirut, causing unprecedented public outrage.\n",
    "\n",
    "The blast at Beirut's port on August 4 killed at least 171 people, with some 30 others missing and more than 6,000 wounded. Anger over the incident spilled on to the streets with thousands demanding major reforms in the country.\n",
    "\n",
    "For many common Lebanese, the explosion was the last straw in a protracted crisis over the collapse of the economy, corruption, waste and dysfunctional governance.On Monday, Prime Minister Hassan Diab quit along with his cabinet, saying the blast was the result of \"endemic corruption\" in Lebanon.\n",
    "\n",
    "Here is a timeline of how the events unfolded:\n",
    "August 4 \n",
    "A fire is reported at Beirut's only port, leading to the explosion that killed dozens - many other dead were buried in rubble and found later - and destroyed properties and buildings in the vicinity and several kilometres away.\n",
    "\n",
    "The explosion displaced some 300,000 people, leaving the city with billions of dollars in damage.\n",
    "August 5 \n",
    "Diab declares a two-week state of emergency in Beirut, effectively giving the military full powers to tackle what was the worst such accident in Lebanon's history.\n",
    "\n",
    "Lebanon's High Defence Council, which brings together the president and all major security agencies, declares Beirut a disaster-stricken city.\n",
    "\n",
    "Diab reveals the port contained almost 3,000 tonnes of ammonium nitrate that had been stored for six years after a ship brought it in 2013.\n",
    "August 6 \n",
    "French President Emmanuel Macron visits the scene of the blast in Beirut, promising he would convene an international conference with the European Union, the United States and regional countries to gather the much-needed humanitarian aid.\n",
    "\n",
    "Macron warns that without reform and action against corruption, the country could start running out of fuel and food within months, \"and that will be the fault of those who refuse to act today\".\n",
    "\n",
    "Protests break out across Lebanon as angry demonstrators demand \"revenge\" over the deadly explosion.\n",
    "\n",
    "Meanwhile, Judge Fadi Akiki, a government representative at Lebanon's military court, says 16 port employees were arrested over the incident.\n",
    "August 7 \n",
    "\n",
    "The death toll from the explosion rises to 157 and 5,000 wounded, according to the Lebanese officials.\n",
    "\n",
    "Boris Prokoshev, the former captain of the ship that brought almost 3,000 tonnes of ammonium nitrate to Beirut, says Lebanese authorities were \"very well\" aware of the dangers posed by the vessel's cargo.\n",
    "\n",
    "The EU releases 33 million euros ($38m) for Lebanon to cover immediate costs and emergency services.\n",
    "August 8\n",
    "Prime Minister Diab calls for early elections, saying it was the only way out of the country's crisis. He says he will introduce a draft bill proposing early polls.\n",
    "\n",
    "Lebanon's Kataeb Party, a Christian group which opposed the Hezbollah-backed government, announces the resignation of three of its MPs from parliament.\n",
    "\n",
    "Protesters storm various government buildings in Beirut, including the foreign ministry, as riot police fire tear gas to break up the crowds.\n",
    "\n",
    "More than 700 people reportedly wounded in the protests and one policeman killed.\n",
    "August 9\n",
    "International leaders join a virtual donor conference led by France and the United Nations, pledging nearly $300m in humanitarian assistance that will be \"directly delivered to the Lebanese population\".\n",
    "\n",
    "Information Minister Manal Abdel Samad submits her resignation, saying the country had reached \"a point of no return\" and that Diab's government had failed to live up to people's expectations.\n",
    "\n",
    "She becomes the first among cabinet ministers to quit over the tragedy. Later that day, Environment Minister Damianos Kattar also resigns from his post.\n",
    "August 10\n",
    "Iran says other countries should refrain from politicising the Beirut blast and demanded that the US should lift sanctions against Lebanon.\n",
    "\n",
    "The head of the UN food agency says he was \"very, very concerned\" Lebanon could run out of bread in less than three weeks because 85 percent of the country's grain came through Beirut's devastated port.\n",
    "\n",
    "Towards the end of the day, Diab announces his government's resignation in a televised address, in which he says he was taking \"a step back\" so he could stand with the people \"and fight the battle for change alongside them\".\n",
    "\n",
    "President Michel Aoun accepted the resignation and asked Diab to continue in a caretaker capacity until a new government is formed.'''"
   ]
  },
  {
   "cell_type": "code",
   "execution_count": 6,
   "metadata": {},
   "outputs": [],
   "source": [
    "doc6='''Covid-19 in India\n",
    "The Chronicle of a Pandemic Foretold\n",
    "\n",
    "India could not have prevented the entry of Covid-19 but it could have responded better to the warning signs of January. If it had, it could have reduced the toll this disease will now take and the hasty imposition of the lockdown could have been avoided.\n",
    "On 23 January 2020, the city of Wuhan in central China imposed public health measures of a stringency the world had not seen in recent times, to stamp out the new coronavirus disease, Covid-19. Roads in and out of the city were blocked; trains and flights were cancelled. In the days that followed, as the virus continued to spread unabated, restrictions became progressively more stringent. The city’s 11 million people were more or less locked in their homes. As the ripples of infection spread wider, similar restrictions were imposed on other cities in China.\n",
    "\n",
    "India watched this drama unfold in real-time and was given plenty of warning about how quickly the virus could spread, and the enormous impact it could have on hospitals, doctors, nurses, and health care workers. The first infection in India was detected as early as 30 January.\n",
    "\n",
    "The initial epidemiological studies from Wuhan indicated that around 80% of those infected had mild symptoms. The real issue would be with the 20% who required hospitalisation and intensive care, of which half would require respiratory support through ventilators and other oxygenating devices. Wuhan had to construct two 1,000-bed hospitals exclusively to care for coronavirus patients from the city.\n",
    "\n",
    "When there were warnings from January about the nature of this virus and the experience of China, how did it happen that India was forced to resort, in end-March, to a hastily thought out 21-day nationwide lockdown?\n",
    "\n",
    "Simple modelling at the end of January or February, when the basic parameters of Covid-19 were well known, would have indicated that if the disease took hold, India would need to be ready for a wave of patients requiring intensive care. This would have required identifying beds and identifying and training personnel to deal with critically ill patients without getting infected themselves. It would have involved ensuring there were enough gloves, masks, and other protective equipment for frontline healthcare workers. It would have meant ensuring there was enough capacity in the country to test for the disease as numbers surged.\n",
    "\n",
    "When there were warnings from January about the nature of this virus and the experience of China, how did it happen that India was forced to resort, in end-March, to a hastily thought out 21-day nationwide lockdown? Why could not the country begin preparing for a possible lockdown from earlier? Why could not the public have been taken into confidence and prepared for what was to come? Why were economic safety nets not put in place for the vulnerable?\n",
    "\n",
    "Except in a few states, none of these early warnings appears to have been taken seriously until around the second half of March, by when six weeks if not more of valuable preparation time were lost. Thus on March 22, when case numbers were climbing sharply, Cabinet Secretary Rajeev Gauba was still urging state chief secretaries to immediately identify hospitals to be set aside for treatment of Covid-19 cases. Two days later, this was followed up by another letter to the states:\n",
    "\n",
    "“[Y]ou will appreciate at this stage the highest priority needs to be accorded to establishing medical facilities such as hospitals, clinical labs, isolation ward and expanding and upgrading existing facilities to combat the challenge posed by COVID-19. These facilities need to be well equipped with ventilators, PPE [personal protective equipment], masks and drugs to treat the patients. There is also a need to create adequate isolation facilities to prevent further infections. The medical, paramedical and sanitation staff needs to be trained to attend the affected persons.”\n",
    "These letters are remarkable both for their timing as well as the assumptions they made. In terms of timing, letters like this, asking states to start planning hospital capacity, should have gone out in early February, when it was clear the disease was spreading internationally. Once case numbers had started rising, and infected people had started popping up in most states, as they had by March, the time for planning was over. The time for action had begun.\n",
    "\n",
    "The assumptions the Cabinet Secretary’s letter made in terms of “establishing medical facilities” were unrealistic, given the historically underfunded Indian public health infrastructure. How were “hospitals, clinical labs and isolation wards” to be established at the drop of a hat? How were these facilities to be “well equipped with ventilators, PPE, masks and drugs” when at the best of time government hospitals are chronically short of equipment?\n",
    "\n",
    "The tragedy of workers without jobs trudging along empty highways... will be one illustration of the haste and lack of preparedness that went into the decision.\n",
    "\n",
    "A Reuters news report cited a study by Invest India, the government’s investment promotion agency, that the country would require 3.8 crore masks, compared with the 91 lakh available at the end of March with manufacturers. With businesses locked down and supply chains disrupted, it is late in the day to only now be thinking about procuring masks and other equipment for an epidemic that is beginning to take off.\n",
    "\n",
    "Ventilators are crucial to keep alive those whose lungs have been damaged by the virus. The Centre for Disease Dynamics, Economics and Policy at Johns Hopkins University, as reported in the Mint, estimated that India had between 30,000–50,000 ventilators available, but demand was likely to surge to around 10 lakhs by July as patient numbers rose. With a global shortage of ventilators, meeting this number could clearly be a challenge.\n",
    "\n",
    "Similarly, the Cabinet Secretary asking that “medical, paramedical and sanitation staff be trained” to handle these patient numbers was unrealistic given the unfilled vacancies of medical staff at every level in many states.\n",
    "\n",
    "A False Sense of Security\n",
    "It will be a task for the future to reconstruct when the government woke up to the full magnitude of the epidemic that could hit the country. The Prime Minister’s “Janata Curfew” on 22 March, followed by a nationwide lockdown for 21 days from 25 March, were signs of a realisation that the epidemic was about to explode, and the only way to slow it down and buy time to prepare was through this lockdown. The economic and social cost of the lockdown will be immense, particularly on those who depend on a daily wage to feed themselves.\n",
    "\n",
    "The extent to which the lockdown slows the speed of the epidemic remains to be seen. If we are lucky, the lockdown would have given a few more weeks of time to ward off the full fury of the epidemic. The tragedy of workers without jobs trudging along empty highways and under the scorching sun for hundreds of kilometres to try and get back to their villages will be one of the defining images of this pandemic and an illustration of the haste and lack of preparedness that went into the decision.\n",
    "\n",
    "India has stoutly maintained that it has been on the ball from day one and was fully prepared to tackle the disease. On 28 March, the government's Press Information Bureau responded to criticism that the lockdown had been poorly planned. It described India's response from January onwards as “pre-emptive, pro-active and graded.” It also provided a timeline to demonstrate the speed with which the government introduced screening of travellers from China and elsewhere.\n",
    "\n",
    "It is true that India responded quickly and began screening travellers from China on 18 January. This was an essential first step to take. Those bringing the virus into the country had to be isolated and prevented from spreading it further. International airports across the country began screening travellers, largely by asking them to fill in self-declaration forms. Those who said they had fever were screened and sent to hospitals. Travellers with no symptoms were only required to get in touch with health authorities if they developed symptoms.\n",
    "\n",
    "Since airport screening was focussed on symptoms, a good proportion of infected but asymptomatic people would have got through the screening process.\n",
    "\n",
    "This form of screening probably gave a false sense of security. Some states like Kerala took airport screening and follow-up of suspected cases seriously and started detecting travellers with the virus. Other states were more lax, and fewer cases were detected. The relatively small number of cases detected, and the large numbers of travellers screened allowed the government to say that the country had been successful in keeping the disease at bay.\n",
    "\n",
    "But the government must also have been aware that travel restrictions were not going to keep the epidemic out of India. A modelling study in February by a team of scientists at the Indian Council of Medical Research (ICMR), that included the head of epidemiology Dr Raman Gangakhedkar, showed that even under a best-case scenario, where all travellers with symptoms were identified at airports and isolated, the restrictions would not keep the disease out of the country.\n",
    "\n",
    "This was because a certain proportion of those infected by the virus, up to half by some estimates, are either pre-symptomatic or asymptomatic. Despite not presenting symptoms, they are capable of passing on the disease to others. Since airport screening was focussed on symptoms, a good proportion of infected but asymptomatic people would have got through the screening process.\n",
    "\n",
    "Also, once they left the airport, the follow-up of travellers who might be carrying the disease was far from perfect. The Cabinet Secretary in a letter on March 26 to state chief secretaries pointed out that not all of the 15 lakh passengers screened at airports were followed up by state governments for surveillance. In other words, airport screening was a process that at the best of time, bought a little extra time to prepare for a full-scale explosion of disease across the country. It was not an indication that Covid-19 had been kept out of India.\n",
    "\n",
    "Faulty Protocols\n",
    "The false sense of security that airport screening provided was backed up by low reported figures of Covid-19 cases in India. These reported figures could have been low because of the testing guidelines from the ICMR. The protocols that were in place until mid March only required travellers from Covid-affected countries to be tested if they exhibited symptoms within a 14-day period of home quarantine. Those who did not develop symptoms were given an all clear.\n",
    "\n",
    "Data from patients in Wuhan showed that 99% of infected patients would develop symptoms in 14 days, there would still be 1% who would slip through and go on to infect others. Testing could have plugged this gap. Similarly, while contacts of those who tested positive were also placed in home quarantine, they too were only tested if they exhibited symptoms within 14 days. A small percentage of infected cases might not have exhibited symptoms. Wider testing would have prevented them from spreading the virus wider.\n",
    "\n",
    "It was only on 20 March that the guidelines were broadened to test all hospitalised patients with severe respiratory illness, as well as asymptomatic contacts of confirmed Covid-19 patients.\n",
    "\n",
    "The ICMR’s testing protocol did not even require all suspect Covid-19 cases to be tested. The ICMR (and the WHO) definition of a suspect Covid-19 case included anyone with severe acute respiratory illness which could not be satisfactorily explained by any alternate diagnoses. Logically, these cases should have been tested to get an indication of how far the disease was spreading.\n",
    "\n",
    "ICMR scientists who appeared at daily press briefings repeatedly defended this restrictive testing regime on the grounds that it was more than enough to detect possible cases. This was despite the evidence that countries such as Singapore and South Korea, that had widened testing, had greater success in stopping the spread than the United Kingdom and the United States, which like India did not rigorously test suspect cases.\n",
    "\n",
    "It was only on 20 March that the guidelines were broadened to test all hospitalised patients with severe respiratory illness, as well as asymptomatic contacts of confirmed Covid-19 patients. For the first time, healthcare workers were also included if they developed symptoms. There was no explanation from ICMR on why the guidelines were expanded, after all this while being described as being more than adequate.\n",
    "\n",
    "The logic of the 21-day lockdown is to slow the rate at which this virus transmits and buy more time... It will not stop the virus transmitting.\n",
    "\n",
    "Reading between the lines, it was clear that there was a shortage of testing capacity, both in terms of labs that were authorised to test as well as in supplies of probes for the tests, which had to be imported. It was only in the middle of March that more laboratories in universities and research institutions as well as private testing firms were roped in. This could have been done significantly earlier. More cases might have been detected and isolated to slow the spread of the disease. More extensive testing might have meant that the current lockdown would not have been necessary.\n",
    "\n",
    "The logic of the 21-day lockdown is to slow the rate at which this virus transmits and buy more time to prepare the health system for an influx of severely ill patients. It will not stop the virus transmitting. Wuhan went into lockdown in January. The lockdown has begun to be relaxed and businesses are just reopening. It is only now that Wuhan has stopped reporting new cases though the local Communist Party chief has warned of a possible resurgence of the disease.\n",
    "\n",
    "In India, the numbers are still rising steadily, and different epidemiological models estimate two to three months of rising numbers before the figures begin to plateau and eventually fall. The human cost in terms of illness and death is likely to be large. India could not have avoided this epidemic. The question is whether better preparation of the health system, as well as the public at large could have helped to reduce the toll this disease will take.'''"
   ]
  },
  {
   "cell_type": "code",
   "execution_count": 7,
   "metadata": {},
   "outputs": [],
   "source": [
    "doc7='''I am honored to be with you today at your commencement from one of the finest universities in the world. I never graduated from college. Truth be told, this is the closest I’ve ever gotten to a college graduation. Today I want to tell you three stories from my life. That’s it. No big deal. Just three stories.\n",
    "\n",
    "Related to this story\n",
    "2005 Stanford Commencement coverage\n",
    "The first story is about connecting the dots.\n",
    "\n",
    "I dropped out of Reed College after the first 6 months, but then stayed around as a drop-in for another 18 months or so before I really quit. So why did I drop out?\n",
    "\n",
    "It started before I was born. My biological mother was a young, unwed college graduate student, and she decided to put me up for adoption. She felt very strongly that I should be adopted by college graduates, so everything was all set for me to be adopted at birth by a lawyer and his wife. Except that when I popped out they decided at the last minute that they really wanted a girl. So my parents, who were on a waiting list, got a call in the middle of the night asking: “We have an unexpected baby boy; do you want him?” They said: “Of course.” My biological mother later found out that my mother had never graduated from college and that my father had never graduated from high school. She refused to sign the final adoption papers. She only relented a few months later when my parents promised that I would someday go to college.\n",
    "\n",
    "And 17 years later I did go to college. But I naively chose a college that was almost as expensive as Stanford, and all of my working-class parents’ savings were being spent on my college tuition. After six months, I couldn’t see the value in it. I had no idea what I wanted to do with my life and no idea how college was going to help me figure it out. And here I was spending all of the money my parents had saved their entire life. So I decided to drop out and trust that it would all work out OK. It was pretty scary at the time, but looking back it was one of the best decisions I ever made. The minute I dropped out I could stop taking the required classes that didn’t interest me, and begin dropping in on the ones that looked interesting.\n",
    "\n",
    "It wasn’t all romantic. I didn’t have a dorm room, so I slept on the floor in friends’ rooms, I returned Coke bottles for the 5¢ deposits to buy food with, and I would walk the 7 miles across town every Sunday night to get one good meal a week at the Hare Krishna temple. I loved it. And much of what I stumbled into by following my curiosity and intuition turned out to be priceless later on. Let me give you one example:\n",
    "\n",
    "Reed College at that time offered perhaps the best calligraphy instruction in the country. Throughout the campus every poster, every label on every drawer, was beautifully hand calligraphed. Because I had dropped out and didn’t have to take the normal classes, I decided to take a calligraphy class to learn how to do this. I learned about serif and sans serif typefaces, about varying the amount of space between different letter combinations, about what makes great typography great. It was beautiful, historical, artistically subtle in a way that science can’t capture, and I found it fascinating.\n",
    "\n",
    "None of this had even a hope of any practical application in my life. But 10 years later, when we were designing the first Macintosh computer, it all came back to me. And we designed it all into the Mac. It was the first computer with beautiful typography. If I had never dropped in on that single course in college, the Mac would have never had multiple typefaces or proportionally spaced fonts. And since Windows just copied the Mac, it’s likely that no personal computer would have them. If I had never dropped out, I would have never dropped in on this calligraphy class, and personal computers might not have the wonderful typography that they do. Of course it was impossible to connect the dots looking forward when I was in college. But it was very, very clear looking backward 10 years later.\n",
    "\n",
    "Again, you can’t connect the dots looking forward; you can only connect them looking backward. So you have to trust that the dots will somehow connect in your future. You have to trust in something — your gut, destiny, life, karma, whatever. This approach has never let me down, and it has made all the difference in my life.\n",
    "\n",
    "My second story is about love and loss.\n",
    "\n",
    "I was lucky — I found what I loved to do early in life. Woz and I started Apple in my parents’ garage when I was 20. We worked hard, and in 10 years Apple had grown from just the two of us in a garage into a $2 billion company with over 4,000 employees. We had just released our finest creation — the Macintosh — a year earlier, and I had just turned 30. And then I got fired. How can you get fired from a company you started? Well, as Apple grew we hired someone who I thought was very talented to run the company with me, and for the first year or so things went well. But then our visions of the future began to diverge and eventually we had a falling out. When we did, our Board of Directors sided with him. So at 30 I was out. And very publicly out. What had been the focus of my entire adult life was gone, and it was devastating.\n",
    "\n",
    "I really didn’t know what to do for a few months. I felt that I had let the previous generation of entrepreneurs down — that I had dropped the baton as it was being passed to me. I met with David Packard and Bob Noyce and tried to apologize for screwing up so badly. I was a very public failure, and I even thought about running away from the valley. But something slowly began to dawn on me — I still loved what I did. The turn of events at Apple had not changed that one bit. I had been rejected, but I was still in love. And so I decided to start over.\n",
    "\n",
    "I didn’t see it then, but it turned out that getting fired from Apple was the best thing that could have ever happened to me. The heaviness of being successful was replaced by the lightness of being a beginner again, less sure about everything. It freed me to enter one of the most creative periods of my life.\n",
    "\n",
    "During the next five years, I started a company named NeXT, another company named Pixar, and fell in love with an amazing woman who would become my wife. Pixar went on to create the world’s first computer animated feature film, Toy Story, and is now the most successful animation studio in the world. In a remarkable turn of events, Apple bought NeXT, I returned to Apple, and the technology we developed at NeXT is at the heart of Apple’s current renaissance. And Laurene and I have a wonderful family together.\n",
    "\n",
    "I’m pretty sure none of this would have happened if I hadn’t been fired from Apple. It was awful tasting medicine, but I guess the patient needed it. Sometimes life hits you in the head with a brick. Don’t lose faith. I’m convinced that the only thing that kept me going was that I loved what I did. You’ve got to find what you love. And that is as true for your work as it is for your lovers. Your work is going to fill a large part of your life, and the only way to be truly satisfied is to do what you believe is great work. And the only way to do great work is to love what you do. If you haven’t found it yet, keep looking. Don’t settle. As with all matters of the heart, you’ll know when you find it. And, like any great relationship, it just gets better and better as the years roll on. So keep looking until you find it. Don’t settle.\n",
    "\n",
    "My third story is about death.\n",
    "\n",
    "When I was 17, I read a quote that went something like: “If you live each day as if it was your last, someday you’ll most certainly be right.” It made an impression on me, and since then, for the past 33 years, I have looked in the mirror every morning and asked myself: “If today were the last day of my life, would I want to do what I am about to do today?” And whenever the answer has been “No” for too many days in a row, I know I need to change something.\n",
    "\n",
    "Remembering that I’ll be dead soon is the most important tool I’ve ever encountered to help me make the big choices in life. Because almost everything — all external expectations, all pride, all fear of embarrassment or failure — these things just fall away in the face of death, leaving only what is truly important. Remembering that you are going to die is the best way I know to avoid the trap of thinking you have something to lose. You are already naked. There is no reason not to follow your heart.\n",
    "\n",
    "About a year ago I was diagnosed with cancer. I had a scan at 7:30 in the morning, and it clearly showed a tumor on my pancreas. I didn’t even know what a pancreas was. The doctors told me this was almost certainly a type of cancer that is incurable, and that I should expect to live no longer than three to six months. My doctor advised me to go home and get my affairs in order, which is doctor’s code for prepare to die. It means to try to tell your kids everything you thought you’d have the next 10 years to tell them in just a few months. It means to make sure everything is buttoned up so that it will be as easy as possible for your family. It means to say your goodbyes.\n",
    "\n",
    "I lived with that diagnosis all day. Later that evening I had a biopsy, where they stuck an endoscope down my throat, through my stomach and into my intestines, put a needle into my pancreas and got a few cells from the tumor. I was sedated, but my wife, who was there, told me that when they viewed the cells under a microscope the doctors started crying because it turned out to be a very rare form of pancreatic cancer that is curable with surgery. I had the surgery and I’m fine now.\n",
    "\n",
    "This was the closest I’ve been to facing death, and I hope it’s the closest I get for a few more decades. Having lived through it, I can now say this to you with a bit more certainty than when death was a useful but purely intellectual concept:\n",
    "\n",
    "No one wants to die. Even people who want to go to heaven don’t want to die to get there. And yet death is the destination we all share. No one has ever escaped it. And that is as it should be, because Death is very likely the single best invention of Life. It is Life’s change agent. It clears out the old to make way for the new. Right now the new is you, but someday not too long from now, you will gradually become the old and be cleared away. Sorry to be so dramatic, but it is quite true.\n",
    "\n",
    "Your time is limited, so don’t waste it living someone else’s life. Don’t be trapped by dogma — which is living with the results of other people’s thinking. Don’t let the noise of others’ opinions drown out your own inner voice. And most important, have the courage to follow your heart and intuition. They somehow already know what you truly want to become. Everything else is secondary.\n",
    "\n",
    "When I was young, there was an amazing publication called The Whole Earth Catalog, which was one of the bibles of my generation. It was created by a fellow named Stewart Brand not far from here in Menlo Park, and he brought it to life with his poetic touch. This was in the late 1960s, before personal computers and desktop publishing, so it was all made with typewriters, scissors and Polaroid cameras. It was sort of like Google in paperback form, 35 years before Google came along: It was idealistic, and overflowing with neat tools and great notions.\n",
    "\n",
    "Stewart and his team put out several issues of The Whole Earth Catalog, and then when it had run its course, they put out a final issue. It was the mid-1970s, and I was your age. On the back cover of their final issue was a photograph of an early morning country road, the kind you might find yourself hitchhiking on if you were so adventurous. Beneath it were the words: “Stay Hungry. Stay Foolish.” It was their farewell message as they signed off. Stay Hungry. Stay Foolish. And I have always wished that for myself. And now, as you graduate to begin anew, I wish that for you.\n",
    "\n",
    "Stay Hungry. Stay Foolish.\n",
    "\n",
    "Thank you all very much.'''"
   ]
  },
  {
   "cell_type": "code",
   "execution_count": 8,
   "metadata": {},
   "outputs": [],
   "source": [
    "doc_complete = [doc1,doc2,doc3,doc4,doc5,doc6,doc7]"
   ]
  },
  {
   "cell_type": "markdown",
   "metadata": {},
   "source": [
    "# Cleaning & Preprocessing"
   ]
  },
  {
   "cell_type": "code",
   "execution_count": 9,
   "metadata": {},
   "outputs": [],
   "source": [
    "from nltk.corpus import stopwords\n",
    "from nltk.stem.wordnet import WordNetLemmatizer\n",
    "import string\n",
    "stop = set(stopwords.words('english'))\n",
    "exclude = set(string.punctuation)\n",
    "lemma = WordNetLemmatizer()\n",
    "def clean(doc):\n",
    "    stop_free = \" \".join([i for i in doc.lower().split() if i not in stop])\n",
    "    punc_free = ''.join(ch for ch in stop_free if ch not in exclude)\n",
    "    normalized = \" \".join(lemma.lemmatize(word) for word in punc_free.split())\n",
    "    return normalized\n",
    "\n",
    "doc_clean = [clean(doc).split() for doc in doc_complete]       \n"
   ]
  },
  {
   "cell_type": "markdown",
   "metadata": {},
   "source": [
    "# Preparing Document-Term Matrix"
   ]
  },
  {
   "cell_type": "code",
   "execution_count": 10,
   "metadata": {},
   "outputs": [],
   "source": [
    "# Importing Gensim\n",
    "import gensim\n",
    "from gensim import corpora\n",
    "\n",
    "# Creating the term dictionary of our courpus, where every unique term is assigned an index.\n",
    "dictionary = corpora.Dictionary(doc_clean)\n",
    "\n",
    "# Converting list of documents (corpus) into Document Term Matrix using dictionary prepared above.\n",
    "doc_term_matrix = [dictionary.doc2bow(doc) for doc in doc_clean]"
   ]
  },
  {
   "cell_type": "markdown",
   "metadata": {},
   "source": [
    "# Running LDA Model"
   ]
  },
  {
   "cell_type": "code",
   "execution_count": 11,
   "metadata": {},
   "outputs": [],
   "source": [
    "# Creating the object for LDA model using gensim library\n",
    "Lda = gensim.models.ldamodel.LdaModel\n",
    "\n",
    "# Running and Trainign LDA model on the document term matrix.\n",
    "ldamodel = Lda(doc_term_matrix, num_topics=7, id2word = dictionary, passes=50)"
   ]
  },
  {
   "cell_type": "markdown",
   "metadata": {},
   "source": [
    "# Results"
   ]
  },
  {
   "cell_type": "code",
   "execution_count": 12,
   "metadata": {},
   "outputs": [
    {
     "name": "stdout",
     "output_type": "stream",
     "text": [
      "[(0, '0.000*\"india\" + 0.000*\"pakistan\" + 0.000*\"would\" + 0.000*\"kashmir\" + 0.000*\"country\" + 0.000*\"state\" + 0.000*\"china\" + 0.000*\"indian\" + 0.000*\"issue\" + 0.000*\"also\" + 0.000*\"one\" + 0.000*\"year\" + 0.000*\"government\" + 0.000*\"people\" + 0.000*\"jammu\" + 0.000*\"two\" + 0.000*\"made\" + 0.000*\"resolution\" + 0.000*\"relation\" + 0.000*\"could\" + 0.000*\"pakistani\" + 0.000*\"life\" + 0.000*\"minister\" + 0.000*\"international\" + 0.000*\"terrorism\" + 0.000*\"part\" + 0.000*\"jk\" + 0.000*\"accession\" + 0.000*\"dialogue\" + 0.000*\"un\" + 0.000*\"visit\" + 0.000*\"it\" + 0.000*\"chinese\" + 0.000*\"time\" + 0.000*\"agreement\" + 0.000*\"bilateral\" + 0.000*\"company\" + 0.000*\"later\" + 0.000*\"never\" + 0.000*\"college\" + 0.000*\"trade\" + 0.000*\"since\" + 0.000*\"first\" + 0.000*\"troop\" + 0.000*\"number\" + 0.000*\"may\" + 0.000*\"story\" + 0.000*\"january\" + 0.000*\"even\" + 0.000*\"president\"'), (1, '0.000*\"pakistan\" + 0.000*\"india\" + 0.000*\"jack\" + 0.000*\"kashmir\" + 0.000*\"would\" + 0.000*\"china\" + 0.000*\"time\" + 0.000*\"state\" + 0.000*\"people\" + 0.000*\"one\" + 0.000*\"issue\" + 0.000*\"country\" + 0.000*\"also\" + 0.000*\"government\" + 0.000*\"resolution\" + 0.000*\"life\" + 0.000*\"story\" + 0.000*\"year\" + 0.000*\"could\" + 0.000*\"jk\" + 0.000*\"jammu\" + 0.000*\"indian\" + 0.000*\"made\" + 0.000*\"get\" + 0.000*\"two\" + 0.000*\"part\" + 0.000*\"relation\" + 0.000*\"lockdown\" + 0.000*\"day\" + 0.000*\"company\" + 0.000*\"first\" + 0.000*\"way\" + 0.000*\"case\" + 0.000*\"bilateral\" + 0.000*\"may\" + 0.000*\"world\" + 0.000*\"disease\" + 0.000*\"march\" + 0.000*\"it\" + 0.000*\"well\" + 0.000*\"never\" + 0.000*\"number\" + 0.000*\"alibaba\" + 0.000*\"today\" + 0.000*\"virus\" + 0.000*\"security\" + 0.000*\"international\" + 0.000*\"pakistani\" + 0.000*\"covid19\" + 0.000*\"terrorism\"'), (2, '0.011*\"india\" + 0.010*\"would\" + 0.009*\"could\" + 0.009*\"disease\" + 0.009*\"case\" + 0.009*\"lockdown\" + 0.008*\"patient\" + 0.008*\"symptom\" + 0.008*\"virus\" + 0.007*\"time\" + 0.007*\"march\" + 0.007*\"covid19\" + 0.007*\"country\" + 0.007*\"state\" + 0.007*\"screening\" + 0.006*\"number\" + 0.005*\"january\" + 0.005*\"traveller\" + 0.005*\"airport\" + 0.005*\"testing\" + 0.005*\"well\" + 0.005*\"infected\" + 0.004*\"day\" + 0.004*\"government\" + 0.004*\"epidemic\" + 0.004*\"hospital\" + 0.004*\"also\" + 0.004*\"test\" + 0.004*\"health\" + 0.004*\"china\" + 0.004*\"ventilator\" + 0.004*\"wuhan\" + 0.003*\"given\" + 0.003*\"need\" + 0.003*\"spread\" + 0.003*\"letter\" + 0.003*\"facility\" + 0.003*\"secretary\" + 0.003*\"medical\" + 0.003*\"icmr\" + 0.003*\"warning\" + 0.003*\"asymptomatic\" + 0.003*\"tested\" + 0.003*\"worker\" + 0.003*\"mask\" + 0.002*\"might\" + 0.002*\"people\" + 0.002*\"city\" + 0.002*\"term\" + 0.002*\"cabinet\"'), (3, '0.026*\"pakistan\" + 0.022*\"india\" + 0.016*\"kashmir\" + 0.012*\"state\" + 0.009*\"jammu\" + 0.008*\"would\" + 0.008*\"issue\" + 0.008*\"government\" + 0.007*\"resolution\" + 0.007*\"jk\" + 0.006*\"pakistani\" + 0.005*\"accession\" + 0.005*\"people\" + 0.005*\"terrorism\" + 0.005*\"un\" + 0.005*\"stated\" + 0.004*\"part\" + 0.004*\"bilateral\" + 0.004*\"made\" + 0.004*\"india’s\" + 0.004*\"agreement\" + 0.004*\"plebiscite\" + 0.004*\"1948\" + 0.003*\"security\" + 0.003*\"two\" + 0.003*\"support\" + 0.003*\"also\" + 0.003*\"territory\" + 0.003*\"situation\" + 0.003*\"international\" + 0.003*\"council\" + 0.003*\"may\" + 0.003*\"troop\" + 0.003*\"dialogue\" + 0.003*\"1957\" + 0.003*\"war\" + 0.003*\"however\" + 0.003*\"uncip\" + 0.003*\"meeting\" + 0.003*\"time\" + 0.003*\"established\" + 0.003*\"country\" + 0.003*\"solution\" + 0.003*\"indian\" + 0.003*\"lahore\" + 0.003*\"fact\" + 0.002*\"accepted\" + 0.002*\"act\" + 0.002*\"prime\" + 0.002*\"several\"'), (4, '0.020*\"india\" + 0.018*\"pakistan\" + 0.009*\"country\" + 0.008*\"trade\" + 0.008*\"kashmir\" + 0.007*\"issue\" + 0.006*\"relation\" + 0.005*\"china\" + 0.005*\"minister\" + 0.005*\"would\" + 0.005*\"beirut\" + 0.005*\"government\" + 0.004*\"two\" + 0.004*\"people\" + 0.004*\"lebanon\" + 0.004*\"august\" + 0.004*\"core\" + 0.004*\"also\" + 0.003*\"say\" + 0.003*\"u\" + 0.003*\"security\" + 0.003*\"indian\" + 0.003*\"year\" + 0.003*\"nation\" + 0.003*\"agreement\" + 0.003*\"explosion\" + 0.003*\"council\" + 0.003*\"bilateral\" + 0.003*\"military\" + 0.003*\"diab\" + 0.003*\"could\" + 0.003*\"state\" + 0.002*\"agreed\" + 0.002*\"need\" + 0.002*\"port\" + 0.002*\"–\" + 0.002*\"party\" + 0.002*\"india’s\" + 0.002*\"terrorism\" + 0.002*\"resignation\" + 0.002*\"international\" + 0.002*\"prime\" + 0.002*\"recent\" + 0.002*\"accepted\" + 0.002*\"peace\" + 0.002*\"control\" + 0.002*\"three\" + 0.002*\"official\" + 0.002*\"part\" + 0.002*\"economy\"'), (5, '0.019*\"china\" + 0.018*\"india\" + 0.014*\"jack\" + 0.010*\"indian\" + 0.010*\"chinese\" + 0.008*\"bank\" + 0.007*\"visit\" + 0.007*\"two\" + 0.006*\"country\" + 0.006*\"relation\" + 0.006*\"company\" + 0.005*\"also\" + 0.005*\"economic\" + 0.005*\"story\" + 0.004*\"one\" + 0.004*\"indiachina\" + 0.004*\"army\" + 0.004*\"minister\" + 0.004*\"dialogue\" + 0.004*\"june\" + 0.004*\"office\" + 0.004*\"visited\" + 0.004*\"alibaba\" + 0.004*\"first\" + 0.004*\"–\" + 0.003*\"troop\" + 0.003*\"shanghai\" + 0.003*\"electric\" + 0.003*\"prime\" + 0.003*\"president\" + 0.003*\"side\" + 0.003*\"invest\" + 0.003*\"etc\" + 0.003*\"life\" + 0.002*\"place\" + 0.002*\"cooperation\" + 0.002*\"failed\" + 0.002*\"signed\" + 0.002*\"joint\" + 0.002*\"project\" + 0.002*\"agreed\" + 0.002*\"industry\" + 0.002*\"established\" + 0.002*\"manufacturing\" + 0.002*\"plan\" + 0.002*\"may\" + 0.002*\"premier\" + 0.002*\"university\" + 0.002*\"financial\" + 0.002*\"even\"'), (6, '0.010*\"life\" + 0.009*\"college\" + 0.008*\"year\" + 0.007*\"one\" + 0.006*\"would\" + 0.006*\"—\" + 0.005*\"never\" + 0.005*\"it\" + 0.005*\"apple\" + 0.005*\"later\" + 0.005*\"month\" + 0.005*\"looking\" + 0.005*\"don’t\" + 0.005*\"story\" + 0.005*\"want\" + 0.005*\"dropped\" + 0.004*\"death\" + 0.004*\"out\" + 0.004*\"first\" + 0.004*\"get\" + 0.004*\"didn’t\" + 0.004*\"computer\" + 0.004*\"know\" + 0.004*\"great\" + 0.004*\"me\" + 0.004*\"everything\" + 0.003*\"way\" + 0.003*\"decided\" + 0.003*\"something\" + 0.003*\"started\" + 0.003*\"best\" + 0.003*\"next\" + 0.003*\"work\" + 0.003*\"every\" + 0.003*\"company\" + 0.003*\"love\" + 0.003*\"ever\" + 0.003*\"stay\" + 0.003*\"found\" + 0.003*\"made\" + 0.003*\"day\" + 0.003*\"got\" + 0.003*\"10\" + 0.003*\"make\" + 0.003*\"find\" + 0.003*\"even\" + 0.003*\"die\" + 0.003*\"put\" + 0.003*\"class\" + 0.003*\"go\"')]\n"
     ]
    }
   ],
   "source": [
    "print(ldamodel.print_topics(num_topics=50, num_words=50))"
   ]
  },
  {
   "cell_type": "markdown",
   "metadata": {},
   "source": [
    "# Project 3 - using Latent Semenntic Allocation(LSA)\n",
    "=========\n",
    "Topic Modelling\n",
    "===============\n",
    "\n",
    "Collect randomly as many as news content from different fields for training. (thru any form, web scrape, pdf, newspaper etc.)\n",
    "\n",
    "Use case\n",
    "========\n",
    " Collect randomly another set of content for test. \n",
    "\n",
    "Build topic modelling to understand the topics in the test data.\n",
    "\n"
   ]
  },
  {
   "cell_type": "markdown",
   "metadata": {},
   "source": [
    "# Data reading and inspection"
   ]
  },
  {
   "cell_type": "code",
   "execution_count": 13,
   "metadata": {},
   "outputs": [],
   "source": [
    "#Libraries\n",
    "import numpy as np\n",
    "import pandas as pd\n",
    "import matplotlib.pyplot as plt\n",
    "import seaborn as sns\n",
    "pd.set_option(\"display.max_colwidth\", 200)"
   ]
  },
  {
   "cell_type": "code",
   "execution_count": 14,
   "metadata": {},
   "outputs": [
    {
     "data": {
      "text/plain": [
       "11314"
      ]
     },
     "execution_count": 14,
     "metadata": {},
     "output_type": "execute_result"
    }
   ],
   "source": [
    "from sklearn.datasets import fetch_20newsgroups\n",
    "\n",
    "dataset = fetch_20newsgroups(shuffle=True, random_state=1, remove=('headers', 'footers', 'quotes'))\n",
    "documents = dataset.data\n",
    "len(documents)"
   ]
  },
  {
   "cell_type": "code",
   "execution_count": 15,
   "metadata": {},
   "outputs": [
    {
     "data": {
      "text/plain": [
       "['alt.atheism',\n",
       " 'comp.graphics',\n",
       " 'comp.os.ms-windows.misc',\n",
       " 'comp.sys.ibm.pc.hardware',\n",
       " 'comp.sys.mac.hardware',\n",
       " 'comp.windows.x',\n",
       " 'misc.forsale',\n",
       " 'rec.autos',\n",
       " 'rec.motorcycles',\n",
       " 'rec.sport.baseball',\n",
       " 'rec.sport.hockey',\n",
       " 'sci.crypt',\n",
       " 'sci.electronics',\n",
       " 'sci.med',\n",
       " 'sci.space',\n",
       " 'soc.religion.christian',\n",
       " 'talk.politics.guns',\n",
       " 'talk.politics.mideast',\n",
       " 'talk.politics.misc',\n",
       " 'talk.religion.misc']"
      ]
     },
     "execution_count": 15,
     "metadata": {},
     "output_type": "execute_result"
    }
   ],
   "source": [
    "dataset.target_names"
   ]
  },
  {
   "cell_type": "markdown",
   "metadata": {},
   "source": [
    "# Data Preprocessing"
   ]
  },
  {
   "cell_type": "code",
   "execution_count": 16,
   "metadata": {},
   "outputs": [],
   "source": [
    "news_df = pd.DataFrame({'document':documents})\n",
    "\n",
    "# removing everything except alphabets`\n",
    "news_df['clean_doc'] = news_df['document'].str.replace(\"[^a-zA-Z#]\", \" \")\n",
    "\n",
    "# removing short words\n",
    "news_df['clean_doc'] = news_df['clean_doc'].apply(lambda x: ' '.join([w for w in x.split() if len(w)>3]))\n",
    "\n",
    "# make all text lowercase\n",
    "news_df['clean_doc'] = news_df['clean_doc'].apply(lambda x: x.lower())"
   ]
  },
  {
   "cell_type": "code",
   "execution_count": 17,
   "metadata": {},
   "outputs": [],
   "source": [
    "from nltk.corpus import stopwords\n",
    "stop_words = stopwords.words('english')\n",
    "\n",
    "# tokenization\n",
    "tokenized_doc = news_df['clean_doc'].apply(lambda x: x.split())\n",
    "\n",
    "# remove stop-words\n",
    "tokenized_doc = tokenized_doc.apply(lambda x: [item for item in x if item not in stop_words])\n",
    "\n",
    "# de-tokenization\n",
    "detokenized_doc = []\n",
    "for i in range(len(news_df)):\n",
    "    t = ' '.join(tokenized_doc[i])\n",
    "    detokenized_doc.append(t)\n",
    "\n",
    "news_df['clean_doc'] = detokenized_doc"
   ]
  },
  {
   "cell_type": "markdown",
   "metadata": {},
   "source": [
    "# Document-Term Matrix"
   ]
  },
  {
   "cell_type": "code",
   "execution_count": 18,
   "metadata": {},
   "outputs": [
    {
     "data": {
      "text/plain": [
       "(11314, 1000)"
      ]
     },
     "execution_count": 18,
     "metadata": {},
     "output_type": "execute_result"
    }
   ],
   "source": [
    "from sklearn.feature_extraction.text import TfidfVectorizer\n",
    "\n",
    "vectorizer = TfidfVectorizer(stop_words='english', \n",
    "max_features= 1000, # keep top 1000 terms \n",
    "max_df = 0.5, \n",
    "smooth_idf=True)\n",
    "\n",
    "X = vectorizer.fit_transform(news_df['clean_doc'])\n",
    "\n",
    "X.shape # check shape of the document-term matrix"
   ]
  },
  {
   "cell_type": "markdown",
   "metadata": {},
   "source": [
    "# Topic Modeling"
   ]
  },
  {
   "cell_type": "code",
   "execution_count": 19,
   "metadata": {},
   "outputs": [
    {
     "data": {
      "text/plain": [
       "20"
      ]
     },
     "execution_count": 19,
     "metadata": {},
     "output_type": "execute_result"
    }
   ],
   "source": [
    "from sklearn.decomposition import TruncatedSVD\n",
    "\n",
    "# SVD represent documents and terms in vectors \n",
    "svd_model = TruncatedSVD(n_components=20, algorithm='randomized', n_iter=100, random_state=122)\n",
    "\n",
    "svd_model.fit(X)\n",
    "\n",
    "len(svd_model.components_)"
   ]
  },
  {
   "cell_type": "code",
   "execution_count": 20,
   "metadata": {},
   "outputs": [
    {
     "name": "stdout",
     "output_type": "stream",
     "text": [
      "Topic 0: \n",
      "like\n",
      " \n",
      "know\n",
      " \n",
      "people\n",
      " \n",
      "think\n",
      " \n",
      "good\n",
      " \n",
      "time\n",
      " \n",
      "thanks\n",
      " \n",
      "Topic 1: \n",
      "thanks\n",
      " \n",
      "windows\n",
      " \n",
      "card\n",
      " \n",
      "drive\n",
      " \n",
      "mail\n",
      " \n",
      "file\n",
      " \n",
      "advance\n",
      " \n",
      "Topic 2: \n",
      "game\n",
      " \n",
      "team\n",
      " \n",
      "year\n",
      " \n",
      "games\n",
      " \n",
      "season\n",
      " \n",
      "players\n",
      " \n",
      "good\n",
      " \n",
      "Topic 3: \n",
      "drive\n",
      " \n",
      "scsi\n",
      " \n",
      "disk\n",
      " \n",
      "hard\n",
      " \n",
      "card\n",
      " \n",
      "drives\n",
      " \n",
      "problem\n",
      " \n",
      "Topic 4: \n",
      "windows\n",
      " \n",
      "file\n",
      " \n",
      "window\n",
      " \n",
      "files\n",
      " \n",
      "program\n",
      " \n",
      "using\n",
      " \n",
      "problem\n",
      " \n",
      "Topic 5: \n",
      "chip\n",
      " \n",
      "government\n",
      " \n",
      "mail\n",
      " \n",
      "space\n",
      " \n",
      "information\n",
      " \n",
      "encryption\n",
      " \n",
      "data\n",
      " \n",
      "Topic 6: \n",
      "like\n",
      " \n",
      "bike\n",
      " \n",
      "chip\n",
      " \n",
      "know\n",
      " \n",
      "sounds\n",
      " \n",
      "looks\n",
      " \n",
      "look\n",
      " \n",
      "Topic 7: \n",
      "card\n",
      " \n",
      "sale\n",
      " \n",
      "video\n",
      " \n",
      "monitor\n",
      " \n",
      "offer\n",
      " \n",
      "price\n",
      " \n",
      "jesus\n",
      " \n",
      "Topic 8: \n",
      "know\n",
      " \n",
      "card\n",
      " \n",
      "chip\n",
      " \n",
      "video\n",
      " \n",
      "government\n",
      " \n",
      "people\n",
      " \n",
      "clipper\n",
      " \n",
      "Topic 9: \n",
      "good\n",
      " \n",
      "know\n",
      " \n",
      "time\n",
      " \n",
      "bike\n",
      " \n",
      "jesus\n",
      " \n",
      "problem\n",
      " \n",
      "work\n",
      " \n",
      "Topic 10: \n",
      "think\n",
      " \n",
      "chip\n",
      " \n",
      "good\n",
      " \n",
      "thanks\n",
      " \n",
      "clipper\n",
      " \n",
      "encryption\n",
      " \n",
      "need\n",
      " \n",
      "Topic 11: \n",
      "thanks\n",
      " \n",
      "problem\n",
      " \n",
      "right\n",
      " \n",
      "bike\n",
      " \n",
      "good\n",
      " \n",
      "time\n",
      " \n",
      "window\n",
      " \n",
      "Topic 12: \n",
      "good\n",
      " \n",
      "people\n",
      " \n",
      "windows\n",
      " \n",
      "know\n",
      " \n",
      "file\n",
      " \n",
      "sale\n",
      " \n",
      "files\n",
      " \n",
      "Topic 13: \n",
      "space\n",
      " \n",
      "think\n",
      " \n",
      "know\n",
      " \n",
      "nasa\n",
      " \n",
      "problem\n",
      " \n",
      "year\n",
      " \n",
      "israel\n",
      " \n",
      "Topic 14: \n",
      "space\n",
      " \n",
      "good\n",
      " \n",
      "card\n",
      " \n",
      "people\n",
      " \n",
      "time\n",
      " \n",
      "nasa\n",
      " \n",
      "thanks\n",
      " \n",
      "Topic 15: \n",
      "people\n",
      " \n",
      "problem\n",
      " \n",
      "window\n",
      " \n",
      "game\n",
      " \n",
      "time\n",
      " \n",
      "want\n",
      " \n",
      "using\n",
      " \n",
      "Topic 16: \n",
      "time\n",
      " \n",
      "bike\n",
      " \n",
      "right\n",
      " \n",
      "windows\n",
      " \n",
      "file\n",
      " \n",
      "need\n",
      " \n",
      "really\n",
      " \n",
      "Topic 17: \n",
      "time\n",
      " \n",
      "problem\n",
      " \n",
      "file\n",
      " \n",
      "think\n",
      " \n",
      "israel\n",
      " \n",
      "long\n",
      " \n",
      "mail\n",
      " \n",
      "Topic 18: \n",
      "file\n",
      " \n",
      "need\n",
      " \n",
      "card\n",
      " \n",
      "files\n",
      " \n",
      "problem\n",
      " \n",
      "right\n",
      " \n",
      "good\n",
      " \n",
      "Topic 19: \n",
      "problem\n",
      " \n",
      "file\n",
      " \n",
      "thanks\n",
      " \n",
      "used\n",
      " \n",
      "space\n",
      " \n",
      "chip\n",
      " \n",
      "sale\n",
      " \n"
     ]
    }
   ],
   "source": [
    "terms = vectorizer.get_feature_names()\n",
    "\n",
    "for i, comp in enumerate(svd_model.components_):\n",
    "    terms_comp = zip(terms, comp)\n",
    "    sorted_terms = sorted(terms_comp, key= lambda x:x[1], reverse=True)[:7]\n",
    "    print(\"Topic \"+str(i)+\": \")\n",
    "    for t in sorted_terms:\n",
    "        print(t[0])\n",
    "        print(\" \")"
   ]
  },
  {
   "cell_type": "markdown",
   "metadata": {},
   "source": [
    "# Topics Visualization"
   ]
  },
  {
   "cell_type": "raw",
   "metadata": {},
   "source": [
    "import umap\n",
    "\n",
    "X_topics = svd_model.fit_transform(X)\n",
    "embedding = umap.UMAP(n_neighbors=150, min_dist=0.5, random_state=12).fit_transform(X_topics)\n",
    "\n",
    "plt.figure(figsize=(7,5))\n",
    "plt.scatter(embedding[:, 0], embedding[:, 1], \n",
    "c = dataset.target,\n",
    "s = 10, # size\n",
    "edgecolor='none'\n",
    ")\n",
    "plt.show()"
   ]
  },
  {
   "cell_type": "markdown",
   "metadata": {},
   "source": [
    "# Project 3 - using Latent Drichilet Allocation(LDA)\n",
    "=========\n",
    "Topic Modelling\n",
    "===============\n",
    "\n",
    "Collect randomly as many as news content from different fields for training. (thru any form, web scrape, pdf, newspaper etc.)\n",
    "\n",
    "Use case\n",
    "========\n",
    " Collect randomly another set of content for test. \n",
    "\n",
    "Build topic modelling to understand the topics in the test data.\n",
    "\n"
   ]
  },
  {
   "cell_type": "markdown",
   "metadata": {},
   "source": [
    "# Data\n",
    "I use one million news headline from kaggle."
   ]
  },
  {
   "cell_type": "code",
   "execution_count": 21,
   "metadata": {},
   "outputs": [],
   "source": [
    "import pandas as pd\n",
    "data = pd.read_csv('abcnews-date-text.csv', error_bad_lines=False);"
   ]
  },
  {
   "cell_type": "code",
   "execution_count": 22,
   "metadata": {},
   "outputs": [
    {
     "data": {
      "text/html": [
       "<div>\n",
       "<style scoped>\n",
       "    .dataframe tbody tr th:only-of-type {\n",
       "        vertical-align: middle;\n",
       "    }\n",
       "\n",
       "    .dataframe tbody tr th {\n",
       "        vertical-align: top;\n",
       "    }\n",
       "\n",
       "    .dataframe thead th {\n",
       "        text-align: right;\n",
       "    }\n",
       "</style>\n",
       "<table border=\"1\" class=\"dataframe\">\n",
       "  <thead>\n",
       "    <tr style=\"text-align: right;\">\n",
       "      <th></th>\n",
       "      <th>publish_date</th>\n",
       "      <th>headline_text</th>\n",
       "    </tr>\n",
       "  </thead>\n",
       "  <tbody>\n",
       "    <tr>\n",
       "      <th>0</th>\n",
       "      <td>20030219</td>\n",
       "      <td>aba decides against community broadcasting licence</td>\n",
       "    </tr>\n",
       "    <tr>\n",
       "      <th>1</th>\n",
       "      <td>20030219</td>\n",
       "      <td>act fire witnesses must be aware of defamation</td>\n",
       "    </tr>\n",
       "    <tr>\n",
       "      <th>2</th>\n",
       "      <td>20030219</td>\n",
       "      <td>a g calls for infrastructure protection summit</td>\n",
       "    </tr>\n",
       "    <tr>\n",
       "      <th>3</th>\n",
       "      <td>20030219</td>\n",
       "      <td>air nz staff in aust strike for pay rise</td>\n",
       "    </tr>\n",
       "    <tr>\n",
       "      <th>4</th>\n",
       "      <td>20030219</td>\n",
       "      <td>air nz strike to affect australian travellers</td>\n",
       "    </tr>\n",
       "  </tbody>\n",
       "</table>\n",
       "</div>"
      ],
      "text/plain": [
       "   publish_date                                       headline_text\n",
       "0      20030219  aba decides against community broadcasting licence\n",
       "1      20030219      act fire witnesses must be aware of defamation\n",
       "2      20030219      a g calls for infrastructure protection summit\n",
       "3      20030219            air nz staff in aust strike for pay rise\n",
       "4      20030219       air nz strike to affect australian travellers"
      ]
     },
     "execution_count": 22,
     "metadata": {},
     "output_type": "execute_result"
    }
   ],
   "source": [
    "data.head()"
   ]
  },
  {
   "cell_type": "code",
   "execution_count": 23,
   "metadata": {},
   "outputs": [
    {
     "data": {
      "text/plain": [
       "(1186018, 2)"
      ]
     },
     "execution_count": 23,
     "metadata": {},
     "output_type": "execute_result"
    }
   ],
   "source": [
    "#Shape\n",
    "data.shape"
   ]
  },
  {
   "cell_type": "code",
   "execution_count": 24,
   "metadata": {},
   "outputs": [
    {
     "data": {
      "text/plain": [
       "publish_date      int64\n",
       "headline_text    object\n",
       "dtype: object"
      ]
     },
     "execution_count": 24,
     "metadata": {},
     "output_type": "execute_result"
    }
   ],
   "source": [
    "data.dtypes"
   ]
  },
  {
   "cell_type": "code",
   "execution_count": 25,
   "metadata": {},
   "outputs": [
    {
     "data": {
      "text/plain": [
       "publish_date     0\n",
       "headline_text    0\n",
       "dtype: int64"
      ]
     },
     "execution_count": 25,
     "metadata": {},
     "output_type": "execute_result"
    }
   ],
   "source": [
    "#Missing value\n",
    "data.isna().sum()"
   ]
  },
  {
   "cell_type": "code",
   "execution_count": 26,
   "metadata": {},
   "outputs": [
    {
     "data": {
      "text/plain": [
       "0"
      ]
     },
     "execution_count": 26,
     "metadata": {},
     "output_type": "execute_result"
    }
   ],
   "source": [
    "#Duplicated entries\n",
    "data.duplicated().sum()"
   ]
  },
  {
   "cell_type": "code",
   "execution_count": 27,
   "metadata": {},
   "outputs": [
    {
     "data": {
      "text/plain": [
       "0          20030219\n",
       "1          20030219\n",
       "2          20030219\n",
       "3          20030219\n",
       "4          20030219\n",
       "             ...   \n",
       "1186013    20191231\n",
       "1186014    20191231\n",
       "1186015    20191231\n",
       "1186016    20191231\n",
       "1186017    20191231\n",
       "Name: publish_date, Length: 1186018, dtype: int64"
      ]
     },
     "execution_count": 27,
     "metadata": {},
     "output_type": "execute_result"
    }
   ],
   "source": [
    "data['publish_date']"
   ]
  },
  {
   "cell_type": "code",
   "execution_count": 28,
   "metadata": {},
   "outputs": [
    {
     "data": {
      "text/plain": [
       "0              aba decides against community broadcasting licence\n",
       "1                  act fire witnesses must be aware of defamation\n",
       "2                  a g calls for infrastructure protection summit\n",
       "3                        air nz staff in aust strike for pay rise\n",
       "4                   air nz strike to affect australian travellers\n",
       "                                    ...                          \n",
       "1186013         vision of flames approaching corryong in victoria\n",
       "1186014    wa police and government backflip on drug amnesty bins\n",
       "1186015         we have fears for their safety: victorian premier\n",
       "1186016                                     when do the 20s start\n",
       "1186017     yarraville shooting woman dead man critically injured\n",
       "Name: headline_text, Length: 1186018, dtype: object"
      ]
     },
     "execution_count": 28,
     "metadata": {},
     "output_type": "execute_result"
    }
   ],
   "source": [
    "data['headline_text']"
   ]
  },
  {
   "cell_type": "markdown",
   "metadata": {},
   "source": [
    "# Observations:\n",
    "1. There are over millions of rows and two features\n",
    "\n",
    "2. No missing values or duplicated entries\n",
    "\n",
    "3. The collected news_papers are published over the last 15 years."
   ]
  },
  {
   "cell_type": "markdown",
   "metadata": {},
   "source": [
    "# Label data"
   ]
  },
  {
   "cell_type": "code",
   "execution_count": 29,
   "metadata": {},
   "outputs": [],
   "source": [
    "#Label\n",
    "data_text = data[['headline_text']]\n",
    "data_text['index'] = data_text.index\n",
    "documents = data_text"
   ]
  },
  {
   "cell_type": "code",
   "execution_count": 30,
   "metadata": {},
   "outputs": [
    {
     "name": "stdout",
     "output_type": "stream",
     "text": [
      "1186018\n",
      "                                        headline_text  index\n",
      "0  aba decides against community broadcasting licence      0\n",
      "1      act fire witnesses must be aware of defamation      1\n",
      "2      a g calls for infrastructure protection summit      2\n",
      "3            air nz staff in aust strike for pay rise      3\n",
      "4       air nz strike to affect australian travellers      4\n"
     ]
    }
   ],
   "source": [
    "#Peek at the data\n",
    "print(len(documents))\n",
    "print(documents[:5])"
   ]
  },
  {
   "cell_type": "markdown",
   "metadata": {},
   "source": [
    "# Data Pre-processing\n",
    "We will perform the following steps:\n",
    "\n",
    "a). Tokenization: Split the text into sentences and the sentences into words. Lowercase the words and remove punctuation.\n",
    "Words that have fewer than 3 characters are removed.\n",
    "\n",
    "b). All stopwords are removed.\n",
    "\n",
    "c). Words are lemmatized — words in third person are changed to first person and verbs in past and future tenses are changed into present.\n",
    "\n",
    "d). Words are stemmed — words are reduced to their root form."
   ]
  },
  {
   "cell_type": "markdown",
   "metadata": {},
   "source": [
    "# Importing Libraries"
   ]
  },
  {
   "cell_type": "code",
   "execution_count": 31,
   "metadata": {},
   "outputs": [
    {
     "name": "stderr",
     "output_type": "stream",
     "text": [
      "[nltk_data] Error loading wordnet: <urlopen error [Errno 11001]\n",
      "[nltk_data]     getaddrinfo failed>\n"
     ]
    },
    {
     "data": {
      "text/plain": [
       "False"
      ]
     },
     "execution_count": 31,
     "metadata": {},
     "output_type": "execute_result"
    }
   ],
   "source": [
    "import gensim\n",
    "from gensim.utils import simple_preprocess\n",
    "from gensim.parsing.preprocessing import STOPWORDS\n",
    "from nltk.stem import WordNetLemmatizer, SnowballStemmer\n",
    "from nltk.stem.porter import *\n",
    "import numpy as np\n",
    "np.random.seed(2018)\n",
    "import nltk\n",
    "nltk.download('wordnet')"
   ]
  },
  {
   "cell_type": "markdown",
   "metadata": {},
   "source": [
    "# Function to perform lemmatize and stem preprocessing steps"
   ]
  },
  {
   "cell_type": "code",
   "execution_count": 32,
   "metadata": {},
   "outputs": [],
   "source": [
    "def lemmatize_stemming(text):\n",
    "    return stemmer.stem(WordNetLemmatizer().lemmatize(text, pos='v'))\n",
    "def preprocess(text):\n",
    "    result = []\n",
    "    for token in gensim.utils.simple_preprocess(text):\n",
    "        if token not in gensim.parsing.preprocessing.STOPWORDS and len(token) > 3:\n",
    "            result.append(lemmatize_stemming(token))\n",
    "    return result"
   ]
  },
  {
   "cell_type": "markdown",
   "metadata": {},
   "source": [
    "# Document preview after preprocessing."
   ]
  },
  {
   "cell_type": "code",
   "execution_count": 33,
   "metadata": {},
   "outputs": [],
   "source": [
    "from nltk.stem.porter import *\n",
    "\n",
    "stemmer = PorterStemmer()"
   ]
  },
  {
   "cell_type": "code",
   "execution_count": 34,
   "metadata": {},
   "outputs": [
    {
     "name": "stdout",
     "output_type": "stream",
     "text": [
      "original document: \n",
      "['ratepayers', 'group', 'wants', 'compulsory', 'local', 'govt', 'voting']\n",
      "\n",
      "\n",
      " tokenized and lemmatized document: \n",
      "['ratepay', 'group', 'want', 'compulsori', 'local', 'govt', 'vote']\n"
     ]
    }
   ],
   "source": [
    "doc_sample = documents[documents['index'] == 4310].values[0][0]\n",
    "print('original document: ')\n",
    "words = []\n",
    "for word in doc_sample.split(' '):\n",
    "    words.append(word)\n",
    "print(words)\n",
    "print('\\n\\n tokenized and lemmatized document: ')\n",
    "print(preprocess(doc_sample))"
   ]
  },
  {
   "cell_type": "markdown",
   "metadata": {},
   "source": [
    "# Preprocess the headline text, saving the results as ‘processed_docs'"
   ]
  },
  {
   "cell_type": "code",
   "execution_count": 35,
   "metadata": {},
   "outputs": [
    {
     "data": {
      "text/plain": [
       "0               [decid, commun, broadcast, licenc]\n",
       "1                               [wit, awar, defam]\n",
       "2           [call, infrastructur, protect, summit]\n",
       "3                      [staff, aust, strike, rise]\n",
       "4             [strike, affect, australian, travel]\n",
       "5               [ambiti, olsson, win, tripl, jump]\n",
       "6           [antic, delight, record, break, barca]\n",
       "7    [aussi, qualifi, stosur, wast, memphi, match]\n",
       "8            [aust, address, secur, council, iraq]\n",
       "9                         [australia, lock, timet]\n",
       "Name: headline_text, dtype: object"
      ]
     },
     "execution_count": 35,
     "metadata": {},
     "output_type": "execute_result"
    }
   ],
   "source": [
    "processed_docs = documents['headline_text'].map(preprocess)\n",
    "processed_docs[:10]"
   ]
  },
  {
   "cell_type": "markdown",
   "metadata": {},
   "source": [
    "# Bag of Words "
   ]
  },
  {
   "cell_type": "code",
   "execution_count": 36,
   "metadata": {},
   "outputs": [
    {
     "name": "stdout",
     "output_type": "stream",
     "text": [
      "0 broadcast\n",
      "1 commun\n",
      "2 decid\n",
      "3 licenc\n",
      "4 awar\n",
      "5 defam\n",
      "6 wit\n",
      "7 call\n",
      "8 infrastructur\n",
      "9 protect\n",
      "10 summit\n"
     ]
    }
   ],
   "source": [
    "dictionary = gensim.corpora.Dictionary(processed_docs)\n",
    "count = 0\n",
    "for k, v in dictionary.iteritems():\n",
    "    print(k, v)\n",
    "    count += 1\n",
    "    if count > 10:\n",
    "        break"
   ]
  },
  {
   "cell_type": "code",
   "execution_count": 37,
   "metadata": {},
   "outputs": [],
   "source": [
    "dictionary.filter_extremes(no_below=15, no_above=0.5, keep_n=100000)"
   ]
  },
  {
   "cell_type": "markdown",
   "metadata": {},
   "source": [
    "# Gensim doc2bow"
   ]
  },
  {
   "cell_type": "code",
   "execution_count": 38,
   "metadata": {},
   "outputs": [
    {
     "data": {
      "text/plain": [
       "[(162, 1), (240, 1), (292, 1), (589, 1), (839, 1), (3575, 1), (3576, 1)]"
      ]
     },
     "execution_count": 38,
     "metadata": {},
     "output_type": "execute_result"
    }
   ],
   "source": [
    "bow_corpus = [dictionary.doc2bow(doc) for doc in processed_docs]\n",
    "bow_corpus[4310]"
   ]
  },
  {
   "cell_type": "code",
   "execution_count": 39,
   "metadata": {},
   "outputs": [
    {
     "name": "stdout",
     "output_type": "stream",
     "text": [
      "Word 162 (\"govt\") appears 1 time.\n",
      "Word 240 (\"group\") appears 1 time.\n",
      "Word 292 (\"vote\") appears 1 time.\n",
      "Word 589 (\"local\") appears 1 time.\n",
      "Word 839 (\"want\") appears 1 time.\n",
      "Word 3575 (\"compulsori\") appears 1 time.\n",
      "Word 3576 (\"ratepay\") appears 1 time.\n"
     ]
    }
   ],
   "source": [
    "bow_doc_4310 = bow_corpus[4310]\n",
    "for i in range(len(bow_doc_4310)):\n",
    "    print(\"Word {} (\\\"{}\\\") appears {} time.\".format(bow_doc_4310[i][0], \n",
    "                                               dictionary[bow_doc_4310[i][0]], \n",
    "bow_doc_4310[i][1]))"
   ]
  },
  {
   "cell_type": "markdown",
   "metadata": {},
   "source": [
    "# TF-IDF"
   ]
  },
  {
   "cell_type": "code",
   "execution_count": 40,
   "metadata": {},
   "outputs": [
    {
     "name": "stdout",
     "output_type": "stream",
     "text": [
      "[(0, 0.5860586362613176),\n",
      " (1, 0.3854657616151764),\n",
      " (2, 0.5006618583937537),\n",
      " (3, 0.5072367544211179)]\n"
     ]
    }
   ],
   "source": [
    "from gensim import corpora, models\n",
    "tfidf = models.TfidfModel(bow_corpus)\n",
    "corpus_tfidf = tfidf[bow_corpus]\n",
    "from pprint import pprint\n",
    "for doc in corpus_tfidf:\n",
    "    pprint(doc)\n",
    "    break"
   ]
  },
  {
   "cell_type": "markdown",
   "metadata": {},
   "source": [
    "# Running LDA using Bag of Words"
   ]
  },
  {
   "cell_type": "code",
   "execution_count": 41,
   "metadata": {},
   "outputs": [],
   "source": [
    "lda_model = gensim.models.LdaMulticore(bow_corpus, num_topics=10, id2word=dictionary, passes=2, workers=2)"
   ]
  },
  {
   "cell_type": "code",
   "execution_count": 42,
   "metadata": {},
   "outputs": [
    {
     "name": "stdout",
     "output_type": "stream",
     "text": [
      "Topic: 0 \n",
      "Words: 0.026*\"market\" + 0.022*\"school\" + 0.016*\"investig\" + 0.015*\"interview\" + 0.014*\"street\" + 0.014*\"fall\" + 0.013*\"student\" + 0.012*\"scott\" + 0.011*\"share\" + 0.010*\"week\"\n",
      "Topic: 1 \n",
      "Words: 0.020*\"donald\" + 0.018*\"plan\" + 0.018*\"canberra\" + 0.015*\"water\" + 0.013*\"council\" + 0.012*\"speak\" + 0.011*\"chang\" + 0.011*\"drum\" + 0.010*\"industri\" + 0.010*\"park\"\n",
      "Topic: 2 \n",
      "Words: 0.038*\"trump\" + 0.025*\"world\" + 0.018*\"australia\" + 0.017*\"open\" + 0.015*\"tasmania\" + 0.014*\"final\" + 0.014*\"australian\" + 0.012*\"win\" + 0.011*\"break\" + 0.011*\"record\"\n",
      "Topic: 3 \n",
      "Words: 0.029*\"queensland\" + 0.021*\"help\" + 0.017*\"bushfir\" + 0.017*\"miss\" + 0.015*\"royal\" + 0.015*\"tasmanian\" + 0.014*\"bank\" + 0.013*\"report\" + 0.013*\"victoria\" + 0.012*\"commiss\"\n",
      "Topic: 4 \n",
      "Words: 0.024*\"news\" + 0.022*\"women\" + 0.021*\"live\" + 0.021*\"warn\" + 0.020*\"coast\" + 0.019*\"health\" + 0.016*\"rural\" + 0.015*\"busi\" + 0.015*\"countri\" + 0.013*\"gold\"\n",
      "Topic: 5 \n",
      "Words: 0.053*\"polic\" + 0.049*\"say\" + 0.024*\"kill\" + 0.023*\"attack\" + 0.021*\"crash\" + 0.018*\"die\" + 0.017*\"shoot\" + 0.017*\"perth\" + 0.014*\"woman\" + 0.013*\"arrest\"\n",
      "Topic: 6 \n",
      "Words: 0.013*\"show\" + 0.013*\"power\" + 0.013*\"liber\" + 0.012*\"morrison\" + 0.012*\"wall\" + 0.011*\"young\" + 0.011*\"christma\" + 0.010*\"station\" + 0.010*\"beach\" + 0.009*\"train\"\n",
      "Topic: 7 \n",
      "Words: 0.044*\"australia\" + 0.034*\"elect\" + 0.031*\"govern\" + 0.024*\"china\" + 0.015*\"rise\" + 0.011*\"million\" + 0.011*\"citi\" + 0.011*\"presid\" + 0.011*\"trade\" + 0.010*\"deal\"\n",
      "Topic: 8 \n",
      "Words: 0.034*\"year\" + 0.030*\"charg\" + 0.027*\"court\" + 0.025*\"murder\" + 0.018*\"face\" + 0.016*\"jail\" + 0.016*\"accus\" + 0.014*\"death\" + 0.014*\"peopl\" + 0.013*\"trial\"\n",
      "Topic: 9 \n",
      "Words: 0.020*\"south\" + 0.019*\"adelaid\" + 0.018*\"north\" + 0.014*\"labor\" + 0.011*\"west\" + 0.011*\"worker\" + 0.010*\"stori\" + 0.010*\"hospit\" + 0.010*\"protest\" + 0.010*\"polit\"\n"
     ]
    }
   ],
   "source": [
    "for idx, topic in lda_model.print_topics(-1):\n",
    "    print('Topic: {} \\nWords: {}'.format(idx, topic))"
   ]
  },
  {
   "cell_type": "markdown",
   "metadata": {},
   "source": [
    "# Running LDA using TF-IDF"
   ]
  },
  {
   "cell_type": "code",
   "execution_count": null,
   "metadata": {},
   "outputs": [],
   "source": [
    "lda_model_tfidf = gensim.models.LdaMulticore(corpus_tfidf, num_topics=10, id2word=dictionary, passes=2, workers=4)\n",
    "for idx, topic in lda_model_tfidf.print_topics(-1):\n",
    "    print('Topic: {} Word: {}'.format(idx, topic))"
   ]
  },
  {
   "cell_type": "markdown",
   "metadata": {},
   "source": [
    "# Performance evaluation by classifying sample document using LDA Bag of Words model"
   ]
  },
  {
   "cell_type": "code",
   "execution_count": null,
   "metadata": {},
   "outputs": [],
   "source": [
    "processed_docs[4310]"
   ]
  },
  {
   "cell_type": "code",
   "execution_count": null,
   "metadata": {},
   "outputs": [],
   "source": [
    "for index, score in sorted(lda_model[bow_corpus[4310]], key=lambda tup: -1*tup[1]):\n",
    "\n",
    "    print(\"\\nScore: {}\\t \\nTopic: {}\".format(score, lda_model.print_topic(index, 10)))"
   ]
  },
  {
   "cell_type": "markdown",
   "metadata": {},
   "source": [
    "# Performance evaluation by classifying sample document using LDA TF-IDF model."
   ]
  },
  {
   "cell_type": "code",
   "execution_count": null,
   "metadata": {},
   "outputs": [],
   "source": [
    "for index, score in sorted(lda_model_tfidf[bow_corpus[4310]], key=lambda tup: -1*tup[1]):\n",
    "    print(\"\\nScore: {}\\t \\nTopic: {}\".format(score, lda_model_tfidf.print_topic(index, 10)))"
   ]
  },
  {
   "cell_type": "markdown",
   "metadata": {},
   "source": [
    "# Test Model Unseen documents"
   ]
  },
  {
   "cell_type": "code",
   "execution_count": null,
   "metadata": {},
   "outputs": [],
   "source": [
    "unseen_document = 'How a Pentagon deal became an identity crisis for Google'\n",
    "bow_vector = dictionary.doc2bow(preprocess(unseen_document))\n",
    "for index, score in sorted(lda_model[bow_vector], key=lambda tup: -1*tup[1]):\n",
    "    print(\"Score: {}\\t Topic: {}\".format(score, lda_model.print_topic(index, 5)))"
   ]
  },
  {
   "cell_type": "code",
   "execution_count": null,
   "metadata": {},
   "outputs": [],
   "source": []
  }
 ],
 "metadata": {
  "kernelspec": {
   "display_name": "Python 3",
   "language": "python",
   "name": "python3"
  },
  "language_info": {
   "codemirror_mode": {
    "name": "ipython",
    "version": 3
   },
   "file_extension": ".py",
   "mimetype": "text/x-python",
   "name": "python",
   "nbconvert_exporter": "python",
   "pygments_lexer": "ipython3",
   "version": "3.7.6"
  }
 },
 "nbformat": 4,
 "nbformat_minor": 4
}
