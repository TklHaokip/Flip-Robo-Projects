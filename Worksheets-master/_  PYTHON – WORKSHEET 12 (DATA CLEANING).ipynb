{
 "cells": [
  {
   "cell_type": "markdown",
   "metadata": {},
   "source": [
    "#                     WORKSHEET\n",
    "# PYTHON – WORKSHEET 12 (DATA CLEANING)\n",
    "\n",
    "\n",
    "# Instructions: \n",
    "This is a data-cleaning worksheet. You have been given a dataset which includes the Melbourne house\n",
    "prices data. You have to use pandas library for data-cleaning. You have to attempt all the questions in the same order as\n",
    "given so that at the end you arrive at completely cleaned dataset with no missing values. Use jupyter notebook to solve\n",
    "the exercise.\n",
    "\n",
    "\n",
    "\n",
    "# Questions:\n",
    "1. Determine the no. of rows and no. of columns in the dataset.\n",
    "2. Display the datatypes of each column.\n",
    "3. Determine the row indexes of rows having all null values (i.e. empty rows).\n",
    "4. Determine the total number of empty rows and their percentage in whole dataset and remove them.\n",
    "5. Determine the column names having missing values.\n",
    "6. Determine the missing values and their percentage in each column.\n",
    "7. Determine the row indexes having missing values.\n",
    "8. Determine the missing values and their percentage in each row.\n",
    "9. Determine the column names having more than 30% missing values and remove them from the dataset.\n",
    "10. Determine the number and percentage of rows having more than 5 missing values. If the percentage of such\n",
    "rows is less than 20% then remove all these rows.\n",
    "11. Display the description of data and percentage of missing values still left column wise.\n",
    "12. Considering the 'Price' column as target variable which is to be predicted, how will you treat the missing values?\n",
    "Give a brief explanation and treat the missing values in 'Price' column.\n",
    "13. Now check the percentage of missing values in each column again, if missing values exist, treat it with the most\n",
    "suitable method.\n",
    "14. Now since you have completed your data cleaning, determine the number and percentage of columns removed.\n",
    "15. Determine the number and percentage of rows removed in whole process. Also comment briefly that according\n",
    "to you the amount of data lost is justified or not."
   ]
  },
  {
   "cell_type": "markdown",
   "metadata": {},
   "source": [
    "## Importing Library"
   ]
  },
  {
   "cell_type": "code",
   "execution_count": 1,
   "metadata": {},
   "outputs": [],
   "source": [
    "#library\n",
    "import pandas as pd"
   ]
  },
  {
   "cell_type": "markdown",
   "metadata": {},
   "source": [
    "## Load Data"
   ]
  },
  {
   "cell_type": "code",
   "execution_count": 2,
   "metadata": {},
   "outputs": [
    {
     "data": {
      "text/html": [
       "<div>\n",
       "<style scoped>\n",
       "    .dataframe tbody tr th:only-of-type {\n",
       "        vertical-align: middle;\n",
       "    }\n",
       "\n",
       "    .dataframe tbody tr th {\n",
       "        vertical-align: top;\n",
       "    }\n",
       "\n",
       "    .dataframe thead th {\n",
       "        text-align: right;\n",
       "    }\n",
       "</style>\n",
       "<table border=\"1\" class=\"dataframe\">\n",
       "  <thead>\n",
       "    <tr style=\"text-align: right;\">\n",
       "      <th></th>\n",
       "      <th>Suburb</th>\n",
       "      <th>Address</th>\n",
       "      <th>Rooms</th>\n",
       "      <th>Type</th>\n",
       "      <th>Price</th>\n",
       "      <th>Method</th>\n",
       "      <th>SellerG</th>\n",
       "      <th>Date</th>\n",
       "      <th>Distance</th>\n",
       "      <th>Postcode</th>\n",
       "      <th>...</th>\n",
       "      <th>Bathroom</th>\n",
       "      <th>Car</th>\n",
       "      <th>Landsize</th>\n",
       "      <th>BuildingArea</th>\n",
       "      <th>YearBuilt</th>\n",
       "      <th>CouncilArea</th>\n",
       "      <th>Lattitude</th>\n",
       "      <th>Longtitude</th>\n",
       "      <th>Regionname</th>\n",
       "      <th>Propertycount</th>\n",
       "    </tr>\n",
       "  </thead>\n",
       "  <tbody>\n",
       "    <tr>\n",
       "      <th>0</th>\n",
       "      <td>Abbotsford</td>\n",
       "      <td>68 Studley St</td>\n",
       "      <td>2.0</td>\n",
       "      <td>h</td>\n",
       "      <td>NaN</td>\n",
       "      <td>SS</td>\n",
       "      <td>Jellis</td>\n",
       "      <td>03-09-2016</td>\n",
       "      <td>2.5</td>\n",
       "      <td>3067.0</td>\n",
       "      <td>...</td>\n",
       "      <td>1.0</td>\n",
       "      <td>1.0</td>\n",
       "      <td>126.0</td>\n",
       "      <td>NaN</td>\n",
       "      <td>NaN</td>\n",
       "      <td>Yarra</td>\n",
       "      <td>-37.8014</td>\n",
       "      <td>144.9958</td>\n",
       "      <td>Northern Metropolitan</td>\n",
       "      <td>4019.0</td>\n",
       "    </tr>\n",
       "    <tr>\n",
       "      <th>1</th>\n",
       "      <td>Abbotsford</td>\n",
       "      <td>85 Turner St</td>\n",
       "      <td>2.0</td>\n",
       "      <td>h</td>\n",
       "      <td>1480000.0</td>\n",
       "      <td>S</td>\n",
       "      <td>Biggin</td>\n",
       "      <td>03-12-2016</td>\n",
       "      <td>2.5</td>\n",
       "      <td>3067.0</td>\n",
       "      <td>...</td>\n",
       "      <td>1.0</td>\n",
       "      <td>1.0</td>\n",
       "      <td>202.0</td>\n",
       "      <td>NaN</td>\n",
       "      <td>NaN</td>\n",
       "      <td>Yarra</td>\n",
       "      <td>-37.7996</td>\n",
       "      <td>144.9984</td>\n",
       "      <td>Northern Metropolitan</td>\n",
       "      <td>4019.0</td>\n",
       "    </tr>\n",
       "    <tr>\n",
       "      <th>2</th>\n",
       "      <td>Abbotsford</td>\n",
       "      <td>25 Bloomburg St</td>\n",
       "      <td>2.0</td>\n",
       "      <td>h</td>\n",
       "      <td>1035000.0</td>\n",
       "      <td>S</td>\n",
       "      <td>Biggin</td>\n",
       "      <td>04-02-2016</td>\n",
       "      <td>2.5</td>\n",
       "      <td>3067.0</td>\n",
       "      <td>...</td>\n",
       "      <td>1.0</td>\n",
       "      <td>0.0</td>\n",
       "      <td>156.0</td>\n",
       "      <td>79.0</td>\n",
       "      <td>1900.0</td>\n",
       "      <td>Yarra</td>\n",
       "      <td>-37.8079</td>\n",
       "      <td>144.9934</td>\n",
       "      <td>Northern Metropolitan</td>\n",
       "      <td>4019.0</td>\n",
       "    </tr>\n",
       "  </tbody>\n",
       "</table>\n",
       "<p>3 rows × 21 columns</p>\n",
       "</div>"
      ],
      "text/plain": [
       "       Suburb          Address  Rooms Type      Price Method SellerG  \\\n",
       "0  Abbotsford    68 Studley St    2.0    h        NaN     SS  Jellis   \n",
       "1  Abbotsford     85 Turner St    2.0    h  1480000.0      S  Biggin   \n",
       "2  Abbotsford  25 Bloomburg St    2.0    h  1035000.0      S  Biggin   \n",
       "\n",
       "         Date  Distance  Postcode  ...  Bathroom  Car  Landsize  BuildingArea  \\\n",
       "0  03-09-2016       2.5    3067.0  ...       1.0  1.0     126.0           NaN   \n",
       "1  03-12-2016       2.5    3067.0  ...       1.0  1.0     202.0           NaN   \n",
       "2  04-02-2016       2.5    3067.0  ...       1.0  0.0     156.0          79.0   \n",
       "\n",
       "   YearBuilt  CouncilArea Lattitude  Longtitude             Regionname  \\\n",
       "0        NaN        Yarra  -37.8014    144.9958  Northern Metropolitan   \n",
       "1        NaN        Yarra  -37.7996    144.9984  Northern Metropolitan   \n",
       "2     1900.0        Yarra  -37.8079    144.9934  Northern Metropolitan   \n",
       "\n",
       "  Propertycount  \n",
       "0        4019.0  \n",
       "1        4019.0  \n",
       "2        4019.0  \n",
       "\n",
       "[3 rows x 21 columns]"
      ]
     },
     "execution_count": 2,
     "metadata": {},
     "output_type": "execute_result"
    }
   ],
   "source": [
    "# Read Data\n",
    "df=pd.read_csv('Melbourne_House_Prices.csv')\n",
    "# Check if data is read successfully or not\n",
    "df.head(3)"
   ]
  },
  {
   "cell_type": "code",
   "execution_count": 3,
   "metadata": {},
   "outputs": [
    {
     "data": {
      "text/html": [
       "<div>\n",
       "<style scoped>\n",
       "    .dataframe tbody tr th:only-of-type {\n",
       "        vertical-align: middle;\n",
       "    }\n",
       "\n",
       "    .dataframe tbody tr th {\n",
       "        vertical-align: top;\n",
       "    }\n",
       "\n",
       "    .dataframe thead th {\n",
       "        text-align: right;\n",
       "    }\n",
       "</style>\n",
       "<table border=\"1\" class=\"dataframe\">\n",
       "  <thead>\n",
       "    <tr style=\"text-align: right;\">\n",
       "      <th></th>\n",
       "      <th>Suburb</th>\n",
       "      <th>Address</th>\n",
       "      <th>Rooms</th>\n",
       "      <th>Type</th>\n",
       "      <th>Price</th>\n",
       "      <th>Method</th>\n",
       "      <th>SellerG</th>\n",
       "      <th>Date</th>\n",
       "      <th>Distance</th>\n",
       "      <th>Postcode</th>\n",
       "      <th>...</th>\n",
       "      <th>Bathroom</th>\n",
       "      <th>Car</th>\n",
       "      <th>Landsize</th>\n",
       "      <th>BuildingArea</th>\n",
       "      <th>YearBuilt</th>\n",
       "      <th>CouncilArea</th>\n",
       "      <th>Lattitude</th>\n",
       "      <th>Longtitude</th>\n",
       "      <th>Regionname</th>\n",
       "      <th>Propertycount</th>\n",
       "    </tr>\n",
       "  </thead>\n",
       "  <tbody>\n",
       "    <tr>\n",
       "      <th>23673</th>\n",
       "      <td>Wyndham Vale</td>\n",
       "      <td>25 Clitheroe Dr</td>\n",
       "      <td>3.0</td>\n",
       "      <td>u</td>\n",
       "      <td>NaN</td>\n",
       "      <td>PN</td>\n",
       "      <td>Harcourts</td>\n",
       "      <td>26-08-2017</td>\n",
       "      <td>27.2</td>\n",
       "      <td>3024.0</td>\n",
       "      <td>...</td>\n",
       "      <td>1.0</td>\n",
       "      <td>0.0</td>\n",
       "      <td>552.0</td>\n",
       "      <td>119.0</td>\n",
       "      <td>1990.0</td>\n",
       "      <td>NaN</td>\n",
       "      <td>-37.90032</td>\n",
       "      <td>144.61839</td>\n",
       "      <td>Western Metropolitan</td>\n",
       "      <td>5262.0</td>\n",
       "    </tr>\n",
       "    <tr>\n",
       "      <th>23674</th>\n",
       "      <td>Wyndham Vale</td>\n",
       "      <td>19 Dalrymple Bvd</td>\n",
       "      <td>4.0</td>\n",
       "      <td>h</td>\n",
       "      <td>NaN</td>\n",
       "      <td>S</td>\n",
       "      <td>hockingstuart</td>\n",
       "      <td>26-08-2017</td>\n",
       "      <td>27.2</td>\n",
       "      <td>3024.0</td>\n",
       "      <td>...</td>\n",
       "      <td>NaN</td>\n",
       "      <td>NaN</td>\n",
       "      <td>NaN</td>\n",
       "      <td>NaN</td>\n",
       "      <td>NaN</td>\n",
       "      <td>NaN</td>\n",
       "      <td>-37.87882</td>\n",
       "      <td>144.60184</td>\n",
       "      <td>Western Metropolitan</td>\n",
       "      <td>5262.0</td>\n",
       "    </tr>\n",
       "    <tr>\n",
       "      <th>23675</th>\n",
       "      <td>Yallambie</td>\n",
       "      <td>17 Amaroo Wy</td>\n",
       "      <td>4.0</td>\n",
       "      <td>h</td>\n",
       "      <td>1100000.0</td>\n",
       "      <td>S</td>\n",
       "      <td>Buckingham</td>\n",
       "      <td>26-08-2017</td>\n",
       "      <td>12.7</td>\n",
       "      <td>3085.0</td>\n",
       "      <td>...</td>\n",
       "      <td>3.0</td>\n",
       "      <td>2.0</td>\n",
       "      <td>NaN</td>\n",
       "      <td>NaN</td>\n",
       "      <td>NaN</td>\n",
       "      <td>NaN</td>\n",
       "      <td>-37.72006</td>\n",
       "      <td>145.10547</td>\n",
       "      <td>Northern Metropolitan</td>\n",
       "      <td>1369.0</td>\n",
       "    </tr>\n",
       "    <tr>\n",
       "      <th>23676</th>\n",
       "      <td>Yarraville</td>\n",
       "      <td>6 Agnes St</td>\n",
       "      <td>4.0</td>\n",
       "      <td>h</td>\n",
       "      <td>1285000.0</td>\n",
       "      <td>SP</td>\n",
       "      <td>Village</td>\n",
       "      <td>26-08-2017</td>\n",
       "      <td>6.3</td>\n",
       "      <td>3013.0</td>\n",
       "      <td>...</td>\n",
       "      <td>1.0</td>\n",
       "      <td>1.0</td>\n",
       "      <td>362.0</td>\n",
       "      <td>112.0</td>\n",
       "      <td>1920.0</td>\n",
       "      <td>NaN</td>\n",
       "      <td>-37.81188</td>\n",
       "      <td>144.88449</td>\n",
       "      <td>Western Metropolitan</td>\n",
       "      <td>6543.0</td>\n",
       "    </tr>\n",
       "    <tr>\n",
       "      <th>23677</th>\n",
       "      <td>Yarraville</td>\n",
       "      <td>33 Freeman St</td>\n",
       "      <td>4.0</td>\n",
       "      <td>h</td>\n",
       "      <td>1050000.0</td>\n",
       "      <td>VB</td>\n",
       "      <td>Village</td>\n",
       "      <td>26-08-2017</td>\n",
       "      <td>6.3</td>\n",
       "      <td>3013.0</td>\n",
       "      <td>...</td>\n",
       "      <td>2.0</td>\n",
       "      <td>2.0</td>\n",
       "      <td>NaN</td>\n",
       "      <td>139.0</td>\n",
       "      <td>1950.0</td>\n",
       "      <td>NaN</td>\n",
       "      <td>-37.81829</td>\n",
       "      <td>144.87404</td>\n",
       "      <td>Western Metropolitan</td>\n",
       "      <td>6543.0</td>\n",
       "    </tr>\n",
       "  </tbody>\n",
       "</table>\n",
       "<p>5 rows × 21 columns</p>\n",
       "</div>"
      ],
      "text/plain": [
       "             Suburb           Address  Rooms Type      Price Method  \\\n",
       "23673  Wyndham Vale   25 Clitheroe Dr    3.0    u        NaN     PN   \n",
       "23674  Wyndham Vale  19 Dalrymple Bvd    4.0    h        NaN      S   \n",
       "23675     Yallambie      17 Amaroo Wy    4.0    h  1100000.0      S   \n",
       "23676    Yarraville        6 Agnes St    4.0    h  1285000.0     SP   \n",
       "23677    Yarraville     33 Freeman St    4.0    h  1050000.0     VB   \n",
       "\n",
       "             SellerG        Date  Distance  Postcode  ...  Bathroom  Car  \\\n",
       "23673      Harcourts  26-08-2017      27.2    3024.0  ...       1.0  0.0   \n",
       "23674  hockingstuart  26-08-2017      27.2    3024.0  ...       NaN  NaN   \n",
       "23675     Buckingham  26-08-2017      12.7    3085.0  ...       3.0  2.0   \n",
       "23676        Village  26-08-2017       6.3    3013.0  ...       1.0  1.0   \n",
       "23677        Village  26-08-2017       6.3    3013.0  ...       2.0  2.0   \n",
       "\n",
       "       Landsize  BuildingArea  YearBuilt  CouncilArea Lattitude  Longtitude  \\\n",
       "23673     552.0         119.0     1990.0          NaN -37.90032   144.61839   \n",
       "23674       NaN           NaN        NaN          NaN -37.87882   144.60184   \n",
       "23675       NaN           NaN        NaN          NaN -37.72006   145.10547   \n",
       "23676     362.0         112.0     1920.0          NaN -37.81188   144.88449   \n",
       "23677       NaN         139.0     1950.0          NaN -37.81829   144.87404   \n",
       "\n",
       "                  Regionname Propertycount  \n",
       "23673   Western Metropolitan        5262.0  \n",
       "23674   Western Metropolitan        5262.0  \n",
       "23675  Northern Metropolitan        1369.0  \n",
       "23676   Western Metropolitan        6543.0  \n",
       "23677   Western Metropolitan        6543.0  \n",
       "\n",
       "[5 rows x 21 columns]"
      ]
     },
     "execution_count": 3,
     "metadata": {},
     "output_type": "execute_result"
    }
   ],
   "source": [
    "df.tail()"
   ]
  },
  {
   "cell_type": "markdown",
   "metadata": {},
   "source": [
    "We can see that the data has been read successfully. Now, let's go ahead perform the required analysis."
   ]
  },
  {
   "cell_type": "markdown",
   "metadata": {},
   "source": [
    "## Data Analysis\n",
    "Here,I will analyze the data based on the questions above  one after the other."
   ]
  },
  {
   "cell_type": "markdown",
   "metadata": {},
   "source": [
    "####  1. Determine the no. of rows and no. of columns in the dataset."
   ]
  },
  {
   "cell_type": "code",
   "execution_count": 4,
   "metadata": {},
   "outputs": [
    {
     "data": {
      "text/plain": [
       "(23678, 21)"
      ]
     },
     "execution_count": 4,
     "metadata": {},
     "output_type": "execute_result"
    }
   ],
   "source": [
    "# Shape(rows,columns)\n",
    "df.shape"
   ]
  },
  {
   "cell_type": "markdown",
   "metadata": {},
   "source": [
    "#### 2.Display the datatypes of each column"
   ]
  },
  {
   "cell_type": "code",
   "execution_count": 5,
   "metadata": {},
   "outputs": [
    {
     "data": {
      "text/plain": [
       "Suburb            object\n",
       "Address           object\n",
       "Rooms            float64\n",
       "Type              object\n",
       "Price            float64\n",
       "Method            object\n",
       "SellerG           object\n",
       "Date              object\n",
       "Distance         float64\n",
       "Postcode         float64\n",
       "Bedroom2         float64\n",
       "Bathroom         float64\n",
       "Car              float64\n",
       "Landsize         float64\n",
       "BuildingArea     float64\n",
       "YearBuilt        float64\n",
       "CouncilArea       object\n",
       "Lattitude        float64\n",
       "Longtitude       float64\n",
       "Regionname        object\n",
       "Propertycount    float64\n",
       "dtype: object"
      ]
     },
     "execution_count": 5,
     "metadata": {},
     "output_type": "execute_result"
    }
   ],
   "source": [
    "#Datatypes\n",
    "df.dtypes"
   ]
  },
  {
   "cell_type": "markdown",
   "metadata": {},
   "source": [
    "Before Proceeding to the next Question let us first analyse the data further for more insights & Understanding."
   ]
  },
  {
   "cell_type": "markdown",
   "metadata": {},
   "source": [
    "#### 3.Determine the row indexes of rows having all null values (i.e. empty rows)."
   ]
  },
  {
   "cell_type": "code",
   "execution_count": 6,
   "metadata": {},
   "outputs": [
    {
     "data": {
      "text/plain": [
       "0        3\n",
       "1        2\n",
       "2        0\n",
       "3        3\n",
       "4        0\n",
       "        ..\n",
       "23673    2\n",
       "23674    8\n",
       "23675    4\n",
       "23676    1\n",
       "23677    2\n",
       "Length: 23678, dtype: int64"
      ]
     },
     "execution_count": 6,
     "metadata": {},
     "output_type": "execute_result"
    }
   ],
   "source": [
    "# Rows with missing values\n",
    "df.isna().sum(axis=1)"
   ]
  },
  {
   "cell_type": "markdown",
   "metadata": {},
   "source": [
    "#### 4.Determine the total number of empty rows and their percentage in whole dataset and remove them"
   ]
  },
  {
   "cell_type": "code",
   "execution_count": 7,
   "metadata": {},
   "outputs": [
    {
     "data": {
      "text/plain": [
       "0        0.012670\n",
       "1        0.008447\n",
       "2        0.000000\n",
       "3        0.012670\n",
       "4        0.000000\n",
       "           ...   \n",
       "23673    0.008447\n",
       "23674    0.033787\n",
       "23675    0.016893\n",
       "23676    0.004223\n",
       "23677    0.008447\n",
       "Length: 23678, dtype: float64"
      ]
     },
     "execution_count": 7,
     "metadata": {},
     "output_type": "execute_result"
    }
   ],
   "source": [
    "# Total_number of empty rows in each columns\n",
    "df.isna().sum(axis=1)*100/len(df)"
   ]
  },
  {
   "cell_type": "markdown",
   "metadata": {},
   "source": [
    "#### 5. Determine the column names having missing values."
   ]
  },
  {
   "cell_type": "code",
   "execution_count": 8,
   "metadata": {},
   "outputs": [
    {
     "data": {
      "text/plain": [
       "Index(['Suburb', 'Address', 'Rooms', 'Type', 'Price', 'Method', 'SellerG',\n",
       "       'Date', 'Distance', 'Postcode', 'Bedroom2', 'Bathroom', 'Car',\n",
       "       'Landsize', 'BuildingArea', 'YearBuilt', 'CouncilArea', 'Lattitude',\n",
       "       'Longtitude', 'Regionname', 'Propertycount'],\n",
       "      dtype='object')"
      ]
     },
     "execution_count": 8,
     "metadata": {},
     "output_type": "execute_result"
    }
   ],
   "source": [
    "# columns with  Missing values\n",
    "df.columns[df.isnull().any()]"
   ]
  },
  {
   "cell_type": "markdown",
   "metadata": {},
   "source": [
    "#### 6. Determine the missing values and their percentage in each column."
   ]
  },
  {
   "cell_type": "code",
   "execution_count": 9,
   "metadata": {},
   "outputs": [
    {
     "data": {
      "text/plain": [
       "Suburb            0.553256\n",
       "Address           0.553256\n",
       "Rooms             0.553256\n",
       "Type              0.553256\n",
       "Price            22.307627\n",
       "Method            0.553256\n",
       "SellerG           0.553256\n",
       "Date              0.553256\n",
       "Distance          0.557480\n",
       "Postcode          0.557480\n",
       "Bedroom2         19.477996\n",
       "Bathroom         19.490666\n",
       "Car              20.090379\n",
       "Landsize         26.471830\n",
       "BuildingArea     57.690683\n",
       "YearBuilt        51.262776\n",
       "CouncilArea      33.879551\n",
       "Lattitude        18.730467\n",
       "Longtitude       18.730467\n",
       "Regionname        0.557480\n",
       "Propertycount     0.557480\n",
       "dtype: float64"
      ]
     },
     "execution_count": 9,
     "metadata": {},
     "output_type": "execute_result"
    }
   ],
   "source": [
    "# Total_number of empty rows in each columns\n",
    "df.isna().sum()*100/len(df)"
   ]
  },
  {
   "cell_type": "markdown",
   "metadata": {},
   "source": [
    "#### 7. Determine the row indexes having missing values"
   ]
  },
  {
   "cell_type": "code",
   "execution_count": 10,
   "metadata": {},
   "outputs": [
    {
     "data": {
      "text/plain": [
       "0        3\n",
       "1        2\n",
       "2        0\n",
       "3        3\n",
       "4        0\n",
       "        ..\n",
       "23673    2\n",
       "23674    8\n",
       "23675    4\n",
       "23676    1\n",
       "23677    2\n",
       "Length: 23678, dtype: int64"
      ]
     },
     "execution_count": 10,
     "metadata": {},
     "output_type": "execute_result"
    }
   ],
   "source": [
    "df.isnull().sum(axis=1)"
   ]
  },
  {
   "cell_type": "markdown",
   "metadata": {},
   "source": [
    "#### 8. Determine the missing values and their percentage in each row."
   ]
  },
  {
   "cell_type": "code",
   "execution_count": 11,
   "metadata": {},
   "outputs": [
    {
     "data": {
      "text/plain": [
       "0        0.012670\n",
       "1        0.008447\n",
       "2        0.000000\n",
       "3        0.012670\n",
       "4        0.000000\n",
       "           ...   \n",
       "23673    0.008447\n",
       "23674    0.033787\n",
       "23675    0.016893\n",
       "23676    0.004223\n",
       "23677    0.008447\n",
       "Length: 23678, dtype: float64"
      ]
     },
     "execution_count": 11,
     "metadata": {},
     "output_type": "execute_result"
    }
   ],
   "source": [
    "df.isnull().sum(axis=1)*100/len(df)"
   ]
  },
  {
   "cell_type": "markdown",
   "metadata": {},
   "source": [
    "#### 9. Determine the column names having more than 30% missing values and remove them from the dataset"
   ]
  },
  {
   "cell_type": "code",
   "execution_count": 12,
   "metadata": {},
   "outputs": [],
   "source": [
    "pct_null = df.isnull().sum() / len(df)\n",
    "missing_features = pct_null[pct_null > 0.30].index\n",
    "df.drop(missing_features, axis=1, inplace=True)"
   ]
  },
  {
   "cell_type": "markdown",
   "metadata": {},
   "source": [
    "#### 10. Determine the number and percentage of rows having more than 5 missing values. If the percentage of such rows is less than 20% then remove all these rows."
   ]
  },
  {
   "cell_type": "code",
   "execution_count": 13,
   "metadata": {},
   "outputs": [
    {
     "name": "stdout",
     "output_type": "stream",
     "text": [
      "Suburb            0.00\n",
      "Address           0.00\n",
      "Rooms             0.00\n",
      "Type              0.00\n",
      "Price            21.71\n",
      "Method            0.00\n",
      "SellerG           0.00\n",
      "Date              0.00\n",
      "Distance          0.00\n",
      "Postcode          0.00\n",
      "Bedroom2          1.05\n",
      "Bathroom          1.07\n",
      "Car               1.81\n",
      "Landsize          9.65\n",
      "Lattitude         0.13\n",
      "Longtitude        0.13\n",
      "Regionname        0.00\n",
      "Propertycount     0.00\n",
      "dtype: float64\n"
     ]
    }
   ],
   "source": [
    "df.drop(df[df.isnull().sum(axis=1)>5].index,axis=0,inplace=True)\n",
    "\n",
    "print(round(100*(1-df.count()/len(df)),2))"
   ]
  },
  {
   "cell_type": "markdown",
   "metadata": {},
   "source": [
    "#### 11. Display the description of data and percentage of missing values still left column wise."
   ]
  },
  {
   "cell_type": "code",
   "execution_count": 14,
   "metadata": {},
   "outputs": [
    {
     "name": "stdout",
     "output_type": "stream",
     "text": [
      "Suburb            object\n",
      "Address           object\n",
      "Rooms            float64\n",
      "Type              object\n",
      "Price            float64\n",
      "Method            object\n",
      "SellerG           object\n",
      "Date              object\n",
      "Distance         float64\n",
      "Postcode         float64\n",
      "Bedroom2         float64\n",
      "Bathroom         float64\n",
      "Car              float64\n",
      "Landsize         float64\n",
      "Lattitude        float64\n",
      "Longtitude       float64\n",
      "Regionname        object\n",
      "Propertycount    float64\n",
      "dtype: object\n",
      "\n",
      "Suburb            0.000000\n",
      "Address           0.000000\n",
      "Rooms             0.000000\n",
      "Type              0.000000\n",
      "Price            21.708444\n",
      "Method            0.000000\n",
      "SellerG           0.000000\n",
      "Date              0.000000\n",
      "Distance          0.000000\n",
      "Postcode          0.000000\n",
      "Bedroom2          1.053506\n",
      "Bathroom          1.069075\n",
      "Car               1.806010\n",
      "Landsize          9.647621\n",
      "Lattitude         0.134932\n",
      "Longtitude        0.134932\n",
      "Regionname        0.000000\n",
      "Propertycount     0.000000\n",
      "dtype: float64\n"
     ]
    }
   ],
   "source": [
    "print(df.dtypes)\n",
    "print()\n",
    "print(df.isna().sum()*100/len(df))"
   ]
  },
  {
   "cell_type": "markdown",
   "metadata": {},
   "source": [
    "#### 12. Considering the 'Price' column as target variable which is to be predicted, how will you treat the missing values? Give a brief explanation and treat the missing values in 'Price' column.\n"
   ]
  },
  {
   "cell_type": "code",
   "execution_count": 15,
   "metadata": {},
   "outputs": [
    {
     "data": {
      "text/plain": [
       "1066694.6291263422"
      ]
     },
     "execution_count": 15,
     "metadata": {},
     "output_type": "execute_result"
    }
   ],
   "source": [
    "# First I will find the mean_value in price column and replace the missing_values using the mean\n",
    "mean=df['Price'].mean()\n",
    "mean"
   ]
  },
  {
   "cell_type": "code",
   "execution_count": 16,
   "metadata": {},
   "outputs": [
    {
     "data": {
      "text/plain": [
       "0"
      ]
     },
     "execution_count": 16,
     "metadata": {},
     "output_type": "execute_result"
    }
   ],
   "source": [
    "# Imputing missing value in Price_column\n",
    "df['Price'].fillna(mean,inplace=True)\n",
    "# confirm\n",
    "df['Price'].isna().sum()"
   ]
  },
  {
   "cell_type": "markdown",
   "metadata": {},
   "source": [
    "#### 13. Now check the percentage of missing values in each column again, if missing values exist, treat it with the most suitable method"
   ]
  },
  {
   "cell_type": "code",
   "execution_count": 17,
   "metadata": {},
   "outputs": [
    {
     "data": {
      "text/plain": [
       "Suburb           0.000000\n",
       "Address          0.000000\n",
       "Rooms            0.000000\n",
       "Type             0.000000\n",
       "Price            0.000000\n",
       "Method           0.000000\n",
       "SellerG          0.000000\n",
       "Date             0.000000\n",
       "Distance         0.000000\n",
       "Postcode         0.000000\n",
       "Bedroom2         1.053506\n",
       "Bathroom         1.069075\n",
       "Car              1.806010\n",
       "Landsize         9.647621\n",
       "Lattitude        0.134932\n",
       "Longtitude       0.134932\n",
       "Regionname       0.000000\n",
       "Propertycount    0.000000\n",
       "dtype: float64"
      ]
     },
     "execution_count": 17,
     "metadata": {},
     "output_type": "execute_result"
    }
   ],
   "source": [
    "df.isna().sum(axis=0)*100/len(df)"
   ]
  },
  {
   "cell_type": "markdown",
   "metadata": {},
   "source": [
    "We can see there are few missing_values.So I will replace bathroom & Bedroom with 3-each, car with 1 & Landsize with mean."
   ]
  },
  {
   "cell_type": "code",
   "execution_count": 18,
   "metadata": {},
   "outputs": [
    {
     "data": {
      "text/plain": [
       "Suburb           0.000000\n",
       "Address          0.000000\n",
       "Rooms            0.000000\n",
       "Type             0.000000\n",
       "Price            0.000000\n",
       "Method           0.000000\n",
       "SellerG          0.000000\n",
       "Date             0.000000\n",
       "Distance         0.000000\n",
       "Postcode         0.000000\n",
       "Bedroom2         0.000000\n",
       "Bathroom         0.000000\n",
       "Car              0.000000\n",
       "Landsize         0.000000\n",
       "Lattitude        0.134932\n",
       "Longtitude       0.134932\n",
       "Regionname       0.000000\n",
       "Propertycount    0.000000\n",
       "dtype: float64"
      ]
     },
     "execution_count": 18,
     "metadata": {},
     "output_type": "execute_result"
    }
   ],
   "source": [
    "# Imputing Missing values\n",
    "df['Bedroom2'].fillna(3,inplace=True)\n",
    "df['Bathroom'].fillna(3,inplace=True)\n",
    "df['Car'].fillna(1,inplace=True)\n",
    "df['Landsize'].fillna(551.7834577828834,inplace=True)\n",
    "# Confirm\n",
    "df.isna().sum(axis=0)*100/len(df)"
   ]
  },
  {
   "cell_type": "markdown",
   "metadata": {},
   "source": [
    "#### 14. Now since you have completed your data cleaning, determine the number and percentage of columns removed."
   ]
  },
  {
   "cell_type": "code",
   "execution_count": null,
   "metadata": {},
   "outputs": [],
   "source": []
  },
  {
   "cell_type": "markdown",
   "metadata": {},
   "source": [
    "#### 15. Determine the number and percentage of rows removed in whole process. Also comment briefly that according to you the amount of data lost is justified or not."
   ]
  },
  {
   "cell_type": "code",
   "execution_count": null,
   "metadata": {},
   "outputs": [],
   "source": []
  }
 ],
 "metadata": {
  "kernelspec": {
   "display_name": "Python 3",
   "language": "python",
   "name": "python3"
  },
  "language_info": {
   "codemirror_mode": {
    "name": "ipython",
    "version": 3
   },
   "file_extension": ".py",
   "mimetype": "text/x-python",
   "name": "python",
   "nbconvert_exporter": "python",
   "pygments_lexer": "ipython3",
   "version": "3.7.6"
  }
 },
 "nbformat": 4,
 "nbformat_minor": 4
}
