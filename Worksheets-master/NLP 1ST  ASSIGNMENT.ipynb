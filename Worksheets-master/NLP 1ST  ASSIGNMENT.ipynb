{
 "cells": [
  {
   "cell_type": "markdown",
   "metadata": {},
   "source": [
    "# NLP-Assignment "
   ]
  },
  {
   "cell_type": "markdown",
   "metadata": {},
   "source": [
    "# Objectives:\n",
    "1)fetch one month of data of coronavirus from twitter before it's outbreak and after outbreak and compare peoples emotion\n",
    "              \n",
    "   -Use NLTK library for tokenization and for stopwords.\n",
    "\n",
    "2) Pick your choice of document and update the emotion document accordingly (you document words and associated emotion where applicable) and analyse the sentiments of people.\n",
    "\n",
    "3) pick your own document (say A) and create BOW using a count vectorizer. Use another document (say B) and identify how many words of the B document are present in the BOW of A."
   ]
  },
  {
   "cell_type": "markdown",
   "metadata": {},
   "source": [
    "# 1)fetch one month of data of coronavirus from twitter before it's outbreak and after outbreak and compare peoples emotion"
   ]
  },
  {
   "cell_type": "markdown",
   "metadata": {},
   "source": [
    "# Importing required Libraries & Packages"
   ]
  },
  {
   "cell_type": "code",
   "execution_count": 1,
   "metadata": {},
   "outputs": [],
   "source": [
    "import string\n",
    "from collections import Counter\n",
    "import matplotlib.pyplot as plt\n",
    "from nltk.corpus import stopwords"
   ]
  },
  {
   "cell_type": "markdown",
   "metadata": {},
   "source": [
    "# Before Outbreak\n",
    "I set the Timeline before Outbreak in the month of December-2019 to January-2020 as first reported case in India was after 20th January."
   ]
  },
  {
   "cell_type": "code",
   "execution_count": 2,
   "metadata": {},
   "outputs": [],
   "source": [
    "def get_tweets():\n",
    "    import GetOldTweets3 as got  #Library used to scrape data from twitter without any other tools\n",
    "    tweetCriteria = got.manager.TweetCriteria().setQuerySearch('#Coronavirus') \\\n",
    "        .setSince('2019-12-20') \\\n",
    "        .setUntil('2020-01-20') \\\n",
    "        .setMaxTweets(700)\n",
    "    # Creation of list that contains all tweets\n",
    "    tweets = got.manager.TweetManager.getTweets(tweetCriteria)\n",
    "    # Creating list of choosen tweet data\n",
    "    text_tweets = [[tweet.text] for tweet in tweets]\n",
    "    return text_tweets"
   ]
  },
  {
   "cell_type": "code",
   "execution_count": 3,
   "metadata": {},
   "outputs": [],
   "source": [
    "#Reading Text file \n",
    "text = \"\"\n",
    "text_tweets = get_tweets()\n",
    "\n",
    "length = len(text_tweets)\n",
    "\n",
    "for i in range(0,length):\n",
    "    text = text_tweets[i][0] + \" \" + text\n",
    "    \n",
    "#Converting to lowercase\n",
    "lower_case = text.lower()\n",
    "\n",
    "# Removing punctuations\n",
    "cleaned_text = lower_case.translate(str.maketrans('', '', string.punctuation))\n",
    "\n",
    "#splitting text into words\n",
    "tokenized_words = cleaned_text.split()"
   ]
  },
  {
   "cell_type": "code",
   "execution_count": 4,
   "metadata": {},
   "outputs": [
    {
     "data": {
      "text/plain": [
       "[[' #coronavirus '],\n",
       " ['Los #coronavirus causan desde gripa hasta enfermedad grave. Para reducir riesgo: Higiene de manos Tapa boca-nariz al toser-estornudar Cocina bien carne y huevos Evita contacto cercano con personas con enfermedad respiratoria aguda Evitar contacto con animales de granja '],\n",
       " ['A scientific team announced that a new-type coronavirus, tentatively named by WHO as the 2019-new coronavirus (2019-nCoV), had caused this #coronavirus outbreak in #Wuhan'],\n",
       " ['O #coronavirus #Wuhan provocou 136 novos casos neste fim de semana na China, segundo autoridades'],\n",
       " ['Beijing Daxing Health Commission confirms 2 #coronavirus cases; Guangdong Province confirms 1 case. #China'],\n",
       " ['Meanwhile China is on the brink of a virus outbreak #coronavirus with travel, how long before it jumps continents '],\n",
       " ['New Outbreak of a SARS-Related Coronavirus in China: https://biotech-investments.com #coronaviruses #coronavirus #China #SARS2 #ChineseNewYear #ChineseNewYear2020 #ChinesePneumonia #Infection #China #healthcare'],\n",
       " ['China registra cuatro nuevos brotes de neumonía viral #china #coronavirus #neumoniaviral'],\n",
       " ['Interesting that #Dogs / #DogMeat are left out as the probable source of the #SARS like #coronavirus outbreak spreading from #China. Would be wise to ban \"rescue\" dog imports into the American \"adoption\" market from Asia #rescuedog'],\n",
       " ['#China reportó más casos de pacientes con misterioso brote de #coronavirus El británico @imperialcollege @MRC_Outbreak advirtió que el número de casos probablemente sea más cercano a 1.700 que a los 62 identificados oficialmente (ama)'],\n",
       " ['Si quieres conocer sobre el nuevo virus descubierto en China y sus implicaciones, lee este hilo #coronavirus #2019Cov'],\n",
       " ['According to health officials in Wuhan, #China, 136 new cases of the #coronavirus emerged during the weekend.'],\n",
       " ['Update on #Wuhan #coronavirus outbreak... https://lnkd.in/edK6U6u'],\n",
       " ['Number of cases of novel #coronavirus in China has escalated, with #Wuhan now reporting ~200 people infected. Confirmed case in Shenzhen &amp; unconfirmed cases in Beijing &amp; Shanghai add to evidence that the virus can be transmitted from person to person.'],\n",
       " ['春節で観光客がたくさん日本に来るわけだよね。その中に感染者もいる可能性が高いわけだよね。 #coronavirus '],\n",
       " ['A #Guangdong va ser on va treure el cap el #SARS #coronavirus el 2002. I ara arriba el #2019nCoV. TOT es repeteix, en un cercle sense principle ni fi.'],\n",
       " ['.@statnews by @HelenBranswell -- #China reports sharp rise in cases of novel virus amid growing concerns of person-to-person transmission #coronavirus #nCoV #Wahun http://bit.ly/36fnF5S'],\n",
       " ['#China: Guangdong Provincial Health Committee -- First confirmed case of #pneumonia in Guangong province (in Shenzen) with imported new #coronavirus infection #nCoV #Wahun ht @cmyeaton ht @crof http://bit.ly/365qshT'],\n",
       " ['https://link.springer.com/article/10.1007%2Fs00705-019-04470-z Food energy-dependent miRNA biogenesis biophysically constrains viral latency across kingdoms, but theorists still debate whether a specific microRNA antagonist could be used as a potential anti-viral therapy against PHEV and other #coronavirus infections'],\n",
       " ['Over the weekend the number of detected #coronavirus cases in #Wuhan jumped by 136 cases with one new death reported. Of these, three are critically ill. New cases have also been reported for the first time outside the city: two in Beijing and one in Shenzhen.'],\n",
       " ['Nuevo #coronavirus @WHO @pahowho'],\n",
       " ['Don\\'t mean to interrupt re-litigating Qaddafi & #Libya\\'s inability to avoid a few Shays\\' Rebellions, but this #coronavirus thread might yet interest markets: 139 new cases in 2 days &amp; just how capable/willing are various nations \"to continue preparedness activities\". #OOTT #oil'],\n",
       " ['.@CIDRAP @lisaschnirring : #Wuhan #nCoV outbreak quadruples, spreads within China #coronavirus http://bit.ly/30Cwl55'],\n",
       " ['Das neue #CoronaVirus breitet sich aus . . . '],\n",
       " ['THREAD #coronavirus '],\n",
       " ['Watching pseudoscientists fail to link what is known to all serious scientists about viral predation in #Wuhan causes more #coronavirus fear than most intelligent people ever considered. They thought Democrats and other hate-mongers were paying attention. '],\n",
       " ['WHO is proposing studies on the novel #coronavirus (2019-nCoV) that can be done in #China and elsewhere to better understand transmission, risk factors, and where the virus is. These studies take time and resources. Some of these studies are being undertaken already.'],\n",
       " ['Beijing has confirmed that for the first time, two people have been diagnosed with the #coronavirus. They have a history of traveling to Wuhan where most of the coronavirus-related #pneumonia cases have occurred. #Flu'],\n",
       " ['As more novel #coronavirus (2019-nCoV) cases are identified and more analysis undertaken, we will get a clearer picture of disease severity and transmission patterns. We will update and expand our guidance as we learn more. '],\n",
       " ['La OMS declaró alerta mundial por el #coronavirus. Algunos científicos aseguran que el número de personas infectadas es mayor a las cifras oficiales '],\n",
       " ['WHO is constantly analyzing data on the novel #coronavirus (2019-nCoV) as we receive it, and working closely with global networks of experts on a range of topics. '],\n",
       " ['Thanks to the rapid availability of #Wuhan #nCov sequences, here is a prediction of evolutionarily conserved cis-acting #RNAs in the first 500nt. As expected, many structurally homologous elements to #SARS #coronavirus https://doi.org/10.6084/m9.figshare.11659575 #China #CoV'],\n",
       " ['WHO urges countries to continue preparedness activities for the novel #coronavirus (2019-nCoV), and continue sharing of information. Speedy information sharing has already had a positive impact on the response. '],\n",
       " ['#epidemiology #Coronavirus '],\n",
       " ['Q: What can I do to protect myself from #coronavirus? A: http://bit.ly/2tMEBmu'],\n",
       " ['An animal source seems the most likely primary source of this novel #coronavirus (2019-nCoV) outbreak, with some limited human-to-human transmission occurring between close contacts. '],\n",
       " ['Beijing has confirmed that for the first time, two people have been diagnosed with the #coronavirus. They have a history of traveling to Wuhan where most of the coronavirus-related #pneumonia cases have occurred. #Flu'],\n",
       " ['WHO has issued advice for individuals on how to protect themselves and others from the novel #coronavirus (2019-nCoV) '],\n",
       " ['#China has reported to WHO 139 new cases of the novel #coronavirus (2019-nCoV) in #Wuhan, #Beijing and #Shenzhen over the past two days. This is the result of increased searching and testing for 2019-nCoV among people sick with respiratory illness.'],\n",
       " ['WHO has provided advice to countries on how to identify people sick with the novel #coronavirus (2019-nCoV), how to care for them, and how to prevent spread. '],\n",
       " ['#Beijing confirmed 2 imported cases of #2019-nCoV from #Wuhan #China #coronavirus https://m.weibo.cn/status/4462638756717942'],\n",
       " ['Aqui el \"STILL\" és realment el quid. \"Preventable\" dubto molt que ho sigui, sense #vacuna. Però \"controlable\" si coneixem la font inicial, i la via de transmissió, SÍ. #coronavirus #pneumonia #Wuhan'],\n",
       " ['For the first time, there are novel #coronavirus (2019-nCoV) cases reported outside of #Wuhan, within #China . These cases were identified because of searching and testing for cases outside Wuhan.'],\n",
       " ['\"...epidemic situation is still...controllable. However, the source of the new type of #coronavirus has not been found, the transmission of the epidemic has not been fully grasped, and the mutation of the virus still needs to be closely monitored.\" #Wuhan https://afludiary.blogspot.com/2020/01/china-national-health-commission.html'],\n",
       " ['#China has reported to WHO 139 new cases of the novel #coronavirus (2019-nCoV) in #Wuhan, #Beijing and #Shenzhen over the past two days. This is the result of increased searching and testing for 2019-nCoV among people sick with respiratory illness.'],\n",
       " [' #Tipoftheday in #Pneumologia: The Wuhan #nCoV #pneumonia outbreak quadruples, spreads within #China #http://ow.ly/NWK030qaECG via @cidrap #coronavirus #pneumologista'],\n",
       " ['In this update: -Laboratory testing available - media report -WHO Interim Guidance on Laboratory testing for #nCoV2019 in suspected human cases -Diagnostic detection of #Wuhan #coronavirus by real-time RT-PCR -Japan: Detection of WN-Human1 sequence from clinical specimen. '],\n",
       " ['#Shanghai #Health Commission said on Sunday it has stepped up screening for suspected #coronavirus related pneumonia. https://www.shanghaieye.com.cn/shanghai-intensifies-screening-for-suspected-cases-on-coronavirus/'],\n",
       " ['Is the #coronavirus discovered in China now passing from human to human? We speak with Dr Irani Thevarajan of @TheDohertyInst'],\n",
       " ['Avian Flu Diary: Guangdong Province Confirms 1st Novel Coronavirus Case http://dlvr.it/RNM84v #chinapneumonia #coronavirus #nCov2019'],\n",
       " ['The virus-driven degradation of mRNA has been the biggest threat to national security since before the time that it was reported for comic relief in this interview from 6/1/2007. http://www.cc.com/video-clips/sz2odd/the-daily-show-with-jon-stewart-greg-bear Watch what happens with the new #coronavirus from #Wuhan.'],\n",
       " ['#coronavirus new case 20.1.2020 the virus had increased by 136 over the weekend to 198.'],\n",
       " [\"Es consolida la propagació d'aquest nous #coronavirus o estem detectant més i millor? Probablement les dues coses, però un virus q es propaga sempre ha de preocupar. #Wuhan #pneumonia #salutpublica #OneHealth\"],\n",
       " [\"CHINA'S NATIONAL HEALTH COMMISSION SAYS SOURCE OF THE NEW CORONAVIRUS HAS ... http://dlvr.it/RNM7LM #chinapneumonia #coronavirus #nCov2019\"],\n",
       " ['Update on the #Wuhan #nCoV outbreak via @lisaschnirring @CIDRAP just now Wuhan nCoV outbreak quadruples, spreads within China http://www.cidrap.umn.edu/news-perspective/2020/01/wuhan-ncov-outbreak-quadruples-spreads-within-china #coronavirus #China'],\n",
       " ['Pretty sure I was suffering from Corona Virus yesterday! But nothing a berocca couldn’t fix followed by a few more Corona’s!! @JustinHealy1 @mickjcal #coronavirus'],\n",
       " ['How to handwash? Use and water for at least 40-60 seconds How to handrub? Use alcohol-based handrub for 20-30 seconds #coronavirus '],\n",
       " [\"Not long before he's blamed for the #AustralianWildFires and #coronavirus. My bridge broke while biting into a plum last week. *shakes fist at brother-in-law who looks a bit like Corbyn. \"],\n",
       " ['National Health Commission sends working groups to provinces across the country http://dlvr.it/RNM54H #chinapneumonia #coronavirus #nCov2019'],\n",
       " ['Guangdong confirmed a Wuhan linked case of pneumonia with a new coronavirus infection http://dlvr.it/RNM54B #chinapneumonia #coronavirus #nCov2019'],\n",
       " ['Wuhan pneumonia prevention program issued: fever patients must ask Wuhan travel history http://dlvr.it/RNM51m #chinapneumonia #coronavirus #nCov2019'],\n",
       " ['Wuhan #nCoV outbreak quadruples, spreads within China http://ow.ly/NWK030qaECG #ncov2019 #Wuhan #coronavirus '],\n",
       " ['Una primera entrada amb dades i comentaris sobre aquest nou #coronavirus a #Wuhan, o #2019nCoV, agent causal de #pneumonia. Tot és #OneHealth al final. Comentaris virus-lents (228): Joc de trons; un altre virus reclama la corona.'],\n",
       " ['#Coronavirus: China reports 17 new cases of Sars-like mystery virus cc @marynmck https://www.theguardian.com/world/2020/jan/19/coronavirus-china-reports-17-new-cases-of-sars-like-mystery-virus?'],\n",
       " ['#Breaking: 2 #pneumonia cases caused by new type of #coronavirus were confirmed Sunday in #Beijing. The patients, who had traveled to #Wuhan, are in stable condition. (Photo: VCG) https://globaltimes.cn/content/1177375.shtml'],\n",
       " ['#nCoV #coronavirus #Wuhan '],\n",
       " ['Thread on #nCoV #coronavirus and update today from #Wuhan from Tom Inglesby, Director of Johns Hopkins University Center for Health Security'],\n",
       " ['Hello ochovio, the whole thread from @ZulmaCucunuba is compiled now. Read it here: https://threader.app/thread/1218539461111361541 #coronavirus #2019nCov #SARS #MERS #2019vCov'],\n",
       " ['Wuhan: 136 new cases of coronavirus pneumonia and 1 death http://dlvr.it/RNM3d0 #chinapneumonia #coronavirus #nCov2019'],\n",
       " ['Beijing Daxing confirms 2 cases of pneumonia infected by new coronavirus http://dlvr.it/RNM3cQ #chinapneumonia #coronavirus #nCov2019'],\n",
       " ['Avian Flu Diary: Wuhan Health Commission: 136 New Coronavirus Cases Added (Ttl=198) http://dlvr.it/RNM3bV #chinapneumonia #coronavirus #nCov2019'],\n",
       " ['COINCIDENCE!? #coronavirus \"With more than 15 million newborn babies in 2018, China has huge demand for vaccines targeting pneumonia, China approves home-grown vaccines, offering alternative to global drugmakers\\' products\" '],\n",
       " [\"COINCIDENCE!!? #Coronavirus Virus? Soon after #Pneumonia #Vaccine Approval in China China approves home-grown vaccines, offering alternative to global drugmakers' products | SaltWire https://www.saltwire.com/news/world/china-approves-sales-of-first-domestically-developed-13-valent-pneumonia-vaccine-393018/#.XiTIo_F-39I.twitter\"],\n",
       " ['#coronavirus I do hope @Fmohnigeria @FAAN_Official @followlasg @NGRPresident are at ALERT to deal with this virus? We have tangible number of Chinese coming into Nigeria, as well as Nigerians going to China for business. Kindly act to prevent such in our nation.'],\n",
       " ['Utilisation de la technique RT-PCR pour les cas suspectés de #pneumonie à #coronavirus chinois #nCoV-2019'],\n",
       " [\"Hetan Shah of #BritishAcademy may be right; Example, #coronavirus outbreak in a wholesale seafood market in #Wuhan &amp; the recent culling of pigs are all big global issues requiring 'all hands on the deck' approach, needing long term strategy for survival. https://www.nature.com/articles/d41586-020-00064-x\"],\n",
       " ['La ciencia abierta ayuda a responder con agilidad a brotes de enfermedades como el de hace unos días en China, sobre el #coronavirus '],\n",
       " ['@WHO: Throw the used tissue into a closed bin immediately after use Clean hands with soap and water or alcohol-based handrub after coughing or sneezing and when caring for the sick #coronavirus https://buff.ly/362RSEX'],\n",
       " ['@WHO: Protect others from getting sick: Completely cover your mouth &amp; nose with a tissue or a sleeve or flexed elbow when coughing or sneezing #coronavirus https://buff.ly/2TBSUoH'],\n",
       " ['Does this help explain new #coronavirus? | Scientists Found Ancient, Never-Before-Seen Viruses in a Glacier https://www.vice.com/en_us/article/pkebx9/scientists-found-ancient-never-before-seen-viruses-in-a-glacier?utm_campaign=sharebutton via @vice'],\n",
       " ['#coronavirus #wuhan #china'],\n",
       " ['#WuhanPneumonia #Wuhan #EMS #coronavirus '],\n",
       " ['China reports new virus cases, raising concern globally https://tinyurl.com/rqdz33k via @globalnews #coronaviruses #coronavirus #health #China #Canada #medicine #influenza #healthcare #DiscoveryBoxCanada '],\n",
       " ['No està de més recordar conceptes, bons per a la feina, bons per a la cura del malalts, bons per a la llar, per no fer nosaltres de transmissors dels nostres propis patògens. #coronavirus #2019nCoV #Wuhan #Pneumonia'],\n",
       " ['Això està creixent força...cert que ara sabem què estem cercant i ara es troba però els increments semblen massa grans per ser assignats tots a una millor i més efectiva recerca diagnòstica. #coronavirus #pneumonia #Wuhan #OneHealth'],\n",
       " ['Concerns that coronavirus could be more prevalent https://tinyurl.com/w9bc2mm via @CTVNews #Canada #Health #Coronavirus #influenza #China #healthcare #DiscoveryBoxCanada'],\n",
       " ['@WHO: How to handwash? Use and water for at least 40-60 seconds How to handrub? Use alcohol-based handrub for 20-30 seconds #coronavirus https://buff.ly/2R2jrde'],\n",
       " ['Statement by #Daxing Health #China #Coronavirus #Pneumonia #Infection #Fevers #Coughs #Fevers #Fatigue #PublicHealth #Health #nCoV2019 #2019nCoV #InfectiousDisease #Medicine #News/ cc @WHO'],\n",
       " ['Alerte épidémiologique pour le nouveau #coronavirus chinois #nCoV-2019 https://www.intramed.net/contenidover.asp?contenidoid=95386'],\n",
       " ['Wuhan Municipal Health Committee - the big jump in cases in easy to read format http://dlvr.it/RNLvMh #chinapneumonia #coronavirus #nCov2019'],\n",
       " ['#Coronavirus New virus in #China requires international control effort'],\n",
       " ['#Daxing #China #Coronavirus #Pneumonia #Infection #Fevers #Coughs #Fevers #Fatigue #PublicHealth #Health #nCoV2019 #2019nCoV #InfectiousDisease #Medicine #News/ cc @WHO'],\n",
       " ['#Chine Quatre-vingt-dix cas suspects ont été signalés à #HongKong. 2 personnes à Pékin et 1 à Shenzhen ont également été testées positives pour le nouveau #Coronavirus, ce qui en fait les premiers cas confirmés en dehors de #Wuhan. #China #Pneumonia #Virus'],\n",
       " ['#BREAKING Three people test positive for coronavirus in Shenzhen, making it the first confirmed case outside of Wuhan. #Coronavirus #Wuhan #Shenzhen'],\n",
       " ['BREAKING: The Chinese City of #Wuhan reports 136 new cases of a mutated type of a highly infectious #coronavirus. This brings the official total in that city to near 200, adfiutional sporadic cases now being reported outside #Wuhan. #WuhanPneumonia #WuhanCluster #China'],\n",
       " ['Premier cas de #pneumonie à nouveau #coronavirus #nCoV-2019 à Guangdong'],\n",
       " ['Un bon resum cronològic de la progressió de #coronavirus de #Wuhan...encara que penseu que fa quatre dies, els primers casos són de mitjans de desembre; per tant les exposicions són prèvies i el focus estava actiu a començaments de desembre. #pneumonia #salutpublica'],\n",
       " ['#Wuhan #China #Coronavirus #Pneumonia #Infection #Fevers #Coughs #Fevers #Fatigue #PublicHealth #Health #nCoV2019 #2019nCoV #InfectiousDisease #Medicine #News/ cc @WHO'],\n",
       " ['Interesante hilo para entender mejor el brote de #coronavirus en China '],\n",
       " ['Correcte, poc més de 50 casos en 3 setmanes i ARA el triple de casos els dos darrers dies; molt biaix diagnòstic cal per explicar això. Per altra banda, continua sent un virus benigne; taxa de mortalitat inferior al 2% casos clínics. #coronavirus #pneumonia #Wuhan'],\n",
       " [\"Doncs sí, si cada dia hi ha més nous casos que l'anterior, i ja portem 200 casos totals, i tres morts, o tenim una infecció molt estesa que ara, a força de cercar, trobem (pq si cerques, trobes) o tenim una propagació #H2H accelerant-se. #coronavirus #pneumonia #Wuhan\"],\n",
       " ['Big surge in new #coronavirus cases in #Wuhan in last 2 days. Total Wuhan cases: 198 cases as of 1/19 22:00; 66 male, 70 female. Ages 25 to 89. 33 cases severe, 3 critical incl one new death. 2 cases reported in Beijing. So 200 cases reported in China. http://wjw.wuhan.gov.cn/front/web/showDetail/2020012009077'],\n",
       " ['This looks quite worrying In just two days there have been 136 newly confirmed cases of the novel #coronavirus (#nCoV2019) in #Wuhan (China) Confirmed cases also reported in #Japan, #Thailand and #Shenzhen (near Hong Kong) Info from @WHO here: https://www.who.int/health-topics/coronavirus #nCoV'],\n",
       " ['#AustralianChinese travelling for #ChineseNewYear2020 beware of a new virus in #China with potential to spread easily and affect thousands @dfat @XHNews @ChinaDaily #PRC #coronavirus '],\n",
       " ['#china #Wuhan #coronavirus #health #epidemic'],\n",
       " ['The latest Emergency Management Times! https://paper.li/lawscomm/1326842994?edition_id=94a7c120-3af2-11ea-97ff-0cc47a0d1609 Thanks to @IsmaelAquino @PRhynardPIO @DanMcGarvey #coronavirus #ai'],\n",
       " ['#WHO emergency report and response: A #Japanese man who had travelled to #Wuhan #China was diagnosed contracting novel #coronavirus. '],\n",
       " ['#coronavirus #RiesgoEpidemico #HayQueEstarAlertas'],\n",
       " ['Follow for #nCoV #nCoV2019 #coronavirus info: @FluTrackers @Fla_Medic @Laurie_Garrett @WHOWPRO @greg_folkers @Crof @hayesluk @arambaut @MattFrieman @MackayIM @HelenBranswell @CIDRAP @alexandraphelan'],\n",
       " ['one confirmed case in #shenzhen 66yo M 3rd Jan fever 18th confirmed eventually... #coronavirus #nCoV2019'],\n",
       " ['#WHO statement on novel #coronavirus in #Thailand'],\n",
       " ['Es parla molt del #coronavirus de #Wuhan comparant-lo amb el #SARS però, que en sabeu del #SARS? Una entrada de fa molt que explica allò bàsic i permet fer comparances. Comentaris virus-lents (37): Un primer coronavirus que va arribar de l’est.'],\n",
       " ['Esta semana lá no meu Instagram (@danialvesceiri) vou explicar mais sobre o Alerta Global relacionado ao #coronavirus O que é, o que significa e se estamos preparados para este novo alerta global da OMS '],\n",
       " ['2 cases in #beijing #coronavirus #ncov2019'],\n",
       " [\"#Japan confirms case of new #Chinese #coronavirus, spread is 'concerning'. \"],\n",
       " ['@WHO: Wash your with and running water when hands are visibly dirty. If your are not visibly dirty, wash them with and water or use an alcohol-based hand cleanser. #coronavirus https://buff.ly/38jbGWk'],\n",
       " ['#Japón confirmó el primer caso de infección por un nuevo #coronavirus con origen en #China que ha matado a una persona y generó una alerta de viaje del Departamento de Estado de #EstadosUnidos.'],\n",
       " ['3 #Canadian airports will screen air travellers from Wuhan amid the outbreak of new #coronavirus. '],\n",
       " ['El seguiment q faig d\\'algunes malalties víriques i de temes de #bioseguretat i #biocontenció s\\'explica en aquesta entrada. Ja sia #coronavirus, #ebola, #pandoravirus, o el virus \"X\" per emergir. Comentaris virus-lents (28): Per què \"m\\'agraden\" els virus?'],\n",
       " ['Bilan des cas de #pneumonie à nouveau #coronavirus #nCoV-2019 en Chine'],\n",
       " [\"AFD BLog `Wuhan Health Commission: 136 New #Coronavirus Cases Added (Ttl=198)' https://afludiary.blogspot.com/2020/01/wuhan-health-commission-136-new.html\"],\n",
       " [\"#Chine Les cas de #Pneumonie provoqués par un nouveau type de #Coronavirus dans le centre de #Wuhan sont passés à 198, avec 25 guéris et 3 morts selon l'autorité sanitaire de Wuhan dimanche. #China #Virus https://www.globaltimes.cn/content/1177375.shtml\"],\n",
       " ['The emergence of the novel #coronavirus in Wuhan China and report of cases in Japan and Thailand, has raised concerns in countries. Though the risk of spread to Nigeria is moderate according to @WHO, we remain at alert &amp; continue to strengthen preparedness'],\n",
       " ['\"The boundaries we hold dear aren\\'t respected by infectious diseases\" The recent emergence of a novel #coronavirus in Wuhan, China &amp; its spread to other countries within weeks reminds us of the threat infectious diseases pose to all countries #NCDCSundayReflections'],\n",
       " ['Una entrada de fa prop de 5 anys, que torna a estar vigent; tot brot, els de #coronavirus també, és inicialment confús i té moltes derivades. Comentaris virus-lents (117): Corea del Sud i #MERS; el malson s’està materialitzant.'],\n",
       " ['Just In: #Pneumonia cases caused by a new type of #coronavirus in Central China’s #Wuhan have rose to 198, with 25 recovered and 3 dead: Wuhan health authority on Sunday https://www.globaltimes.cn/content/1177375.shtml'],\n",
       " ['59 new cases on 18th 77 new cases on 19th 1 new dead case 66 male 70 female 25 yo to 89 yo onset before 18th jan total case :198 thats a #h2h community outbreak i guess #coronavirus '],\n",
       " ['#Wuhan Municipal Commission of Health and Health on #pneumonia of new #coronavirus infection, 2020-01-20 02:42:40 -- link to google translation : http://bit.ly/2TrPJ2X'],\n",
       " ['#Wuhan Municipal Commission of Health and Health on pneumonia of new #coronavirus infection, 2020-01-20 02:42:40 / \"198 cases of #pneumonia of new coronavirus infection have been reported in our city\" #WuhanCluster'],\n",
       " ['Journal of Hospital Infection: Preparedness and proactive infection control measures against the emerging #Wuhan #coronavirus #pneumonia in #China http://bit.ly/2G8JNnu'],\n",
       " ['indian teacher contracts deadly #coronavirus .. being treated..#wuhanflu https://lnkd.in/faqUW9A'],\n",
       " ['There have been >60 confirmed cases of the new #coronavirus but UK experts @imperialcollege @mrc_outbreaks estimate 1,700. #virology #publichealth #WuhanPneumonia'],\n",
       " ['Read the #GOA opinion you #HackJournalist. You both have a lot to learn about #security and how you can improve upon it. #Assassination is not the best way to keep the #MiddleEast stable and #terrorists in line. #patriotsagainst45 #VoteBlueToSaveAmerica #ComplicitGOP #coronavirus'],\n",
       " ['Canadian airports screening travellers from central China due to #coronavirus Novel Coronavirus (2019-nCoV) outbreak Symptoms are similar as SARS (Respiratory pneumonia like symptoms ) it could be fatal #canpoli #ontpoli #healthcare https://www.thestar.com/news/canada/2020/01/17/three-canadian-airports-to-screen-air-travellers-from-central-china-amid-outbreak.html'],\n",
       " ['Muy interesante #coronavirus #2019nCoV'],\n",
       " ['H5N1: China to step up countermeasures as coronavirus outbreak grows http://dlvr.it/RNLbw5 #chinapneumonia #coronavirus #nCov2019'],\n",
       " ['China coronavirus: Beijing breaks its silence, but only to ‘deny rumours’ | South China Morning Post http://dlvr.it/RNLbv4 #chinapneumonia #coronavirus #nCov2019'],\n",
       " ['H5N1: China coronavirus: Beijing breaks its silence, but only to ‘deny rumours’ http://dlvr.it/RNLbsX #chinapneumonia #coronavirus #nCov2019'],\n",
       " ['The clinical signs and symptoms reported are mainly fever, with a few cases having difficulty in breathing, and chest radiographs show invasive #pneumonic infiltrates in both #lungs. Story already outdated. #MSL #medicalaffairs #coronavirus #epidemiology https://buff.ly/2FIahw7'],\n",
       " ['ചൈനയിലെ അജ്ഞാത രോഗം; ചികിത്സയിൽ കഴിയുന്നവരിൽ ഇന്ത്യൻ അധ്യാപികയും #China #coronavirus '],\n",
       " ['People please take precautions if planning a trip to #China \" Indian schoolteacher first foreigner to contract #Coronavirus\" @drharshvardhan @DrSJaishankar https://shrts.in/AFss'],\n",
       " ['Despite 3 exported cases, the only confirmed #nCoV #coronavirus case on mainland #China (apart from the 62 in #Wuhan) is an Indian foreign national in #shenzhen '],\n",
       " ['Q: What is a #coronavirus? A: Coronaviruses are a large family of viruses that are known to cause illness ranging from the common cold to more severe diseases such as Middle East Respiratory Syndrome (MERS) and Severe Acute Respiratory Syndrome (SARS) http://bit.ly/2tMEBmu'],\n",
       " ['Everything You Need To Know About CORONA VIRUS & How To Prevent It? https://howtocure.com/coronavirus-preventive-measures/ #HowtoCure #CoronaVirus '],\n",
       " [\"#Wuhan té tots els ingredients per un brot de #coronavirus. Una gran ciutat, densa i molt poblada, amb mercats d'animals vius on persones i possiblement porcs, ratpenats, i altres mamifers silvestres, alguns infectats, es barregen. https://www.wsj.com/articles/virus-in-china-is-part-of-a-growing-threat-11578692839 https://www.wsj.com/articles/virus-in-china-is-part-of-a-growing-threat-11578692839?redirect=amp#click=https://t.co/WKeEqTrMv8\"],\n",
       " ['https://www.nbcnews.com/news/world/new-cases-deadly-coronavirus-detected-china-ahead-busy-new-year-n1118531 #Coronavirus @WHO'],\n",
       " ['Está cañón esto del #Coronavirus #2019nCoV'],\n",
       " ['Concerns that coronavirus could be more prevalent https://tinyurl.com/wzz5olo via @CTVNews @CTVNationalNews ht @letstalkscience #Coronavirus #coronaviruses #epidemiology #influenza #Health #medicine #Science #STEM #STEMed #STEMeducation'],\n",
       " [\"New #coronavirus 'preventable and controllable', #China says\"],\n",
       " ['China reports 17 new cases of mystery virus via @dwnews https://p.dw.com/p/3WQWO?maca=en-Twitter-sharing #China #WHO #health #healthcare #virus #coronavirus #disease #medicine #science #research #travel #travellers #RegionalSecurity'],\n",
       " ['China will step up efforts to contain the #coronavirus outbreak in Wuhan ahead of the Lunar New Year holidays as a rise in confirmed cases fanned fears the virus could spread to other countries. '],\n",
       " [\"Editorial @IJID sobre nou #coronavirus (2019 nCoV) de #Wuhan: &gt;=70% similaritat genètica amb #SARS-CoV Clinicament menys agresiu que #SARS o #MERS. Febre i Simptomes respiratoris aguts amb 2 morts d'ancians amb complicacions previes de salut. #OneHealth\"],\n",
       " ['RT @cdc re: novel #coronavirus in #Wuhan, #China. @IGHSatUCSF @zlatev101 @Dr_Le_UCSF @SamirShahMD'],\n",
       " [' Les scientifiques occidentaux estiment que les autorités chinoises minimisent le nombre de victimes dues au virus #coronavirus '],\n",
       " ['Shanghai intensifies screening for suspected cases on coronavirus http://dlvr.it/RNLQ6T #chinapneumonia #coronavirus #nCov2019'],\n",
       " [\"Un gran fil. El processat d'una mostra diagnostica per detectar genoma viric. Per serologia i detecció d'anticosos (infeccions passades) caldria un altre fil un pel diferent. #coronavirus #Wuhan #pneumonia #diagnostic\"],\n",
       " ['Muy buen hilo para entender situación actual y escenarios ante aparición virus #2019nCov #Coronavirus '],\n",
       " ['China to step up countermeasures as #coronavirus outbreak grows #nCoV2019'],\n",
       " ['#Coronavirus'],\n",
       " ['CDC to screen for deadly coronavirus at JFK, LAX, SFO airports https://www.today.com/video/cdc-to-screen-for-deadly-coronavirus-at-jfk-lax-sfo-airports-77018693602 via @TODAYshow #CDC #coronavirus'],\n",
       " ['#CienciaAbierta como #FastTrack para entender el nuevo virus #Coronavirus. @acpccolombia Los invito a leer esta magnífica explicación de @ZulmaCucunuba:'],\n",
       " ['Read carefully. Bejing claims there are no cases Chinese cases outside #WuHan and no evidence of hu2human transmission. At least 8 ppl are already in jail for \"spreading rumors \" abt #Coronavirus: Beijing breaks silence, to \\'deny rumours\\'. https://www.scmp.com/news/china/society/article/3046732/china-coronavirus-beijing-breaks-its-silence-only-deny-rumours via @GoogleNews'],\n",
       " ['Dos personas han muerto y ocho continúan en estado grave tras el brote de un nuevo tipo de #coronavirus en #China.'],\n",
       " ['Metamasks P95-equivalent nanofiltration protects you from #airborne bacteria, viruses and pathogens including #coronavirus as small as .01 microns* when traveling or living in affected areas. Be PROTECTED in STYLE and : : Breathe Beautifully : : http://metamasks.com #outbreak'],\n",
       " ['#Indian woman contacts deadly virus in #China #Coronavirus #virus #Wuhan #wuhanvirus #WuhanPneumonia #WuhanSARS #virus Read Here==&gt;https://bit.ly/2NH3cAb'],\n",
       " ['#Coronavirus breitet sich aus. '],\n",
       " ['China to step up countermeasures as virus outbreak grows https://reut.rs/2TCPfqT #China #Coronavirus #Health #WorldNews'],\n",
       " [' #China reporta 17 nuevos casos de #coronavirus Los 17 nuevos pacientes comenzaron a mostrar síntomas como fiebre o tos (62 casos) Dos personas murieron, se han reportado dos casos en #Tailandia y uno en #Japón, ambos relacionados con personas que viajaron desde #Wuhan'],\n",
       " ['Situación #epidemiológica del #VIRUS #Coronavirus actualmente. Tomar precauciones básicas al viajar a esos países '],\n",
       " ['China #coronavirus: Beijing breaks its silence, but only to ‘deny rumours’ #nCoV2019 https://crofsblogs.typepad.com/h5n1/2020/01/china-coronavirus-beijing-breaks-its-silence-but-only-to-deny-rumours.html'],\n",
       " ['Otras 17 personas en #China fueron infectadas con una nueva cepa de #Coronavirus. Tres de dichos pacientes están gravemente enfermos. '],\n",
       " ['#Tunisia: Ministry of Health called Sunday for following a set of recommendations to prevent the novel (new) #coronavirus (#nCoV) from entering the country, following a report from @WHO on the pneumonia outbreak in #Wuhan, #China since December 31, 2019. https://bit.ly/365aDHJ'],\n",
       " ['How do we know this hasn’t hit Ireland? The amount of people with heavy flu like symptoms at the moment is scary #coronavirus'],\n",
       " ['A 45-year-old Indian school teacher is undergoing treatment following the outbreak of a new strain of pneumonia spreading in the Chinese cities of Wuhan and Shenzhen. #coronavirus '],\n",
       " [' Coronavirus breitet sich aus - deutlich mehr Infizierte, als bisher gedacht https://www.focus.de/11568423 #Coronavirus #virus #Hercai #whatsappdown'],\n",
       " ['Con eso del #Coronavirus, sólo espero que sí llega a México sea después del 20 de marzo, para tener una cuarentena con #AnimalCrossingNewHorizons Por cierto, faltan 61 días. No me odien mucho. Me convertiré en un fastidio estos 2 meses.'],\n",
       " ['#China confirms 17 new cases of #viralpneumonia http://ctv.news/cash0iK #Coronavirus'],\n",
       " ['.@VOANews video: Passengers from #China Province Screened at 3 US Airports #Wuhan #pneumonia #coronavirus '],\n",
       " ['China Reports New Cases of Deadly Virus, Adding to Fears of Outbreak https://nyti.ms/38li13n #Changsha #Hunan #WHO #coronavirus #SARS #Veraptus'],\n",
       " ['Laboratory testing for 2019 novel coronavirus (2019-nCoV) in suspected human cases http://dlvr.it/RNLDdS #chinapneumonia #coronavirus #nCov2019'],\n",
       " ['Como se não bastasse a crise da #Belorizontina olha o nome que deram pro novo vírus que vem assustando na China: #coronavirus Deixem as cervejas em paz! Kkkkkkk '],\n",
       " ['Shanghai: Screening for suspected cases of #coronavirus increased #nCoV2019'],\n",
       " ['Neuartiges #Coronavirus: Chinesische Behörden halten Ausbruch für kontrollierbar #China #ChinesePneumonia #Japan https://www.spiegel.de/wissenschaft/medizin/chinesische-behoerden-halten-ausbruch-fuer-kontrollierbar-a-0b5d371b-e681-4596-83af-21dd6b6d944e via @derspiegel'],\n",
       " [\"#China noemt nieuw #Coronavirus ’beheersbaar’ en 't is niet hetzelfde als het #SARS-#virus dat in 2003 ruim 700 doden eiste. https://www.telegraaf.nl/nieuws/886292451/china-noemt-nieuw-coronavirus-beheersbaar China noemt 't virus beheersbaar maar heeft de bron nog altijd niet gevonden. Klinkt héééul 'vertrouwenwekkend'... #Health #disease\"],\n",
       " [\"Incertitudes sur l'origine et la transmission du nouveau #coronavirus chinois #nCoV-2019\"],\n",
       " ['Watch | #Coronavirus spreads beyond #China 17 more cases of #pneumonia caused by virus emerge More on this by @MollyGambhir'],\n",
       " ['In response to #WuhanPneumonia outbreak, China promised to step up monitoring during #LunarNewYear. Millions of Chinese travel to their families for the holiday. There have been &gt;60 confirmed cases of the new #coronavirus but UK experts estimate 1,700. https://www.bbc.com/news/health-51168333'],\n",
       " ['#Coronavirus #ChinesePneumonia #China #Japan'],\n",
       " ['Kit de détection du nouveau #coronavirus chinois #nCoV-2019 par RT-PCR'],\n",
       " ['Avian Flu Diary: The Limitations Of Airport Screening For Novel Coronavirus Cases http://dlvr.it/RNL7q4 #chinapneumonia #coronavirus #nCov2019'],\n",
       " ['China says 17 new cases in virus outbreak, Wuhan to restrict large gatherings – Apadana Freedom Foundation http://dlvr.it/RNL7ns #chinapneumonia #coronavirus #nCov2019'],\n",
       " ['Que tal si este resfriado fuera el coronavirus o neumonía china que llego en algunon de los 95 paquetes que tuve que abrir al hacer el inventario de Wish? #wishlocal #coronavirus #wish #neumoniachina #contagio #contagion'],\n",
       " ['.@SCMPNews: #China #coronavirus: Beijing breaks its silence, but only to ‘deny rumours’ #Wuhan #pneumonia #WuhanCluster http://bit.ly/2uhnTw0'],\n",
       " ['China #coronavirus: China CDC says new virus ‘is not #SARS’, dismisses claims there has been a cover-up in the reporting of cases outside #Wuhan. But doctor in Shanghai says his hospital is preparing staff to deal with a possible #pneumonia outbreak. https://www.scmp.com/news/china/society/article/3046732/china-coronavirus-beijing-breaks-its-silence-only-deny-rumours'],\n",
       " ['They came out with a new SARS that nobody asked for?! #SARS2 #CoronaVirus '],\n",
       " [\"In pics | Here's what we know of the outbreak so far #coronavirus \"],\n",
       " ['The novel #coronavirus #outbreak explained https://news.cgtn.com/news/2020-01-19/Novel-coronaviruses-explained-NnPGdfQpSo/index.html#via @cgtnofficial'],\n",
       " ['#Health: about the new, mysterious, deadly #coronavirus: https://nationalpost.com/news/coronavirus-will-there-be-another-sars-like-outbreak?video_autoplay=true'],\n",
       " ['#Coronavirus 2019-nCoV outbreak in Wuhan #China reaches 62 cases - extends into additional China cities - airport screening launched in the USA. https://www.vaxbeforetravel.com/coronavirus-2019-ncov-outbreak-wuhan-china-reaches-62-cases CDC #Travel Alert at #JFK #LAX #SFO #HCSM #digitalHealth #mHealth #pharmacy'],\n",
       " ['Tremendo #HiloRecomendado sobre el avance en Ciencia Colaborativa y el uso de redes sociales como Twitter para la investigación y divulgación de resultados sobre el nuevo #coronavirus '],\n",
       " ['Reduce your risk of getting the #coronavirus #Infection by following this advice by the @WHO. @WHOSEARO @MoHFW_INDIA @fortis_hospital @HospitalsApollo @ManipalHealth @MaxHealthcare @Paras_Hospitals @medanta @ICMRDELHI @nathealthindia @ahpi_india'],\n",
       " ['On 10 January, @WHO published a range of interim guidance for all countries on how they can prepare for #Coronavirus, including how to monitor for sick people, test samples, treat patients, control infection in health centres, maintain the right supplies, and communicate. '],\n",
       " [\"AFD Blog `China: National Health Commission Statement on Novel #Coronavirus' https://afludiary.blogspot.com/2020/01/china-national-health-commission.html\"],\n",
       " ['#China detecta mais 4 casos de contaminação por novo tipo de #coronavírus '],\n",
       " ['Know More... Cases of 2019-novel #coronavirus #infections have been reported in #Thailand &amp; #Japan among people returning from #Wuhan. #Asian #countries have issued #health #advisories - #2019-nCoV #outbreak in #China. #HealthScare #MyHealth #globalhealth'],\n",
       " ['#Indian school teacher becomes first foreigner to contract #coronavirus in #China'],\n",
       " ['China meldet neue Fälle mysteriöser #Krankheit: Kommt neuartiges #Virus aus Tierwelt? #Coronavirus https://sptnkne.ws/Bcj2'],\n",
       " ['Breaking - Indian school teacher previously suspected of being a case of #coronavirus diagnosed with Streptococcal Infection, under treatment clarifies family reports @PTI_News'],\n",
       " ['Indian contracted #2019-nCoV in Shenzhen China #coronavirus '],\n",
       " ['#iTHiNKLabs Episode 106 http://bit.ly/36d8ytG This week: #Mobile #Browser #Security #SundayMorning #Windows7 #Iran #CyberSecurity #Management #0Day #Fraud #Election2020 #SundayThoughts #Windows10 #ChinaVirus #IE #Russia #SIMSwapping #Poverty #Telecom #Coronavirus #Impeached'],\n",
       " ['Wuhan virus #coronavirus The big question: can it be transmitted from one human to another, and if so, exactly how/how easily? '],\n",
       " ['¿Has oído hablar del nuevo virus detectado en #China ? Los #coronavirus son una gran familia de virus que causan enfermedades desde el resfriado común a enfermedades más graves. INFO: http://bit.ly/2thLaO4 #SaludParaTodos @ONU_es @WHO'],\n",
       " [\" SUIVI - #Chine : La souche incriminée est un nouveau type de #coronavirus, une famille comptant un grand nombre de virus. Ils peuvent provoquer des maladies bénignes chez l'homme (comme un rhume) mais aussi d'autres plus graves comme le #Sras.\"],\n",
       " ['Nangungulit kami sa inyo,ilang linggo na. @DOHgov @SecDuque. Sound of crickets pa rin? #wuhanvirus #coronavirus #WuhanPneumonia #wuhan'],\n",
       " ['#Coronavirus: #China reports 17 new cases of Sars-like mystery #virus International airport screeing for passengers from China. With Lunar New Year holiday next week, official worried about spread through #travel'],\n",
       " ['https://www.nytimes.com/2020/01/17/health/china-coronavirus-airport-screening.html #PublicHealth #China #Travel @nytimes @CDCgov #Coronavirus'],\n",
       " ['Das #Coronavirus hat in China eine neue Lungenkrankheit ausgelöst. Was darüber bekannt ist: http://x.swr.de/s/11vm'],\n",
       " ['Was ist jetzt? Sterben wir jetzt alle am #coronavirus oder ist das heilbar?'],\n",
       " ['A total of 19 have been cured and discharged from the hospital, and the rest remain in isolation and are receiving treatment, state-run Xinhua news agency reported on Sunday. #coronavirus '],\n",
       " ['#Chine \"L\\'épidémie actuelle de #Pneumonie à #Wuhan reste évitable &amp; contrôlable. La source de la nouvelle infection à #Coronavirus n\\'est pas identifiée &amp; la voie de transmission de l\\'épidémie n\\'a pas encore été entièrement comprise\" National Health Commission. #China #Virus'],\n",
       " ['Hey QuéharéhoyporlaPAZ?, the thread from @ZulmaCucunuba is compiled now. You can read it here: https://threader.app/thread/1218539461111361541 #coronavirus #2019nCov #SARS #MERS #2019vCov'],\n",
       " ['Indian school teacher Preeti Maheshwari becomes first foreigner to contract deadly virus in China. #coronavirus '],\n",
       " ['#Coronavirus: #China reports 17 new cases of Sars-like mystery #virus International airport screeing for passengers from China. With Lunar New Year holiday next week, official worried about spread through #travel'],\n",
       " ['Experten schätzen die Zahl der Infizierten mit dem neuen #Coronavirus in #China auf 1700.'],\n",
       " ['#Coronavirus : #Mysteriöse #Lungenkrankheit in #China: #Ausmaß wohl deutlich größer als bisher angenommen'],\n",
       " ['Pas de cas de #pneumonie à nouveau #coronavirus #nCoV-2019 au Vietnam https://es.vietnamplus.vn/no-ha-registrado-en-vietnam-caso-de-neumonia-aguda-ncov/115535.vnp'],\n",
       " ['Indian school teacher becomes first foreigner to contract coronavirus in China #coronavirus #China'],\n",
       " [\"L'hôpital de #Wuhan confirme 17 nouveaux cas de #pneumonie à #coronavirus #nCoV-2019\"],\n",
       " ['@ZulmaCucunuba por medio de este hilo de trinos, nos muestra la forma como la comunidad científica mundial esta colaborando y trabajando en equipos. El objetivo es múltiple: producir conocimiento, tomar decisiones de impacto y prevenir #coronavirus #2019nCov @larepublica_co'],\n",
       " ['#CoronaVirus update: #China Reports 17 Fresh Cases of SARS-like Virus #outbreak #globalhealth'],\n",
       " ['@WHO: Q: What can I do to protect myself from #coronavirus? A: https://buff.ly/2uuZfrA https://buff.ly/372Oyeg'],\n",
       " ['Watch | #India issues travel advisory to #China in wake of #coronavirus spread Sick travellers asked to seek medical care immediately More on this by @nischitav'],\n",
       " ['#China Reports 17 New #Coronavirus #Pneumonia Cases #Kalingatv'],\n",
       " ['1,723 cases of a novel #Coronavirus in #Wuhan City: On the 31st December 2019, the World…'],\n",
       " [\"#Chine Les autorités d'hygiène et sanitaires de la Chine ont installé des détecteurs spéciaux pour détecter le nouveau type de #Coronavirus à l'aéroport et dans les gares de #Wuhan, où une épidémie a été détectée, a rapporté le journal Xinjinbao. #Virus #Pneumonia #China\"],\n",
       " ['#coronavirus #WuhanPneumonia @DOHgov @SecDuque'],\n",
       " ['Preeti Maheshwari, Indian school teacher in #Shenzhen, becomes first foreigner to contract mysterious SARS-like #coronavirus in #China.'],\n",
       " [\"Health authority of #Hubei Province, of which #Wuhan is the capital city, said a conference on Saturday has decided that prevention and control of #pneumonia caused by the novel #coronavirus is top priority for the province's health sector.\"],\n",
       " ['Two further PCR assays, developed by M. Peiris and L. Poon, for the detection of #nCoV2019 published on the @WHO website. #Coronavirus #WuhanPneumonia #Wuhan https://www.who.int/health-topics/coronavirus/laboratory-diagnostics-for-novel-coronavirus'],\n",
       " ['Taking into account just how much of this is being hidden this could be a massive outbreak and with the Chinese New Year coming up and all the travelling expected we are looking at a perfect storm! #Wuhan #Coronavirus #Wuhanpneumonia#China '],\n",
       " ['New #Coronavirus cases detected: New cases discovered in #Japan and #Thailand'],\n",
       " ['This is gonna be very bad!! The west is only starting to even see it as a very minor threat at the moment, I expect the cases to grow exponentially within a week #coronavirus #Wuhan #novelcoronavirus #wuhanpneumonia #Pandemic'],\n",
       " ['RT @MRC_Outbreak: Size of Wuhan outbreak of a novel #coronavirus estimated from the three cases detected outside China: Likely to be over 1…'],\n",
       " ['Per saber més dels \"companys\" del familia del nou #coronavirus de #WuhanPneumonia (que NO té res de nou, per cert) aquesta entrada funciona com un pal de paller. Comentaris virus-lents (199): Coronavirus que volen coronar el cim.'],\n",
       " ['Die Ausbreitung der rätselhaften Lungenkrankheit in China ist möglicherweise viel größer als bisher angenommen. Die Anzahl der Infizierten soll sich auf 1700 belaufen. #CoronaVirus '],\n",
       " ['En tot inici de brot, quan no se sap que és el que el provoca el desconcert pot ser importantt. En alguns aspectes #coronavirus de #Wuhan s\\'assembla a #Reston. Comentaris virus-lents (226): \"The Hot Zone\"; a la caça d’errades i llicències.'],\n",
       " ['ಜಗತ್ತಿನ ನಿದ್ದೆಗೆಡಿಸಿದೆ ಮಾರಕ ಕರೋನಾ ವೈರಸ್\\u200c: ಏನಿದು ಕಾಯಿಲೆ? ಗುಣಲಕ್ಷಣಗಳೇನು? #coronavirus #China #SeaFood #Symptoms'],\n",
       " ['Un problema del #coronavirus de #Wuhan és, entre altres, que es trobi amb disseminadors MOLT efectius. Precedents hi han. Comentaris virus-lents (137): Els #superdisseminadors o quan #MERS entra per la porta, costa que surti per la finestra.'],\n",
       " ['Ik heb er ook al jaren last van. Met name in de zomer. De rest van het jaar heb ik het aardig onder controle. #coronavirus '],\n",
       " ['Karma is a bitch. #coronavirus #AnimalCruelty'],\n",
       " ['Nuovo coronavirus in Cina: 17 nuovi casi a Wuhan si teme diffusione esponenziale - #Nuovo #coronavirus #Cina: #nuovi https://www.zazoom.info/ultime-news/6136255/nuovo-coronavirus-in-cina-17-nuovi-casi-a-wuhan-si-teme-diffusione-esponenziale/'],\n",
       " ['#coronavirus #ChinesePneumonia #China #Japan'],\n",
       " ['@WHO: Q: Is there a treatment for a novel #coronavirus infection? A: There is no specific treatment for disease caused by a novel coronavirus. However, many of the symptoms can be treated and therefore treatment is based on the patient’s clinical conditi… https://buff.ly/2TAmfzW'],\n",
       " ['#MUP &amp; #NAS #MakeUmPublic #NameAndShame #Worldpress @AP @anp @NPR @wpressonline @WordPress @BBCWorld @ReutersWorld #WakeUpCall #RacingExtinction #NoExcuseForAnimalAbuse #ChangeMindset #SARS #WuhanVirus #CoronaVirus #BirdFlu #ActNow @WHO @_NVWA '],\n",
       " ['Two cases of the novel #coronavirus (2019-nCoV) identified in Wuhan, China have been detected outside the country – in Thailand and Japan: '],\n",
       " ['Nine more #coronavirus cases have been reported to Center for Health Protection, increasing the total cases reported to 99. #ChinesePneumonia Source: Now News'],\n",
       " ['#Coronavirus: #China reports 17 new cases of Sars-like mystery virus'],\n",
       " ['This is how the #ZombieApovalypse begins #Pandemic #Coronavirus #SARS'],\n",
       " [\"AFD Blog `The Limitations Of Airport Screening For Novel #Coronavirus Cases' https://afludiary.blogspot.com/2020/01/the-limitations-of-airport-screening.html\"],\n",
       " ['Number of infections presumably largely underestimated #Wuhan #coronavirus #outbreak'],\n",
       " ['@WHO: @WHOThailand @WHOKobe @WHOSEARO @WHOWPRO Q: What are the symptoms of #coronavirus infection? A: It depends on the virus, but common signs incl. respiratory symptoms, fever, cough, shortness of breath &amp; breathing difficulties. In more severe cases, … https://buff.ly/2Ry4uim'],\n",
       " ['So langsam fange ich doch an, mir in Sachen #Coronavirus Sorgen zu machen. Die Entwicklung beobachte ich nun seit einiger Zeit und der Trend geht leider nach oben. Na klar, China ist weit weg - aber eigentlich auch ganz nah. #Gesundheit @zeitonline'],\n",
       " ['Si ya se ha demostrado transmision interhumana (aunque sea limitada) habrá que ponerse manos a la obra para poder diagnosticar en el laboratorio esta nueva enfermedad. El mundo globalizado nos debe mantener siempre alerta. Hoy está en #China, mañana en todas partes. #coronavirus '],\n",
       " ['La transmission interhumaine du nouveau #coronavirus chinois #nCoV-2019 serait limitée'],\n",
       " [\"La transmission interhumaine du nouveau #coronavirus chinois #nCoV-2019 est encore en cours d'évaluation.\"],\n",
       " ['@WHO: Q: What is a novel #coronavirus? A: A novel coronavirus, such as the 2019-nC0V, is a new strain of coronavirus that has not been previously identified in humans https://buff.ly/2uuZfrA https://buff.ly/2R3JbGc'],\n",
       " [\"De nombreuses inconnues demeurent sur l'origine et la transmission du. nouveau #coronavirus chinois #nCoV-2019\"],\n",
       " ['Are Kenya airports screening the passengers from China over the outbreak of the deadly #coronavirus @KenyaAirways @KenyaAirports @MOH_Kenya #SundayThoughts'],\n",
       " ['@WHO: Q: What is a #coronavirus? A: Coronaviruses are a large family of viruses that are known to cause illness ranging from the common cold to more severe diseases such as Middle East Respiratory Syndrome (MERS) and Severe Acute Respiratory Syndrome (SA… https://buff.ly/2Tx4NfF'],\n",
       " [\"after #dengue it's now #swineflu season in south india.. 150 cases so far..meanwhile #china hiding? true number of deaths from new #coronavirus strain ..#wuhan https://lnkd.in/furhGuJ https://lnkd.in/fHj3gnG\"],\n",
       " ['புதிய அச்சுறுத்தலாக உருவெடுத்திருக்கும் ’நாவல் கொரோனா வைரஸ்’...! மத்திய அரசு வெளியிட்டுள்ள அறிவுறுத்தல்கள் #CoronaVirus | Click... '],\n",
       " ['Das Ausmaß der mysteriösen Lungenkrankheit in China ist wohl größer als bisher angenommen. Ausländische Experten schätzen die Zahl der Infizierten mit dem neuen #Coronavirus auf 1700. '],\n",
       " [\"کرونا وائرس سے نمونیا اور 'سارس' نامی سانس کی بیماری پھیل رہی ہے۔ اس مرض سے متاثرہ 2 افراد ہلاک بھی ہو چکے ہیں۔ #CoronaVirus #China #Reports #NewCases #UrduVOA\"],\n",
       " ['#IgienicaMente : Un nuovo #coronavirus https://igienicamente.blogspot.com/2020/01/un-nuovo-coronavirus.html?spref=tw #saluteascuola'],\n",
       " ['Chine \"Selon les calculs du professeur Neil Ferguson, plus de 1 700 personnes seraient déjà touchées par ce nouveau type de pneumonie\" https://www.courrierinternational.com/article/sante-autorites-et-scientifiques-preoccupes-par-la-propagation-dun-nouveau-virus-chinois?utm_medium=Social&amp;utm_source=Twitter&amp;Echobox=1579422657 #Coronavirus #Shenzhen #Maladie #HongKong'],\n",
       " ['பீதியை கிளப்பும் கரோனா காய்ச்சல்... விமான நிலையங்களில் தீவிர உடற்பரிசோதனை https://tamil.oneindia.com/news/tamilnadu/recessive-corona-fever-that-scares-people-374456.html #Corona #CoronaVirus'],\n",
       " ['#Proactive SA must ensure that it has put measure to detact any signs of the new #CoronaVirus at all our ports of entry... NOTE the same tactics of speading computer virus is used to spread human virus... All... https://www.facebook.com/1191711068/posts/10218645884636912/'],\n",
       " ['#RT @UN: RT @WHO: Q: What is a #coronavirus? A: Coronaviruses are a large family of viruses that are known to cause illness ranging from the common cold to more severe diseases such as Middle East Respiratory Syndrome (MERS) and Severe Acute Respiratory… '],\n",
       " ['Latest #ECDC risk assessment on the cluster of #pneumonia cases caused by a novel coronavirus - #nCoV2019: • There is currently a 𝗺𝗼𝗱𝗲𝗿𝗮𝘁𝗲 𝗹𝗶𝗸𝗲𝗹𝗶𝗵𝗼𝗼𝗱 of infection for EU/EEA travellers visiting Wuhan; http://bit.ly/2R55lrD #Coronavirus #Wuhan #China'],\n",
       " ['EE.UU. implementa controles de salud aeroportuarios para pasajeros procedentes de China ante la propagación del nuevo #coronavirus '],\n",
       " ['2019-novel #coronavirus has triggered a health scare in China, infecting 62 people so far and killing two. Here is a guide to this latest health emergency #WuhanVirus #NovelCoronavirus (By @mukeshrawat705)'],\n",
       " ['#coronavirus: #China reports 17 new cases of #Sars-like mystery virus Three of the new cases are severe, with experts worried about the disease’s spread ahead of #lunar new year. https://amp.theguardian.com/world/2020/jan/19/coronavirus-china-reports-17-new-cases-of-sars-like-mystery-virus'],\n",
       " ['RT WHO: Q: What is a #coronavirus? A: Coronaviruses are a large family of viruses that are known to cause illness ranging from the common cold to more severe diseases such as Middle East Respiratory Syndrome (MERS) and Severe Acute Respiratory Syndrome … '],\n",
       " ['Working in wet markets? Here are some tips to stay healthy: Frequently wash your hands with soap and water after touching animals and animal products. Disinfect equipment and working areas at least once a day. #coronavirus RT WHO'],\n",
       " [\"சீனாவை அச்சுறுத்தும் 'கொரனோ' வைரஸ்... தமிழக விமான நிலையங்களிலும் தீவிர பரிசோதனை! https://www.kalaignarseithigal.com/india/2020/01/19/indian-airports-to-check-passengers-for-a-deadly-chinese-corona-virus #coronavirus #China #Virus #Airport\"],\n",
       " ['சீனாவில் கொரோனா வைரஸ் பாதிப்பு கோவை விமான நிலையத்தில் பயணிகளிடம் பரிசோதனை #Coronavirus #China'],\n",
       " ['China has announced 17 more cases of #nCoV - now total 62 #coronavirus कोरोना भाईरसको चीनमा १७ वटा नयां विरामी। '],\n",
       " ['Le #Coronavirus en Chine, comment savoir? '],\n",
       " ['#coronavírus '],\n",
       " ['M-m-m-my Corona! M-m-m-my Corona! #virus #coronavirus #cdc #china #sars #mers #thisishowitstarts'],\n",
       " ['Offiziell haben sich schon 62 Menschen mit dem neuen #Coronavirus aus Wuhan angesteckt. Sagt #China. Experten gehen aber davon aus, dass schon 1.700 Menschen infiziert sind. #Lungenkrankheit'],\n",
       " ['Raw Video: Disease Expert On New Coronavirus Screenings At U.S. Airports http://dlvr.it/RNKLTF #chinapneumonia #coronavirus #nCov2019'],\n",
       " ['U.S. federal agencies on high alert as new cases of Coronavirus spread in China - CBS News http://dlvr.it/RNKLSz #chinapneumonia #coronavirus #nCov2019'],\n",
       " ['Expert questions effectiveness of coronavirus airport screening | Health | The Guardian http://dlvr.it/RNKLQR #chinapneumonia #coronavirus #nCov2019'],\n",
       " ['In total, 62 cases of the novel #coronavirus have been identified in the city of #Wuhan, where the virus appears to have originated. #China'],\n",
       " ['More coronavirus cases detected in China, global alert for Chinese New Year - more at https://thethaiger.com/news/world/more-coronavirus-cases-detected-in-china-global-alert-for-chinese-new-year #China #Coronavirus #Spread #Screening #US #Thailand Chinese medical officials have now reported four more cases of the viral pneumonia strain caused by a new coronav...'],\n",
       " ['Un molt bon article resum q he llegit fa una estona per complementar les dades de @324cat @CCMA_cat sobre #coronavirus #Wuhan #pneumonia'],\n",
       " ['Realment un molt bon article que fa un bon resum, i extens, de tot plegat, #coronavirus #pneumonia #Wuhan. Així sí. #OneHealth https://www.telegraph.co.uk/global-health/science-and-disease/mystery-deadly-virus-sweeping-south-east-asia-could-next-sars/?WT.mc_id=tmg_share_tw'],\n",
       " ['We need to stop calling the #Wuhan disease “pneumonia” - it diminishes the severity of the disease. There are many similarities between its construct and #SARS/#MERS according to preliminary studies. It should be consistently referred to as a #Coronavirus to catalyze awareness '],\n",
       " ['This was to be expected: there is evidence of limited human-to-human transmission of the novel #coronavirus '],\n",
       " [\"I indicated the city where an infected patient of new coronavirus exists (including suspicion). When showing to a map, it's wide range, so I'm surprised. @NESTA_US @DisasterChannL @simongerman600 @SotisValkan @USGS #coronavirus #Wuhan #武漢肺炎 source: https://jiji.com/jc/c?g=int\"],\n",
       " ['உலக நாடுகள் கடந்த சில வாரங்களாக அதிகம் பயன்படுத்தும் பெயர் கொரனோ; இதனைக் கண்டு அ\\u200c\\u200cரசுகள் அஞ்ச என்ன காரணம் என்பதை தெரிந்துக் கொள்ளலாம்... http://bit.ly/2NDFHIv #coronavirus #China'],\n",
       " ['It wasn’t too tough to see this move coming https://www.latimes.com/science/story/2020-01-17/coronavirus-airports-lax-sfo-jfk-screening-china #publichealth #coronavirus'],\n",
       " ['Yo I’m getting scared. It’s my game plague inc in real life rn I can hear the fucking music #wuhan #china #japan #Thailand #wuhanvirus #coronavirus #plagueinc @darkangelams'],\n",
       " ['Factbox: New #coronavirus outbreak in Chinese city of #Wuhan'],\n",
       " ['#Coronavirus: #China reports 17 new cases of #Sars-like mystery virus'],\n",
       " ['China virus cases spike, 17 new infections reported https://buff.ly/30y2niq #thesundaily #China #Wuhan #pneumonia #coronavirus #WHO #SARS #Malaysia'],\n",
       " ['#China_is_terrorist China_is_ criminels #chinazi go to hell #ChinesePneumonia #coronavirus #free #Honkong #Tibet #freedom #HumanRightsViolations #CCP_is_terrorist #antichinazi'],\n",
       " ['PAHO issues Americas-wide alert on Coronavirus http://dlvr.it/RNKGqk #chinapneumonia #coronavirus #nCov2019'],\n",
       " ['#coronavirus '],\n",
       " ['#China virus cases spike, 17 new infections reported #Coronavirus #pneumonia'],\n",
       " [\"#Thailand's second case of a Chinese national infected with Novel #Coronavirus 2019 was confirmed on Thursday night while lab results for a Thai suspected of being infected are pending. China reports 17 new cases of mystery virus. \"],\n",
       " ['Health officials in Chinese city of Wuhan confirm 17 new cases of coronavirus: Statement | Indiablooms - First Portal on Digital News Management https://www.indiablooms.com/health-details/H/5234/health-officials-in-chinese-city-of-wuhan-confirm-17-new-cases-of-coronavirus-statement.html #China, #Wuhan, #Coronavirus, #17Cases'],\n",
       " ['China registra cuatro nuevos brotes de neumonía viral #china #coronavirus #neumoniaviral'],\n",
       " ['ಚೀನಾಕ್ಕೆ ಹೋದರೆ ಹಸಿಯಾದ ಮಾಂಸ ತಿನ್ನಬೇಡಿ: ಕೇಂದ್ರ #China #Health #coronavirus '],\n",
       " ['#新型コロナウイルス の感染者（疑い含む）が報告された都市をgoogle mapに表示してみました。かなり広範囲ですよね。 #coronavirus #Outbreak'],\n",
       " ['Close that door. Now. Round then up and DEPORT #Halalan2022 #TaalEruption2020 #HealthAlert #WuhanVirus #coronavirus #Legashit'],\n",
       " ['சீனாவை கதிகலங்க வைக்கும் கொரோனா வைரஸ்; தமிழகத்திற்கு பாதிப்பு வருமா? #TamilNews #CoronaVirus #TamilNadu'],\n",
       " ['Coronavirus [reuters] #Factbox: New #Coronavirus outbreak in Chinese city of Wuhan '],\n",
       " ['Para entender qué es el nuevo #coronavirus que surgió en China y las implicaciones epidemiologicas que podría tener #SaludGlobal'],\n",
       " [\"Avian Flu Diary: 2019-nCoV: `Evidence of Limited Human-to-Human Transmission' - WHO WPRO http://dlvr.it/RNK9np #chinapneumonia #coronavirus #nCov2019\"],\n",
       " [\"Virus casts shadow over China's biggest festival, but little worry at epicentre - Reuters http://dlvr.it/RNK9nj #chinapneumonia #coronavirus #nCov2019\"],\n",
       " ['Beijing urges calm over mysterious virus ahead of Lunar New Year - Nikkei Asian Review http://dlvr.it/RNK9mp #chinapneumonia #coronavirus #nCov2019'],\n",
       " ['Number of people already infected by the mystery virus emerging in China is far greater than official figures suggest. There have been more than 60 confirmed cases of the new #coronavirus, but UK experts estimate a figure nearer 1,700 '],\n",
       " ['Things continue to heat up in #China with the novel #coronavirus... on Jan 17 in #Wuhan, Chinese experts screened several cases of unexplained #pneumonia that were screened by community health service centers. 17 cases of pneumonia cases with new coronavi…'],\n",
       " ['Suspected #nCoV2019 case, Kathmandu, Nepal 31 male from #Wuhan #China. Patient samples sent abroad #coronavirus '],\n",
       " ['Three US airports to check passengers for a deadly Chinese #coronavirus #nCoV2019'],\n",
       " [\"AFD Blog `2019-nCoV: `Evidence of Limited Human-to-Human Transmission' - WHO WPRO' #Coronavirus https://afludiary.blogspot.com/2020/01/2019-ncov-evidence-of-limited-human-to.html\"],\n",
       " ['Attention au #coronavirus. La Chine minimise la portée et nos autorités, si on se fie à Ebola il y a quelques années, ne sont pas très précautionneuses. '],\n",
       " [' #URGENT #HEALTHCARE #SALUD ¿Epidemia o Pandemia mundial? Qué se sabe sobre el #coronavirus de #China que \"puede haber afectado a cientos de personas\", según científicos británicos.'],\n",
       " ['Seventeen more people in central China have been diagnosed with #coronavirus, a new form of viral pneumonia that has killed two patients and placed other countries on alert. '],\n",
       " ['What is a #coronavirus? Coronaviruses are a large family of viruses that are known to cause illness ranging from the common cold to more severe diseases such as Middle East Respiratory Syndrome (MERS) and Severe Acute Respiratory Syndrome (SARS) '],\n",
       " ['WHO Update 1/18/20 #coronavirus #nCoV #Wuhan'],\n",
       " ['Bat to Human jump #coronavirus https://www.ecohealthalliance.org/wp-content/uploads/2018/03/Virologica-Sinica-SARSr.pdf @PeterDaszak \"The other viruses w the nearest matching genetic sequences all originate in bats, likely incl SARS-CoV\" #sars Genome https://www.ncbi.nlm.nih.gov/nuccore/MN908947 Invisible to routine respiratory diagnostic http://virological.org/t/initial-assessment-of-the-ability-of-published-coronavirus-primers-sets-to-detect-the-wuhan-coronavirus/321'],\n",
       " ['Hanggang ngayon walang update ang @DOHgov &amp; @SecDuque? #coronavirus #WuhanPneumonia '],\n",
       " ['MEDIDAS CONTRA MORTAL VIRUS CHINO - Hecho Digital https://hechodigital.com/medidas-contra-mortal-virus-chino#.XiPU937Q8dI.twitter #virus #coronavirus #coronaviruses #Mexico #NuevoLeon #Chihuahua #Tamaulipas #Jalisco #Guanajuato #Puebla #Veracruz #oaxacajuarez #Tabasco #Chiapas #Campeche #Yucatan #QuintanaRoo'],\n",
       " ['UPDATE: BIA on alert: Chinese passengers to be screened #BIA #pneumonia #chinese #coronavirus #News #WHO'],\n",
       " ['எச்சரிக்கை..!… ”உயிர்கொல்லி நச்சு வைரஸ்” இந்தியாவுக்கு பரவும் அபாயம் …..!! Readmore : https://www.seithisolai.com/warning-china-poisoning-virus-high-risk.php #coronavirus, #China, #poisonousvirus, #Warning'],\n",
       " ['Chinese #coronavirus screenings to begin at LAX, SFO &amp; JFK. Federal authorities will begin screening airline travelers arriving from #Wuhan, China, for signs that they may be infected with a new coronavirus that is spreading in Asia. https://www.latimes.com/science/story/2020-01-17/coronavirus-airports-lax-sfo-jfk-screening-china #pneumonia'],\n",
       " ['#China reports new #Wuhan virus cases https://today.thefinancialexpress.com.bd/world/china-reports-new-wuhan-virus-cases-1579360418 #coronavirus #FEworld via @febdonline'],\n",
       " ['Much remains to be understood about the new #coronavirus, including where it comes from and how it is transmitted.'],\n",
       " ['China virus: Infected numbers likely underestimated, says study, new cases reported. #coronavirus '],\n",
       " ['#coronavirus #publichealth'],\n",
       " ['FACTBOX-New #coronavirus outbreak in Chinese city of #Wuhan'],\n",
       " ['In Hong Kong, #coronavirus cases are popping up every day, while the first case has been reported in a country as far as Japan. #China is obviously covering up the severity of the infection. The world must be aware of its lies, SARS was covered-up in 2003 and it took 300 HK lives'],\n",
       " ['BIA on alert: Chinese passengers to be screened http://www.themorning.lk/bia-on-alert-chinese-passengers-to-be-screened/ #lk #BIA #pneumonia #Chinese #Coronavirus #News #WHO #TheSundayMorning'],\n",
       " ['Update: a worrying thread as #ChineseNewYear approaches. The latest on the new #coronavirus emerging from #Wuhan. #WuhanPneumonia https://twitter.com/rover829/status/1218734497790906369?s=21 DYK, #CNY has been described as the world’s largest movement of humans every year. #planestrainsandautomobiles #yearoftherat'],\n",
       " [\"Perfect global stability moment for a #virus to make a break for it. Nah, surely world'll dodge another...But #oil demand might be crimped if suddenly Asia has to worry about disease instead of just trade. But we'll keep monitoring, right @mscullion? #coronavirus #coronaviruses\"],\n",
       " [\"#Coronavirus: Australia's top health official says there is 'no current need' to enhance airport screening #WuhanCluster#WuhanCluster #WuhanPneumonia\"],\n",
       " ['@VerastemOncolog Vs-4718 effectively stops the Zika virus! @CDC @FDAOncology #FDA #vstm #influenza #outbreak #FAK #inhibitor #treatment #cancer #cdc #virus #zika #coronavirus #china #travel #infection #new #defactinib'],\n",
       " ['චිනයේ අබිරහස් වෛරසය එරට 1700කට පමන ආසාදනය වී ඇති බව කියවෙනවා. ලොවපුරා පැතිර යාමේ අවදානමක් ඇති බැවින් වඩාත් අවධානයකින් පසුවන ලෙස ලෝක සෞඛ්\\u200dය සංවිධානය සියලුම රටවල්වලට අනතුරු ඇඟවීමක් නිකුත් කර තිබෙනවා. #coronavirus #lka'],\n",
       " ['The number of cases in an outbreak of a new strain of #coronavirus in Chinais likely to have been grossly underestimated, according to a mysterious virus. '],\n",
       " ['சீனாவில் வேகமாக பரவி வரும் கொரேனா உயிர்க்கொல்லி வைரஸ். #China #coronavirus '],\n",
       " ['Activan alerta en aeropuertos de Estados Unidos por virus mortal #Coronavirus en China. Dos personas han perdido la vida, este nuevo tipo de neumonía es altamente infeccioso. (inf. @dw_espanol )'],\n",
       " ['Excelente hilo para entender lo que está ocurriendo con el #coronavirus #wuhanvirus'],\n",
       " [\"BBC News - New virus in #China 'will have infected hundreds' https://www.bbc.com/news/health-51148303 #virus #Coronavirus\"],\n",
       " ['#coronavirus #2019nCoV Este RESUMEN esta muy completo https://m.facebook.com/story.php?story_fbid=778145916024922&amp;id=589477454891770 Ojalá lo puedan compartir.'],\n",
       " ['Is ASEAN prepared to handle deadly China virus? #Wuhan #Coronavirus #China'],\n",
       " ['L’épidémie de pneumonie en Chine pourrait déjà avoir contaminé plus d’un millier de personnes https://www.lemonde.fr/international/article/2020/01/18/mysterieuse-pneumonie-en-chine-des-scientifiques-craignent-plus-d-un-millier-de-contaminations_6026423_3210.html #WuhanPneumonia #Wuhan #coronavirus'],\n",
       " ['@Quiport @MunicipioQuito @LoroHomero deberían revisar bien esta información para control en aeropuertos https://actualidad.rt.com/actualidad/340284-nuevo-coronavirus-china-cobrar-victimas-amenaza?utm_source=browser&amp;utm_medium=aplication_chrome&amp;utm_campaign=chrome #Neumonia #Coronavirus @Lenin @TurismoEc @PradoHolguin'],\n",
       " ['#iTHiNKLabs Episode 106 http://bit.ly/36d8ytG This week: #Coronavirus #Election2020 #CyberSecurity #Burisma #Career #Windows #Iran #Security #Impeachment #iOS #Entrepreneur #SIMSwapping #macOS #ImpeachedForever #Android #WuhanPneumonia #Russia #SmallBusiness #Wuhan #Windows7'],\n",
       " [\"...ER staff suspected #rotovirus or #coronavirus, but didn't really know. They also suspected everything from #dengue to #pneumonia. Illness spread, in less severe form, to all members of family. (All OK now, fortunately). -Was this the #WuhanVirus? Well: &lt;2/4&gt;\"],\n",
       " [\"China's coronavirus cases likely grossly underestimated, study says #China #coronavirus \"],\n",
       " ['New #Coronavirus Outbreak Kills 2 in China, Spreads to Japan and Thailand https://www.thedailybeast.com/new-coronavirus-outbreak-kills-2-in-china-spreads-to-japan-and-thailand?source=twitter&amp;via=mobile via @thedailybeast'],\n",
       " ['Also screen/isolate/treat the travellers coming from infective areas. #coronavirus '],\n",
       " ['#TopNews | பரவும் கொரனோ வைரஸ்; கடைசி ஒருநாள் போட்டி... இன்னும் சில முக்கியச் செய்திகள்! http://bit.ly/378kIVQ | #Coronavirus #Cricket'],\n",
       " ['¿La #SecretariadeSalud se ha pronunciado o emitido alguna #alerta?¿somos país de riesgo ?? Entre tanto politiqueo de la situación actual de salud, vale la pena estar pendientes. Qué se sabe sobre el #coronavirus de China. '],\n",
       " ['Coronavirus: more cases and second death reported in China #Coronavirus #NCO #China #TravelMedicine #PublicHealth'],\n",
       " ['Thais find second case linked to mystery SARS-like virus, as two die in China https://www.hongkongfp.com/2020/01/18/thais-find-second-case-linked-mystery-sars-like-virus-two-die-china/ via @hongkongfp #coronavirus #Thailand'],\n",
       " ['ANY NEWS ON AIRPORT SCREENING PROCEDURES FROM CHINA APART FROM SHOOTING ARRIVALS OR HAS THE PM FOUND A NEW WAY TO KILL US? #coronavirus #anybodygiveashitingovernment'],\n",
       " ['ICYMI here is the Thai MOH rundown on #WuhanPneumonia #NovelCoronavirus -- \"found confirmed #coronavirus pneumonia of the 2019 strain from a 2nd individual, which is currently under medical supervision at Bamrasnaradura Institute \" '],\n",
       " ['Perhaps balancing invasiveness & screening efficiency a bit better, realtime #InfraredTemperature scanners are already discreetly used at some international #airports. Anyone with a fever or infection is readily &amp; easily identified. #Wuhan #wuhanvirus #coronavirus #nCoV2019'],\n",
       " ['Excelente resumen #coronavirus #2019nCov #virus'],\n",
       " [\"CCP can stop the diffusion of information and protest by outrage police. But they can't stop the diffusion of #coronavirus . haha F \"],\n",
       " ['You Look Very Casual, Sexy & Comfortable In That ! Blazer! Cute Sweater, Skinny ! I Those Kicks ( ) Via @Dune_London! Enjoy Wuhan, , Be Safe, Stay Healthy &amp; Always Your Hands! #CoronaVirus #Quarantine #Contagion #TravelWarning #HealthAlert '],\n",
       " ['A few more cases of the novel coronavirus discovered in Wuhan. Are we only seeing the tip of the iceberg? Regardless of the efficacy of person-to-person transmission, if there are enough people infected, even inefficient transmission would propagate this further. #coronavirus'],\n",
       " ['#BREAKING #Wuhan has 17 new cases of #coronavirus #wuhanvirus'],\n",
       " ['Public Health Screening to Begin at 3 U.S. Airports for 2019 Novel #Coronavirus (“2019-nCoV”) | CDC Online Newsroom | CDC '],\n",
       " ['#coronavirus #thailand #japan'],\n",
       " [\"Fiji Boxing Team Warned Of 'Mystery Disease' Ahead Of Olympic Qualifiers In China https://fijisun.com.fj/?p=495557 #coronavirus #boxing #olympicqualifiers\"],\n",
       " ['La Organización Mundial de la Salud (OMS) emitió un comunicado para informar sobre la propagación de una nueva variante de coronavirus. #OMS #NuevaVariante #Coronavirus #CdVictoria #Tamaulipas http://ow.ly/tJth30qauYl'],\n",
       " ['Estados Unidos tomas medidas ante una posible epidemia respiratoria proveniente de Wuhan China. El coronavirus alerta a los aeropuertos del mundo. Colombia debe tomar medidas. #coronavirus @CaracolBga @BLUSantanderes'],\n",
       " [\"Is Wuhan's new coronavirus pneumonia epidemic controllable and controllable? Expert interpretation http://dlvr.it/RNJkqQ #chinapneumonia #coronavirus #nCov2019\"],\n",
       " ['This legit might be the zombie outbreak begins #coronavirus'],\n",
       " ['Have you ever seen Contagion (2011)? Seems like it’s happening now! (I hope this stays a joke) #contagion #coronavirus #China #chinesevirus #flu #FluShot #fluseason'],\n",
       " ['Three major airports in Canada and another three in the U-S are taking precautionary measures over #coronavirus. #Outbreak'],\n",
       " ['Coming up @NBCNightlyNews - the CDC is implementing passenger screenings at three major US airports after the outbreak of a deadly new virus in China. #coronavirus #lax'],\n",
       " ['Claríssimament notícies dolentes. #pneumonia #coronavirus Mases casos nous, més fàcilment explicables per transmissió #H2H que no per multiples salts des de compartiment silvestre. #zoonosi #OneHealth'],\n",
       " ['The number of people already infected by the new #coronavirus emerging in #China is far greater than official figures. The #UK experts estimate a figure nearer 1,700.'],\n",
       " ['#coronavirus not as bad as the Corona light virus unless you get a lime. Stay out of Mexico and avoid all Mexican products to stay alive.'],\n",
       " ['#Japan and #Thailand #Confirm New Cases of Chinese #Coronavirus as #Newzealand announcement they will not screen for it'],\n",
       " ['No screening for new Sars-like virus at UK airports – yet | World news | The Guardian http://dlvr.it/RNJhNY #chinapneumonia #coronavirus #nCov2019'],\n",
       " ['I heard there is #coronavirus in China. I just comot the place '],\n",
       " ['Los Angeles International Airport is now screening passengers arriving from Wuhan, China, for symptoms of a mysterious, deadly new virus. #lax #coronavirus @NBCNightlyNews'],\n",
       " [\"Yet the @CDCofBC remains mute on the subject. What's the point of having a website and twitter stream if you don't use it? https://vancouversun.com/news/local-news/officials-keep-close-on-spread-of-deadly-coronavirus-from-china #bcpoli #bchealth #coronavirus #nopanicjustwantthetimelyfacts @Crof\"],\n",
       " ['A deadly outbreak of a newly identified #coronavirus in central China prompted the airline screenings, creating fears of a new international outbreak. '],\n",
       " ['Recent Data Submissions to GISAID #Wuhan #pneumonia #coronavirus #WuhanCluster @AIDigest ht @arambaut http://bit.ly/2Tc3P8C'],\n",
       " [\"Sina: Is #Wuhan's new #coronavirus #pneumonia epidemic controllable and controllable? Expert interpretation (translated) h/t @ironorehopper http://bit.ly/2R6iYH7\"],\n",
       " [' #SALUD PÚBLICA | El misterioso #coronavirus de un mercado chino que amenaza a buena parte de Asia. '],\n",
       " ['I finalment, quina possibilitat de dispersió continental o mundial pot haver? Us recomano molt aquest enllaç... https://twitter.com/nycbat/status/1218300844464123904?s=19 @324cat @CCMA_cat #coronavirus #pneumonia #OneHealth'],\n",
       " ['Excelente hilo sobre el nuevo #coronavirus chino '],\n",
       " ['#CoronaVirus... Uncontrolled. Vectors are already here. Use hand sanitizers and wear masks... This is nuts.'],\n",
       " ['@FT on the estimated cases in the #Coronavirus #2019nCoV outbreak https://twitter.com/ft/status/1218570069917282304?s=21 https://twitter.com/FT/status/1218570069917282304'],\n",
       " ['@FT on the estimated number of #Coronavirus #2019nCoV report https://twitter.com/FT/status/1218570069917282304'],\n",
       " ['In that case, people should start wearing masks in public and carry hand sanitizers. The CCP’s cover-up of the SARS outbreak in 2003 cost me my fashion internship in Shanghai. #SARS #CHINA #coronavirus '],\n",
       " ['“Authorities report that some patients deny having any exposure to the seafood market in Wuhan” https://www.thesun.co.uk/news/worldnews/10767273/wuhan-china-deadly-virus-infected-thousands-study/ #CoronaVirus #WuhanVirus #409'],\n",
       " [\"Un exemple. Acabat de tornar d'Urumqi, diari per extrangers. .. #coronavirus #pneumonia #Wuhan Obviament hi ha tractament favorable però la info és bàsicament correcta. @324cat @CCMA_cat\"],\n",
       " ['No screening for new #Sars-like #virus at #UK #airports – yet. #Coronavirus '],\n",
       " [\"És que no cal... encara. Aquesta mesura crearia alarmisme i és inefectiva si ja es fa, com s'està dient, a #Wuhan. #coronavirus #pneumonia\"],\n",
       " ['Excelente resumen de lo que sabemos del #coronavirus de Wuhan, en #Espanol #2019nCoV #Spanish #outbreak #infectiousdisease #scicomm'],\n",
       " ['Public health screenings begin at 3 #US airports to detect ill travelers traveling to the #UnitedStates on direct or connecting flights from #Wuhan, #China in response to an outbreak of novel #coronavirus (2019 nCoV) @MischaEDM @robert_spalding @Jkylebass https://www.cdc.gov/media/releases/2020/p0117-coronavirus-screening.html'],\n",
       " ['Just a heads up. Follow this virus. #preppertalk #coronavirus #SHTF'],\n",
       " ['How dangerous is China’s latest viral outbreak? #coronavirus '],\n",
       " ['In the last 14 days, the #coronavirus has killed 2 people in China &amp; has now spread to Japan / Thailand. Major US airports are screening passengers from China. Is #ireland prepared..!?'],\n",
       " ['Donc, nous avons le choix entre: - 2019-nCoV - Apophis (2029) - réchauffement climatique - Trumpiène guerre mondiale Voilà, maintenant les paris sont ouverts ! #coronavirus'],\n",
       " ['Bàsicament, noticia correcta amb un oblit greu, obviar el #coronavirus del #MERS que si bé ha afectat poc mes de 3000 persones des de 2012 té una taxa de letalitat del 35%; la del #SARS fou de l\\'ordre del 10% i la d\\'aquest nou\" coronavirus ara mateix, 4%.'],\n",
       " ['Is #ireland health infrastructure able to cope with the #coronavirus when it reaches the country.? Don’t think #Harris has even heard about it.!'],\n",
       " ['In China sind weitere Fälle des neuen #Coronavirus aufgetreten. Mittlerweile gibt es zwei Tote. Mindestens 45 Menschen sind sicher infiziert. Forscher gehen davon aus, dass es noch weit mehr Infizierte gibt. '],\n",
       " ['Scientists at Imperial College London have calculated that it will be much more widespread than acknowledged so far by official Chinese government figures. https://www.thetimes.co.uk/edition/news/china-may-be-covering-up-scale-of-mystery-virus-say-uk-experts-7szq0j200 #coronavirus #China'],\n",
       " ['#coronavirus #NovelCoronavirus #ChinaVirus https://youtu.be/Wx_sNSbnE1Q'],\n",
       " ['Directora (s) del ISP, María Judith Mora por #coronavirus, \"es importante fortalecer la vigilancia . Las personas que hayan visitado la zona de China afectada, ante algún sintoma respiratorio, acuda al centro asistencial para tomar las medidas y hacer los análisis\" '],\n",
       " ['China may be covering up scale of mystery virus, say UK experts | News | The Sunday Times http://dlvr.it/RNJLcP #chinapneumonia #coronavirus #nCov2019'],\n",
       " ['Hi! Thank you for this very relevant question! This @WHO video explains about #coronavirus #2019nCoV and ways to protect yourself: https://twitter.com/WHO/status/1218229883484155913?s=20'],\n",
       " ['“It took 14 days for @WHO to publicly change the phrasing used by Chinese officials before 14 JAN from “#pneumonia” to “#coronavirus”, indicating a lack of will in #Wuhan to accurately highlight the disease’s severity for fear of fallout similar to 2002/03”'],\n",
       " ['It took 14 days for the #WorldHealthOrganization to publicly change the phrasing used by Chinese officials before 14 JAN from “#pneumonia” to “#coronavirus”, indicating a lack of will in Wuhan to accurately highlight the disease’s severity for fear of fallout similar to 2002/03'],\n",
       " ['The number of cases in an outbreak of a new strain of #coronavirus in #China is likely to have been grossly underestimated, according to a new study, which warns that #humantohumantransmission of the mysterious virus may be possibl…https://lnkd.in/guk_RCQ'],\n",
       " ['Investigadores del @imperialcollege estiman el número de personas con neumonía por el nuevo #Coronavirus '],\n",
       " ['Indian Govt Reviews Preparedness Against Novel Coronavirus In China https://thehealth.today/indian-govt-reviews-preparedness-against-novel-coronavirus-in-china/ #coronavirus #chinavirus #virusoutbreak #infectiousdiseases #infections #healthwarning'],\n",
       " ['#Coronavirus #US to screen passengers for #China mystery virus http://a.msn.com/01/en-us/BBZ47hd?ocid=st'],\n",
       " ['Pas maar op voor het #coronavirus'],\n",
       " ['#China #coronavirus: at least three suspected cases found in #Shenzhen, #Shanghai, sources say - SCMP #Thailand #Japan #Pneumonia #Infection #Fevers #Coughs #Fevers #Fatigue #PublicHealth #Health #nCoV2019 #2019nCoV #InfectiousDisease #Medicine #News'],\n",
       " ['The latest Emergency Management Times! https://paper.li/lawscomm/1326842994?edition_id=6a1172e0-3a29-11ea-97ff-0cc47a0d1609 Thanks to @tamer_hadi @NCAgriculture @Ludo617 #datastrategy #coronavirus'],\n",
       " ['More troubles for California and for once it is not self-inflicted: 1.17.20 \"CDC to screen travelers for deadly virus from China at three airports\" #CDC #coronavirus #China'],\n",
       " ['EEUU toma medidas en aeropuertos por brote de coronavirus #china #coronavirus #hongkong #tailandia'],\n",
       " ['It looks like a bat origin #coronavirus and we’ve found evidence of human exposure to other v closely related viruses, so prob yes...https://www.ecohealthalliance.org/wp-content/uploads/2018/03/Virologica-Sinica-SARSr.pdf'],\n",
       " [\"New Chinese virus 'will have infected hundreds' https://www.bbc.com/news/health-51148303 Wait until upper layers of permafrost melt &amp; free bacteria that cause diseases far scarier than this #coronavirus. One of the reasons we need #ClimateActionNow\"],\n",
       " [\"Uh-oh, this doesn't sound good. Another mystery respiratory disease has emerged from China. Viruses don't respect borders. #coronavirus \"],\n",
       " ['Imperial College London says it thinks cases of a new type of #coronavirus, which started in #Wuhan #China, may be underreported. There could be more than 1,723 cases in Wuhan alone.'],\n",
       " [' #Internacional Japón confirmó el primer caso de infección por un nuevo coronavirus con origen en #China. Autoridades sanitarias intensifican el control de los pasajeros en aeropuertos por festividad del #AñoNuevoLunar. #Japon #OMS #coronavirus https://noticierosureste.com/internacionales/34900-coronovirus-el-nuevo-virus-que-cobra-primeras-muertes-pone-en-alerta-al-mundo'],\n",
       " ['The situation in China might be more serious than we think... An assessment by the Imperial College London estimates the number of cases in China is closer to 1700 #coronavirus '],\n",
       " ['Well thanks for raising awareness about it. Actually heard about the #CoronaVirus from you first so good lookin’ out.'],\n",
       " [' #coronavirus '],\n",
       " [' More than 100 @CDCgov staffers are being deployed to 3 US airports to screen passengers from Wuhan #China for \"2019 Novel #Coronavirus\" (SARS family). Only once since 1996 has CDC performed routine passenger health screening: during the 2014 #Ebola outbreak. @MelissaJPeltier'],\n",
       " ['#VirusChinois: la #Chine minimise les chiffres de la contamination? http://www.rfi.fr/ #wuhan #coronavirus'],\n",
       " ['Wuhan coronavirus | EVAg http://dlvr.it/RNJCWz #chinapneumonia #coronavirus #nCov2019'],\n",
       " [\"The number of cases in a #pneumonia outbreak in China is grossly underestimated, according to new study. Authorities in China's #Wuhan city have confirmed 45 cases of the novel #coronavirus. But the study suggests that ~1,723 people were likely infected https://www.cnn.com/2020/01/18/asia/china-coronavirus-study-intl/index.html\"],\n",
       " ['#Chine ON dénombre 17 nouveaux cas de #CoronaVirus à #Wuhan, 12 étaient des hommes et 5 étaient des femmes; 9 avaient moins de 60 ans, 8 avaient 60 ans et plus, le plus jeune avait 30 ans &amp; le plus âgé avait 79 ans. Le nombre total est de 62 cas dans la ville. #Virus #Pneumonia'],\n",
       " [\"AFD BLog `Wuhan Health Commission Adds 17 New #Coronavirus Cases (ttl=62)' https://afludiary.blogspot.com/2020/01/wuhan-health-commission-adds-17-new.html h/t @FluTrackers\"],\n",
       " ['Jo no sé si hauria aplicat aquests #EPI #PPE a gent que està a la barrera de recepció de mostres, en contacte amb els potencials pacients. El meu #RiskAssessment hagues estat més suau. #ExpectTheUnexpected però no dramatitzem. #coronavirus #Wuhan'],\n",
       " ['#Entérate #México implementa #protocolos en #aeropuertos internacionales contra #nuevo #coronavirus en #China'],\n",
       " ['#Entérate #México implementa #protocolos en #aeropuertos internacionales contra #nuevo #coronavirus en #China http://suresteinforma.com/noticias/mexico-implementa-protocolos-en-aeropuertos-internacionales-contra-nuevo-coronavirus-en-china-193868/'],\n",
       " ['US Airports to screen passengers from Wuhan, China for the Coronavirus #Coronavirus '],\n",
       " ['#coronavirus @WHO'],\n",
       " ['No need to restrict foreign travel due to new coronavirus from #China, closely monitoring the situation - #SriLanka Health Ministry says #coronavirus http://bit.ly/3anwmOu'],\n",
       " ['A new \"coronavirus\" originating in China is concerning public health experts around the world. What\\'s all the fuss about? https://www.bbc.com/news/health-51148303 #coronavirus #China #PofaPicks2'],\n",
       " ['Are there other cases of #nCoV2019 elsewhere in #China? Unlikely to be none with 3 exported cases Not reported because the labs overwhelmed? Not tested because hospitals crowded? Are milder cases not being picked up? A lack of diagnostics available? #coronavirus'],\n",
       " ['Coronavirus in China (Wuhan): Studie ergibt rund 1700 Infizierte https://www.tal-mi-or.de/news/coronavirus-in-china-wuhan-studie-ergibt-rund-1700-infizierte [Fotograf: unbekannt, Quelle: Bundesarchiv/ Wikimedia Commons, Lizenz: CC BY-SA 3.0 de] #coronavirus #Wuhan #China #virus #2019nCoV'],\n",
       " ['US to screen airline passengers from China for new illness https://apnews.com/5e42ddf6414d214a8d86a8ba153d82a1 via @AP #pestilence #coronavirus'],\n",
       " ['*VIRUS ALERT* #coronavirus #ChinaPneumonia #Chinavirus Experts worried over scale of China SARS-like virus as US airports start screening | Raw Story https://www.rawstory.com/2020/01/experts-worried-over-scale-of-china-sars-like-virus-as-us-airports-start-screening/ via rawstory'],\n",
       " ['Given the outbreak of the new #coronavirus in #Wuhan should the government screen passengers who have travelled to that area? @themohwgovjm'],\n",
       " [\".@WHO .@xcyale .@CHPAMS .@XHNews Maybe #China needs to #Stop their #Filthy #Heinous #DogCatMeatTrade #coronavirus #CoronaDogVirus https://p.dw.com/p/3Vute?maca=en-Twitter-sharing China's mysterious outbreak could be new virus, WHO says\"],\n",
       " ['#coronavirus'],\n",
       " ['Nuevo #coronavirus pone en alerta a #México, #EstadosUnidos, #China y otros países asiáticos ante un contagio masivo. Aquí más detalles '],\n",
       " ['The number of people already infected by the new #pneumonia emerging in China is greater than official figures suggest, say UK experts. There have been &gt; 60 confirmed cases of the new #coronavirus, but the experts estimate a figure nearer 1,700. https://www.bbc.com/news/health-51148303 #Wuhan'],\n",
       " ['Recomiendo el hilo adjunto, es como la puesta al día de lo que se sabe y la aproximación científica al problema del #coronavirus. '],\n",
       " ['#Coronavirus ecco una mappa dettagliata del contagio, che si sta allargando... '],\n",
       " ['China #coronavirus: at least three suspected cases found in Shenzhen, Shanghai, sources say '],\n",
       " ['San Francisco International Airport will be among three airports where passengers from central China are screened for a new virus that has sickened dozens and killed two, prompting worries about a new international outbreak. #sfo #coronavirus '],\n",
       " ['\"Nella maggior parte dei casi c\\'è un collegamento epidemiologico con un mercato del pesce della città di Wuhan, dove viene venduto pesce fresco e animali (tra cui pollame) vivi\". A settembre ero li, a pensarci bene é andato tutto bene... #coronavirus '],\n",
       " ['China reported 4 more cases of #pneumonia believed to be caused by a new #coronavirus, causing concern globally that a disease health officials do not yet fully understand could spread during a key travel period, the Lunar New Year. https://www.cnbc.com/2020/01/18/china-reports-number-of-new-sars-like-virus-cases-has-risen.html #WuhanPneumoniae'],\n",
       " ['Wuhan finds 17 new novel Coronavirus cases in local hospitals. http://dlvr.it/RNJ4Tn #chinapneumonia #coronavirus #nCov2019'],\n",
       " ['Outbreak of Pneumonia of Unknown Etiology in Wuhan China: the Mystery and the Miracle. - PubMed - NCBI http://dlvr.it/RNJ4Tl #chinapneumonia #coronavirus #nCov2019'],\n",
       " [\"Chunyun: China's annual Lunar New Year rush begins | CNN Travel http://dlvr.it/RNJ4Sj #chinapneumonia #coronavirus #nCov2019\"],\n",
       " ['#Coronavirus in Asien: Britische Forscher gehen von 1700 Infizierten aus #ChinaPneumonia #China #Japan https://www.spiegel.de/wissenschaft/medizin/coronavirus-imperial-college-geht-von-1700-infizierten-aus-a-1cebcf7e-8b40-4894-a7e2-4599c9cc622e via @derspiegel'],\n",
       " ['P: ¿Cuáles son los síntomas de infección por #coronavirus R: Depende del virus, pero los signos comunes incluyen. síntomas respiratorios, fiebre, tos y dificultades para respirar. En casos más severos, puede causar neumonía, síndrome respiratorio agudo severo, etc '],\n",
       " ['Q: ¿Qué es un #coronavirus ? R: son una gran familia de virus que causan enfermedades que van desde el resfriado común hasta enfermedades más graves, como el síndrome respiratorio del Medio Oriente (MERS) y el síndrome respiratorio agudo severo (SARS) http://bit.ly/2tMEBmu'],\n",
       " ['A mutant virus called #coronavirus has infected 41 people in china and now one person in japan is reported to be infected by this virus. Even WHO publishes advisory about this virus. '],\n",
       " ['#CNN annonce presque 2000 cas au 12 janvier ... #coronavirus #china'],\n",
       " ['Not just Wuhan. Suspected cases in Hong Kong, plus Shanghai and Shenzhen announced. With three cases exported, epidemiologists estimate true case count of #coronavirus 1,700+ cases. Three billion Chinese people traveling this month for Lunar New Year.'],\n",
       " ['#CCP #China also export #WuhanPneumonia #coronavirus '],\n",
       " ['#China reported four more cases of pneumonia believed to be caused by a new #coronavirus strain, causing rising concern globally that a disease health officials do not yet fully understand could spread during a key holiday period. '],\n",
       " ['Indian Govt Issues Advisory Against Novel Coronavirus https://thehealth.today/indian-govt-issues-advisory-against-novel-coronavirus/ #coronavirus #NovelCoronavirus #ChinaVirus #infections'],\n",
       " [\"New Chinese virus 'will have infected hundreds' #coronavirus . #WHO released information about the same\"],\n",
       " ['Reduce your risk of #coronavirus infection. '],\n",
       " ['Heard about mystery #coronavirus? Here are things that are not a mystery about #coronavirus @WHO'],\n",
       " [\"New coronavirus could hurt Chinese GDP at a bad time — and Japan's if it spreads #HealthCare #coronavirus #Japan via http://twinybots.ch\"],\n",
       " ['A good time to re-up a link to our paper on #doseresponse modeling of #SARS #coronavirus https://onlinelibrary.wiley.com/doi/full/10.1111/j.1539-6924.2010.01427.x?casa_token=bIKBMU3vKfwAAAAA%3Axqljf17PtInct14B6q19O8uFH-dpoJ9XEVau6MSPwZj3YGaA3OB6-ZzBs0KL_tmBNuI72ztV1rC1Q-CG #QMRA'],\n",
       " ['The number of people already infected by the mystery virus emerging in China is far greater than official figures suggest, scientists have told the BBC. #coronavirus https://www.bbc.com/news/health-51148303'],\n",
       " ['Das chinesische #Coronavirus breitet sich weiter aus. Zwei Menschen sind bereits an dem Lungenleiden gestorben, vier weitere Fälle der mysteriösen Krankheit wurden nun bestätigt. Der Ursprung des Übels könnte Experten zufolge ein Tiermarkt in #Wuhan sein.'],\n",
       " [\"What is @nigimmigration &amp; @Fmohnigeria doing about the outbreak of #coronavirus that's infected China? Considering the heavy traffic between Nigeria &amp; China, what proactive measures are being put in place to prevent an outbreak in #Nigeria?\"],\n",
       " ['Transcript of 2019 Novel Coronavirus Response Telebriefing | CDC Online Newsroom | CDC http://dlvr.it/RNHyL4 #chinapneumonia #coronavirus #nCov2019'],\n",
       " ['HAN Archive - 00426 | Health Alert Network (HAN) http://dlvr.it/RNHyKY #chinapneumonia #coronavirus #nCov2019'],\n",
       " ['With cases of the deadly respiratory virus originating in Wuhan appearing in Thailand & Japan, screenings of travelers from Wuhan are underway in U.S. airports. Health screenings & preparedness are critical in face of this global health threat #Coronavirus '],\n",
       " ['¡Solo les adelanto que según el libro Guerra Mundial Z, el primer caso de infección y el paciente 0 surgió en China! ¡Atentos! #coronavirus #SARS'],\n",
       " ['Phylogenetic Analysis Shows Novel Wuhan Coronavirus Clusters with SARS - EcoHealth Alliance #coronavirus #China #WuhanSARS'],\n",
       " ['wuhan report 19th jan #coronavirus 17 new cases. onset before 13th jan. 9 of them below 60yo, 8 of them above. '],\n",
       " ['The true scale of the SARS-like virus in China is likely far bigger than reported, some estimates 1,723 people infected. Fears that it will spread farther & faster with the Lunar New Year on the 25th. 2020 is the Year of the Rat. #Outbreak #Pandemic #Coronavirus #SaturdayMorning'],\n",
       " ['Coronavirus, allerta negli aeroporti del mondo per la misteriosa malattia di Wuhan http://a.msn.com/01/it-it/BBZ5qfq?ocid=st [cura : 5 spicchi di aglio a pranzo e 5 alla sera per una settimana.] #coronavirus'],\n",
       " ['New Video up about the Coronavirus outbreak, spreading to #Japan, #Thailand and #Nepal #Coronavirus Spreads to Japan and Thailand https://youtu.be/7CDR3nPe3ZQ via @YouTube'],\n",
       " [\"BBC News - New Chinese virus 'will have infected hundreds' #coronavirus #Sars\"],\n",
       " ['Neue Lungenkrankheit in Südostasien.. #coronavirus '],\n",
       " ['Informative thread here on #Coronavirus in #Wuhan, #China, and now also #Japan and #Thailand, so far.'],\n",
       " ['#CDC sent to 3 US airports 2screen passengers from China as cases of the Novel Coronavirus (2019-nCoV) have been confirmed in Thailand &amp; Japan This virus is similar as SARS Symptoms similar as pneumonia &amp; could be fatal #SaturdayMorning #SaturdayVibes #healthcare #coronavirus '],\n",
       " ['It never hurts to wash your hands #coronavirus or not '],\n",
       " [\"I tot això a partir d'una pressumpta #zoonosi i precissament del que menys es parla i es diu és de la font primària. Es va fer testatge dels animals del mercat? I dels altres mercat de #Wuhan? Quin resultat donaren? I les granges originals? #coronavirus #OneHealth\"],\n",
       " [\"I tot això a partir d'una pressumpta #zoonosi i precissament del que menys es parla i es diu és de la font primària. Es va fer testatge dels animals del mercat? I dels altres mercat de #Wuhan? Quin va ser el resultat? Granges d'origen? #OneHealth #coronavirus \"],\n",
       " ['Working in wet markets? Here are some tips to stay healthy: Frequently wash your hands with soap and water after touching animals and animal products. Disinfect equipment and working areas at least once a day. #coronavirus '],\n",
       " ['Ha habido cerca de 50 casos confirmados del nuevo #coronavirus, pero los expertos #británicos calculan que la cifra podría ser de unos 1.700. . . #China #Salud #Prevención #RevistaPrevencia'],\n",
       " ['#China reports 4 more cases of a new strain of #coronavirus http://en.alghadeer.tv/archives/11834'],\n",
       " ['From The Economist Espresso: Defiance from #Iran’s supreme leader; Donald Trump’s legal team #coronavirus #China #Scotland'],\n",
       " ['#IlariaCapua: \"Terzo #coronavirus a fare salto di specie in 17 anni\" https://tinyurl.com/yxy8jd9r'],\n",
       " ['#Pittsburgh, #SanFrancisco, #NewYork and #LosAngeles #Airports to implement health screenings for novel #coronavirus.'],\n",
       " ['Das #coronavirus greift um sich. '],\n",
       " ['@ASavageNation “5,000 arriving airline passengers will be screened in coming weeks.” “Screeners will be taking temperatures and asking the passengers if they have had a cough recently.” REALLY?!? #Too_little_too_few #Coronavirus #WUHAN_TRAVEL_BAN #Boycott_Chinese_takeout'],\n",
       " ['ކޮރޯނާަވައިރަސް އިން ރައްކާތެރިވުމަށް (ޚާއްޞަކޮށް ރަނގަޅަށް އަތް ދޮވުން ޖަނވާރުތަކާ ނުކުޅުން ޖަނަވާރާ ކުޅެފައި އަތްދޮވުން ރަނގަޅަށް ރޯފިލުވައިގެން މަސްކެއުން ނަޖިސްތަކެތި ނުކެއުން ވައަތަށް ނޫނީ އޮޅަބުއްޓަށް ކިނބިހި އެޅުން ސަލާންކުރަން ކަނާއަތް އިސްކުރުން #coronavirus '],\n",
       " ['#coronavirus #WuhanSARS #SARS2 #WuhanPneumonia'],\n",
       " ['Coronavirus: Is It Threatening the World With Its Deadly Outbreak? Know here. https://howtocure.com/coronavirus-preventive-measures/ #HowtoCure #CoronaVirus '],\n",
       " ['https://www.washingtonpost.com/health/2020/01/17/coronavirus-us-airports-screening/ @washingtonpost #coronavirus #WuhanSARS #LunarNewYear'],\n",
       " ['#SARS2 #WuhanSARS #coronavirus #EPIDEMIA'],\n",
       " ['Shopping in wet markets? Here are tips to stay healthy Wash hands with soap &amp; water after touching animals and animal products Avoid touching Avoid contact with sick animals and spoiled meat Avoid contact with stray animals, waste &amp; fluids in market #coronavirus '],\n",
       " ['Human migration, both voluntary and involuntary, has historically been one of the many drivers of emerging virus dissemination. Yellow fever, Ebola, MERS, SARS, Zika, etc. be safe out there. #emergingvirus #humanmigration #spillover #coronavirus #ebola #yfv #zika #WuhanPneumonia'],\n",
       " ['Coronavirus [latimes] #Coronavirus screenings to begin at LAX, SFO and JFK amid outbreak in China '],\n",
       " ['#China reports new #Wuhan #coronavirus cases, raising concern globally before key holiday. #epidemic #IDTwitter #epiTwitter'],\n",
       " [\"New Chinese virus 'will have infected hundreds' via @BBCNews https://www.bbc.com/news/health-51148303 #China #Wuhan #WHO #health #healthcare #virus #coronavirus #respiratory #disease #travel #travellers #RegionalSecurity #airports #airlines #customs\"],\n",
       " ['Does @HamburgAirport actually have thermal image scanning? Because many travelers come to the Hanseatic City from China. And a new #Coronavirus has just been discovered in Wuhan @WHO. Two travelers from Wuhan were discovered with the virus in Thailand and Japan. #Sayitoutloud'],\n",
       " ['CAP, ZERO, NINGUNA de les persones amb simptomatologia assajades el darrer dia a #HK procedents de #Wuhan estava infectada amb el #coronavirus de #Wuhan. #OneHealth'],\n",
       " ['This is a mathematical probability calculation and only infers (clearly stated in pdf) probability and not fact. See: Methods. Pdf opens fine. #Wuhan #coronavirus #peerreview'],\n",
       " [\"New #coronavirus could hurt Chinese GDP at a bad time — and #Japan's if it spreads. http://bit.ly/2v1Rda6 #healthcare #economy #China\"],\n",
       " ['Know more about #coronavirus ...An educative capsule by #WHO'],\n",
       " ['You probably remember #SARS, which was a #coronavirus....'],\n",
       " ['Coronavirus https://www.who.int/westernpacific/health-topics/coronavirus-(cov) #coronavirus'],\n",
       " ['Coronavirus [denverpost] Three U.S. airports to check passengers for deadly Chinese #Coronavirus '],\n",
       " ['Continued developments on the #coronavirus outbreak in China. With the rate and projection of spread, it is vital to improve awareness of this outbreak and to implement hard and fast containment strategies. #gsuglobalhealth #bbc https://www.bbc.com/news/health-51148303'],\n",
       " ['Type of viral pnemonia present with symptoms -#coronavirus #cough #dyspnea #fever #myalgia #chills #rigors #waterydiarrhea @WHOSEARO'],\n",
       " ['New form of coronavirus from China reported in Japan http://ctv.news/gYmNrxS #VancouverAirport #YVR #Toronto #CoronaVirus #Virus #Flu #Fever #Contagious #China #Wuhan #Travelers #Japan #Speading'],\n",
       " [\"Canadian airports aren't screening travellers from China for new coronavirus http://ctv.news/YAM2Bud #VancouverAirport #YVR #Toronto #CoronaVirus #Virus #Flu #Fever #Contagious #China #Wuhan #Travelers\"],\n",
       " [\"#China's #coronavirus cases likely grossly underestimated, study says. YOU CAN'T TRUST #CHINA !\"],\n",
       " [\"#coronavirus Another plague. Let's hope it stays in China and doesn't spread. I have my doubts. Thoughts?\"],\n",
       " ['.@Telegraph/ @annegulland There is a mystery deadly virus sweeping through south east Asia: could it be the next Sars? w/@MackayIM quotes and nice graphics #WuhanPneumonia #coronavirus '],\n",
       " ['Japão confirma 1º caso de infecção por nova variante do #coronavírus '],\n",
       " ['Qué se sabe sobre el #coronavirus de China que \"puede haber afectado a cientos de personas\". https://bit.ly/38iFdPJ'],\n",
       " ['Londoner Wissenschaftler vermuten mehr als 1.700 Fälle von Infektionen mit einem neuartigen #Coronavirus, das im chinesischen #Wuhan zum Ausbrauch einer potenziell tödlichen #Lungenkrankheit geführt hat.'],\n",
       " ['#武汉肺炎 #疫情 #WHO 问：什么是 #coronavirus ？答：#冠状病毒 是一大类病毒，已知会引起疾病，从普通感冒到更严重的疾病，例如中东呼吸综合征（#MERS）和严重急性呼吸综合征（#SARS）'],\n",
       " ['New #Chinese #Coronavirus Emerges in #Thailand and #Japan https://youtu.be/1nD4bw08LR4 via #YouTube #maga'],\n",
       " ['#武汉肺炎 #疫情 #WHO 问：什么是 #coronavirus ？答：#冠状病毒 是一大类病毒，已知会引起疾病，从普通感冒到更严重的疾病，例如中东呼吸综合征（#MERS）和严重急性呼吸综合征（#SARS） http://bit.ly/2tMEBmu'],\n",
       " ['கொரனோ வைரஸ் தமிழகத்தை தாக்குமா ? | coronavirus in humans | Velicham Tv Video Links : https://youtu.be/7DT2lr_QyL0 #coronavirus '],\n",
       " ['#coronavirus #PublicHealth'],\n",
       " ['#coronavirus'],\n",
       " ['#coronavirus'],\n",
       " ['ALERT Q: What is a #coronavirus? A: Coronaviruses - a large family of viruses that are known to cause illness ranging from common cold to more severe diseases such as Middle East Respiratory Syndrome (MERS) and Severe Acute Respiratory Syndrome (SARS) @WHO http://bit.ly/2tMEBmu'],\n",
       " ['\"It is likely that the Wuhan outbreak of a novel coronavirus has caused substantially more cases of moderate or severe respiratory illness than currently reported.\" #Coronavirus New virus from China that killed two may be more widespread (via Sky News) '],\n",
       " ['Practise #FoodSafety: Even in areas experiencing outbreaks, meat products can be safely consumed if these items are cooked thoroughly and properly handled during food preparation. #coronavirus RT WHO'],\n",
       " ['Practise #FoodSafety: Even in areas experiencing outbreaks, meat products can be safely consumed if these items are cooked thoroughly and properly handled during food preparation. #coronavirus '],\n",
       " ['#coronavirus'],\n",
       " [\"All incoming passengers from #China to #ChhatrapatiShivajiMaharajInternationalAirport (#CSMIA) in #Mumbai shall be subjected to a 'thermal screening' to detect novel #coronavirus, an official said on Saturday. Photo: IANS \"],\n",
       " ['En el análisis del Imperial College #2019-nCov #coronavirus pueden haber 190 casos en el mejor escenario y más de 5000 en el peor escenario @MinSaludCol @INSColombia @VirolColombia'],\n",
       " [\"#OMG A friend from Metz who went to Wuhan is very possibly one of these #coronavirus cases now in confinement in @VilledeNancy, but it's taking time to exactly identify the strain ... I hope our health services have all the resources they need.\"],\n",
       " ['.@CDCgov information about outbreak of novel #coronavirus in China with cases exported to Thailand and Japan. new info for healthcare providers and laboratorians on who to test and what specimens to take to detect #2019-nCoV. https://bit.ly/2NyUyUo'],\n",
       " ['Follow this thread by @ZulmaCucunuba on the current scientific events around the novel #Coronavirus #2019nCoV outbreak and the power of open science!'],\n",
       " ['\"WHO issues warning after \\'mysterious\\' #Chinese #coronavirus spreads to #Japan\"'],\n",
       " ['#coronavirus '],\n",
       " ['Practise #FoodSafety: Sick animals and animals that have died of diseases should not be eaten. #coronavirus RT WHO'],\n",
       " [\"#OMG A friend from Metz who went to Wuhan is very possibly one of these #coronavirus cases now in confinement in @VilledeNancy, but it's taking time to exactly identify the strain ... I hope our health services have all the resources they need. @MetzMetropole @MairiedeMetz\"],\n",
       " ['Practise #FoodSafety: Sick animals and animals that have died of diseases should not be eaten. #coronavirus '],\n",
       " ['Análisis jucioso de la situación #2019-nCoV #coronavirus : existe subreporte oficial en China, alta probabilidad de transmisión humano a humano y se deben activar planes de preparación @MinSaludCol @INSColombia @VirolColombia @acincentral @FedemedicaC'],\n",
       " ['.@SCMPNews #China #coronavirus: at least three suspected cases found in Shenzhen, Shanghai, sources say #WuhanPneumonia ht @MackayIM http://bit.ly/2Rsmzy9'],\n",
       " ['Nuevo coronavirus hallado en China se está expandiendo https://youtu.be/d7a7HnSzNE4 vía @YouTube #coronavirus #china #enfermedad #gente #virus #salud'],\n",
       " [\"#OMG A friend from Metz who went to Wuhan is very possibly one of these #coronavirus cases now in confinement in @VilledeNancy, but it's taking time to exactly identify the strain ... I hope our health services have all the resources they need. @MetzMetropole\"],\n",
       " ['BREAKING NEWS! Study From London Research Centre Says almost Two Thousand People Infected With Mysterious Virus In China..more..https://www.thailandmedical.news/news/study-from-london-research-centre-says-almost-two-thousand-people-infected-with-mysterious-virus-in-china #pandemic #virus #China #pneumonia #coronavirus #deaths #epidemic #health #breakingnews #news'],\n",
       " ['#UPDATE The true scale of the outbreak of a mysterious SARS-like virus in China is likely to be far bigger than officially reported, scientists have warned, as countries ramp up measures to prevent the disease from spreading http://u.afp.com/3Zfo #Wuhan #coronavirus '],\n",
       " ['China #coronavirus: at least three suspected cases found in Shenzhen, Shanghai, sources say #WuhanCluster #WuhanPneumonia https://www.scmp.com/news/china/society/article/3046681/china-coronavirus-least-three-suspected-cases-found-shenzhen via @scmpnews'],\n",
       " ['Le nouveau #coronavirus chinois #nCoV-2019'],\n",
       " ['Following the new #Coronavirus in #China? Then you may be interested in this latest update from the #CDC. https://emergency.cdc.gov/han/han00426.asp via @CDCgov'],\n",
       " ['#SARS_like #virus or #coronavirus #outbreak in #China after #SARS once #killed #thousands'],\n",
       " ['RIVM? Chinees #coronavirus? Als ze er maar geen rekenmodel op loslaten, en airborne virus boven 900m telt niet mee!'],\n",
       " ['#coronavirus #nCoV2019 #Wuhan'],\n",
       " ['3. Aún hay muchos aspectos desconocidos y hay que seguir investigando hasta entender: - Origen del virus. Muy posible, al igual que otros #coronavirus debe ser un animal, pero cuál? - Transmisión humano-humano. Aún hay incertidumbre de si esto ocurre o no de forma sostenida.'],\n",
       " ['Como muchos, estoy fascinada y algo preocupada por lo que la ciencia abierta en solo 17 días nos ha permitido entender acerca de un nuevo virus con potenciales implicaciones mundiales. #coronavirus #2019nCov Como es un tema relevante para todos, les voy a contar detalles:'],\n",
       " ['This is exactly why #Virology will always be important #coronavirus #vaccine'],\n",
       " ['https://youtu.be/e9ChYCAHQ3M #coronavirus #outbreak #SARS'],\n",
       " ['La Directora (s), Judith Mora en @24horastvn por casos de #coronavirus detectados en China señaló que “la población no tiene que alarmarse pero se deben tomar las medidas de prevención” https://twitter.com/ispch/status/1218538263390097408/photo/1'],\n",
       " ['There is a mystery deadly virus sweeping through south east Asia: could it be the next Sars? #WuhanCluster #WuhanPneumonia #Wuhan #coronavirus https://www.telegraph.co.uk/global-health/science-and-disease/mystery-deadly-virus-sweeping-south-east-asia-could-next-sars/?WT.mc_id=tmg_share_tw via @Telegraph'],\n",
       " ['Esperti mondiali: più casi di quanto ammesso #coronavirus #Cina'],\n",
       " ['#coronavirus can be treated with #Homeopathy @drvinay39 any comments #SaturdayMotivation'],\n",
       " ['Zwei Tote nach Lungenerkrankung, vier neue Fälle in Wuhan bestätigt – das Wichtigste über das neue #Coronavirus. '],\n",
       " ['#CoronaVirus Whereas if there are just 2 deaths with thousands of people infected? Others are not bothering to go to the #doctor? Are you asking #BorisJohnson and @MattHancock to blindly?'],\n",
       " [\"New Chinese virus 'will have infected hundreds' https://www.bbc.com/news/health-51148303 @BBCWorld #health #virus #China #coronavirus\"],\n",
       " ['Passengers Arriving At @JFKairport From #China To Be Screened For New #Coronavirus Strain '],\n",
       " ['Directora (s) del @ispch, Judith Mora en @24HorasTVN por #coronavirus \"La @opsoms no ha establecido restricciones de viaje, las principales recomendaciones a los viajeros, son a estar alerta y tomar las medidas de prevención de evitar el contacto con personas enfermas\".'],\n",
       " [\"For those traveling to China or exposed to people retuning from the area's affected need to be vigilant new strain of virulent #coronavirus \"],\n",
       " ['I am convinced a zombie outbreak would begin in China. #coronavirus'],\n",
       " ['Au moins trois nouveaux cas suspects de #coronavirus #nCoV-2019 en Chine'],\n",
       " ['Ahora Directora (s) del @ispch, Judith Mora, en @24HorasTVN por #coronavirus, la puedes ver en este link: https://bit.ly/2TA8otB'],\n",
       " ['Practise #FoodSafety: Use different chopping boards &amp; knives for raw meat and cooked foods. Wash your hands in between handling raw and cooked food. #coronavirus RT WHO'],\n",
       " ['CDC HAN: Update and Interim Guidance on Outbreak of 2019 Novel #Coronavirus (2019-nCoV) in #Wuhan, China http://bit.ly/2RvYW7M'],\n",
       " ['Practise #FoodSafety: Use different chopping boards &amp; knives for raw meat and cooked foods. Wash your hands in between handling raw and cooked food. #coronavirus '],\n",
       " ['CDC: Transcript+Audio from 2019 Novel #Coronavirus Response Telebriefing, Friday, January 17, 2020 #Wahun #pneumonia #nCoV2019 http://bit.ly/2u9wpwQ'],\n",
       " [\"New #Chinesevirus 'will have infected hundreds' #coronavirus \\u2066@CDCgov\\u2069\"],\n",
       " ['RT WHO: Q: What can I do to protect myself from #coronavirus? A: http://bit.ly/2tMEBmu RT WHO'],\n",
       " ['Last thing we need. #coronavirus '],\n",
       " ['... Second Amendment in jeopardy? #coronavirus #ThesePeopleAreSick and will stop at nothing #depopulation #Agenda2030 @@MzMugzzi @drbairdonline @docterzzz @mercola @DrNealHouston @DrShayPhD @TheDoctors @frfldres12 @philipcase_usmc'],\n",
       " ['#Coronavirus Genome. '],\n",
       " ['El surgimiento del #coronavirus (2019-nCoV) en China y la neumonia asociada a este son solo una muestra de que la próxima pandemia siempre esta al acecho; muy probable sea un virus respiratorio y que tenga su origen en el continente asiático.'],\n",
       " ['Protect yourself & others from getting sick: Practice #FoodSafety http://bit.ly/2I4vOBd #coronavirus RT WHO'],\n",
       " ['Protect yourself & others from getting sick: Practice #FoodSafety http://bit.ly/2I4vOBd #coronavirus '],\n",
       " [\"New Chinese #coronavirus 'will have infected hundreds' #China #Wuhan https://www.bbc.co.uk/news/health-51148303\"],\n",
       " ['#Aeropuertos de #EEUU iniciarán en los próximos días la inspección a todos los pasajeros que lleguen al país procedentes de la ciudad china de #Wuhan, con el objetivo de detectar la infección del #coronavirus, el cual ya causó dos decesos en el país asiático. • #Notimex'],\n",
       " ['https://www.cdc.gov/coronavirus/2019-ncov/index.html 2019 Novel #Coronavirus, #Wuhan, China'],\n",
       " ['Cuatro nuevos casos de neumonía por #coronavirus en #China'],\n",
       " ['We should watch this space but this could turn out to be a significant public health emergency! #coronavirus #who #china'],\n",
       " ['Is it just me or does anyone else think that naming a virus after a beer is just weird? Coronavirus #coronavirus #SaturdayThoughts'],\n",
       " ['Novel coronavirus has caused substantially more cases of moderate or severe respiratory illness than currently reported.Avoid close contact with anyone showing symptoms of respiratory illness such as coughing and sneezing. Know at : http://bit.ly/2RrnGhu #HowtoCure #CoronaVirus '],\n",
       " ['चीन में फैला जानलेवा वायरस, भारत ने यात्रा करने को लेकर जारी की एडवाइजरी #China #CoronaVirus #HawaBaazMedia'],\n",
       " ['\"De kans dat het virus in Nederland of überhaupt in Europa opduikt, is heel klein. Vanuit de miljoenenstad Wuhan, waar de getroffen patiënten vandaan kwamen, zijn geen rechtstreekse vluchten naar Nederland.\" ?? #coronavirus '],\n",
       " ['LATEST: Experts warn over scale of China #CoronaVirus as US airports start screening: Fears that the New Virus strain will spread are growing ahead of the Lunar New Year holiday, when \"Hundreds of Millions\" of Chinese move around!!! #SARS'],\n",
       " ['Protect yourself from getting sick: Avoiding unprotected contact with sick people (including touching one’s eyes, nose or mouth) and with live farm or wild animals #coronavirus RT WHO'],\n",
       " ['#Coronavirus: more cases and second death reported in #China'],\n",
       " ['Protect yourself from getting sick: Avoiding unprotected contact with sick people (including touching one’s eyes, nose or mouth) and with live farm or wild animals #coronavirus '],\n",
       " ['Novel #CoronaVirus Affects: Kidney, cause pneumonia and breathing problems and in rare cases even cause deaths.'],\n",
       " ['Novel #CoronaVirus Treatment: No specific treatment for disease caused by a novel coronavirus Read More on '],\n",
       " ['#Thailand has found a second case of a new Chinese #coronavirus, authorities said on Friday, as they ramped up checks on Chinese visitors, nearly a million of whom are expected for Lunar New Year holidays next week. The https://bangkokjack.com/2020/01/18/second-case-chinese-virus/'],\n",
       " ['#China confirma segunda muerte por #Coronavirus '],\n",
       " ['#Coronavirus https://analysisandcritique.blogspot.com/2020/01/coronavirus.html#.XiL-P2IGiS8.twitter'],\n",
       " ['Breaking News: Please be aware. #Coronavirus #Wuhan #medicalBuzz #docland https://www.theguardian.com/world/2020/jan/17/corona-second-death-in-china-after-sars-like-outbreak'],\n",
       " ['Preventio is better than cure. Please please be aware mo diha Cebu people. #coronavirus '],\n",
       " ['How could patterns of air travel impact the spread of coronavirus? Medical researches are worried about export of mysterious pneumonia from Wuhan China. https://academic.oup.com/jtm/advance-article/doi/10.1093/jtm/taaa008/5704418 #coronavirus #TravelHealth #JTravMed @_ISTM_ @linhchen @BoggildLab @DrDebTravelDr @drsarahmac'],\n",
       " ['I wonder are we watching our points of entry for the #coronavirus since there is an outbreak in China? @christufton @AndrewHolnessJM @televisionjam @AbkaFitzHenley @djmillerJA'],\n",
       " ['https://www.bitchute.com/video/1nD4bw08LR4/ New Chinese coronavirus now hits Japan and Thailand. (Bitchute) #Disease #Coronavirus'],\n",
       " ['#coronavirus this is the ICL report: '],\n",
       " [\"#coronavirus is new and we're just learning more. Excellent update from @CDC: http://bit.ly/30FfTkw. Good example of clear communication - what we know, what we don't know, what to do now, and some idea of what to expect -- including more cases. Useful information also @WHO\"],\n",
       " ['#coronavirus '],\n",
       " ['Protect others from getting sick: Avoid close contact when you are experiencing fever and cold or flu-like symptoms . Avoid spitting in public. Seek medical care if you have a fever , cough and difficulty breathing. #coronavirus RT W…'],\n",
       " ['Protect others from getting sick: Avoid close contact when you are experiencing fever and cold or flu-like symptoms . Avoid spitting in public. Seek medical care if you have a fever , cough and difficulty breathing. #coronavirus '],\n",
       " ['https://www.youtube.com/watch?v=1nD4bw08LR4 A new coronavirus type first seen in China has now emerged in Thailand and Japan. #Coronavirus #Epidemic'],\n",
       " ['Unfortunately, the spread to Japan was predicted by medical researchers. Other cities are at risk due to patterns of air travel. More info needed to prevent spread and assist persons who are ill. https://academic.oup.com/jtm/advance-article/doi/10.1093/jtm/taaa008/5704418 #JTravMed #coronavirus #TravelHealth @BoggildLab'],\n",
       " ['What is Coronavirus? #coronavirus #science #biology #technology #seekersthoughts'],\n",
       " ['Dear @MackayIM, from CIDRAP: \"The market also sold live animals such as poultry, bats, and marmots, along with wildlife parts.\" More than 2 weeks after disinfection and no data. And others markets at #Wuhan selling the same bugs? #coronavirus #Wuhan'],\n",
       " ['New China virus spurs 24-hour output of surgical masks in Japan #Health #coronavirus via http://twinybots.ch'],\n",
       " ['China registra cuatro nuevos brotes de neumonía viral #china #coronavirus #neumoniaviral http://bit.ly/2TAHYba'],\n",
       " ['#China registra nuevos casos de #Coronavirus, periodo de vacaciones preocupa Vía @ReutersLatam https://reut.rs/2FZiTyw'],\n",
       " ['USA :surveillance des voyageurs pouvant être porteurs du nouveau #coronavirus chinois #nCoV-2019'],\n",
       " [\"Mises en place de mesures de contrôle médical aux frontières aux USA, à Hong Kong et en Thaïlande pour prévenir l'import du #coronavirus qui se répand en #Chine, depuis #Wuhan Le souvenir de l'épidémie de @SRAS en 2003 refait surface. https://cutt.ly/HrvdGYn #Sante #Health #WHO\"],\n",
       " ['Estados Unidos empezó la vigilancia de #2019nCov #coronavirus en 3 aeropuertos @INSColombia @MinSaludCol @acincentral Public Health Screening to Begin at 3 U.S. Airports for 2019 Novel Coronavirus (“2019-nCoV”) https://www.cdc.gov/media/releases/2020/p0117-coronavirus-screening.html Check this out in the CDC app.'],\n",
       " ['Wuhan records 4 more #Cases - https://is.gd/RPG3jF #20200118 #Agenparl #Coronavirus #Health #Infection #AgenparlEnglish #PoliticaEstera #SocialNetwork'],\n",
       " ['Here is the @CDCgov link for precuations that travellers must be aware of. #CoronaVirus https://wwwnc.cdc.gov/travel/notices/watch/novel-coronavirus-china'],\n",
       " [\"It looks strange. If it looks a zoonoses, and animals ARE the source, scarce data don't give good feeling. I know it's cumbersome, hard to deal and sometimes inconclusive but a list of animals in the market, animals tested and result should be available. #OneHealth #coronavirus\"],\n",
       " ['The #CoronaVirus outbreak seems larger than first predicted #globalhealth'],\n",
       " ['@WHO: RT @WHO: NEW: Diagnostic detection of novel #coronavirus (2019-nCoV) by real-time RT-PCR https://buff.ly/2sqrCXh Note: This protocol has not been validated by WHO. More protocols will be posted when they become available https://buff.ly/2NswyCs'],\n",
       " ['#WakeUpCall @Haagsche @MinPres @MinVWS @hugodejonge @PaulBlokhuis #brunobruins @KMar_PenB_SPL @Schiphol #Wuhan #CoronaVirus @asia @china #CheckFlights #ScreenPassengers #ActNow @WHO_Europe @WHO '],\n",
       " ['@jennvets4truth #coronavirus #China #ChinaVirus'],\n",
       " ['This is how the #ZombieApocalypse begins #Pandemic #SARS #Coronavirus '],\n",
       " ['#الطب_و_العلوم_بالعرببة #2019_nCoV #coronavirus #wuhanvirus شملت أعراض #فيروس #الكورونا_الصيني الجديد : -الحمى (&gt; 90٪ من الحالات) -السعال الجاف (80٪) -ضيق التنفس في معظم الحالات كانت العلامات الحيوية مستقرة بينما قلت الكريات البيض لماذا قلت الكريات البيض ؟ من يعرف؟ '],\n",
       " ['// This is why a free #HongKong is important for mainlanders. Our free press helps keep the Communist government in check. Please #StandWithHongKong and #FightForFreedom. #China #coronavirus #Shenzhen, #Shanghai H/T @mantaichow @scmp'],\n",
       " [\"Of the 180-billion humans that have ever lived, in the 50,000-years since Homo Sapiens evolved, ~7.2% are alive today. A major 'correction' in population is both imminent and inevitable. #OverPopulation #WWIll #CoronaVirus #GlobalWarming #ClimateChange #Armageddon\"],\n",
       " ['Coronavirus: more cases and second death reported in China https://www.theguardian.com/world/2020/jan/17/corona-second-death-in-china-after-sars-like-outbreak?CMP=share_btn_tw #Coronavirus'],\n",
       " ['Researchers have developed the first diagnostic test to detect the novel #Chinese #coronavirus, which is likely to spread globally. Photo: IANS (Representational Image) '],\n",
       " ['#China - #Coronavirus: more cases and second death reported in China '],\n",
       " [\"Curious about why the #coronavirus only infect people in #Wuhan, Thailand and Japan. Either the coronavirus behaves differently to all known organism or the Communist party is lying... which one is it? That's why #PressFreedom is important. #FightForFreedom\"],\n",
       " ['Researchers have developed the first diagnostic test to detect the novel #Chinese #coronavirus, which is likely to spread globally. Photo: IANS (Representational Image) '],\n",
       " ['A crypto shitposter is now a leading expert on the #CoronaVirus next to the world health organization @WHO '],\n",
       " ['#Coronavirus: \\u2066@WHO\\u2069 disease-modelling experts based at Imperial College, London, said that far more people may have been infected and they warned human-to-human transmission could not be ruled out \\u2066@PontAcadLife\\u2069 \\u2066@BioethicsFIAMC\\u2069 https://www.theguardian.com/world/2020/jan/17/corona-second-death-in-china-after-sars-like-outbreak?CMP=Share_iOSApp_Other'],\n",
       " ['#Coronavirus #epidemic New Chinese Coronavirus Emerges in Thailand and Japan https://youtu.be/1nD4bw08LR4 via @YouTube'],\n",
       " ['#China #coronavirus: at least three suspected cases found in #Shenzhen, #Shanghai, sources say https://www.scmp.com/news/china/society/article/3046681/china-coronavirus-least-three-suspected-cases-found-shenzhen via @scmpnews'],\n",
       " ['Researchers have developed the first diagnostic test to detect the novel Chinese #coronavirus, which is likely to spread globally. '],\n",
       " [\"As of Friday, four more people have been diagnosed with the new type of #coronavirus, which has caused the recent pneumonia outbreak in the central China's city of Wuhan, the local health commission announced on Saturday. \"],\n",
       " ['@WHO: WHO encourages all countries to continue preparedness activities on the novel #coronavirus (2019-nCoV) https://buff.ly/2NvWHjS'],\n",
       " [\"i don't leave the house, good luck catching me #coronavirus\"],\n",
       " ['The #CoronaVirus has now spread to Shanghai and Shenzhen with no comment from China officials. Cases in Thailand, Singapore, Japan and India. #SARS and #BirdFlu was underestimated by a factor of 10x Current spread with 5-10 day incubation= it will be global &lt;28 days '],\n",
       " ['Fantastisk. Lige inden vi skal til Thailand. #coronavirus '],\n",
       " ['#DNS #Topic : WHAT IS CORONA VIRUS | क्या है कोरोना वायरस Click here: https://youtu.be/kMohQM0tlJ4 #DhyeyaIAS #IAS #UPSC #CivilServices #SARS #CoronaVirus #HealthForAll #UPSC #CivilServices #NewOFTheDay #NewsAnalysis #CurrentAffairs #UPPCS #BPSC #RPSC #psc2020'],\n",
       " ['【#正常推理都估到唔止咁少 #中國其他地方又會一宗都冇嘅】#BBC 引述英國專家指，中國 #武肺 感染個案應約為 1,700 宗，遠遠高於官方公布的 45 宗 (及2宗死亡)。 #journesis #NeilFerguson #wuhan #coronavirus #武漢肺炎 #china #welcometochina'],\n",
       " ['Coronavirus: more cases and second death reported in China. It comes as disease-modelling experts warned that far more people may have been affected by the previously unknown virus than thought https://www.theguardian.com/world/2020/jan/17/corona-second-death-in-china-after-sars-like-outbreak?CMP=Share_AndroidApp_Tweet #coronavirus #healthcare #virus #Health'],\n",
       " ['#China #coronavirus: at least three suspected cases in #Shenzhen, #Shanghai https://www.scmp.com/news/china/society/article/3046681/china-coronavirus-least-three-suspected-cases-found-shenzhen via @scmpnews'],\n",
       " ['#China #coronavirus: at least three suspected cases in #Shenzhen, #Shanghai https://www.scmp.com/news/china/society/article/3046681/china-coronavirus-least-three-suspected-cases-found-shenzhen via @scmpnews #Wuhan'],\n",
       " [\"AFD Blog `CDC #HAN Update &amp; Interim Guidance: Novel #Coronavirus (2019-nCoV)' https://afludiary.blogspot.com/2020/01/cdc-han-update-interim-guidance-novel.html\"],\n",
       " ['#FYI #CORONAVIRUS #SARS2 #BeSafe'],\n",
       " ['@WHO: Not enough is known about the novel #coronavirus (2019-nCoV) to draw definitive conclusions about how it is transmitted, clinical features of disease, or the extent to which it has spread. The source also remains unknown https://buff.ly/2tnCXry https://buff.ly/2Rn5TYJ'],\n",
       " ['#Coronavirus: more cases and second death reported in #China. Experts fear numbers affected may be higher than first thought as US begins screening passengers arriving from #Wuhan. The respiratory illness is believed to be caused…https://lnkd.in/ePakSv9'],\n",
       " ['\"Il est probable qu’il arrive en Europe\" : faut-il avoir peur du virus qui a fait deux morts en Chine ? https://www.lci.fr/bien-etre/il-est-probable-qu-il-arrive-en-europe-le-virus-proche-du-sras-qui-a-fait-deux-morts-en-chine-sous-l-oeil-d-un-specialiste-2143050.html #Wuhan #pneumonie #coronavirus #nCoV #France via @LCI'],\n",
       " ['தமிழகத்தில் குரோனோ வைரஸ் ? குரோனோ வைரஸ் தமிழகத்தில் பரவாமல் தடுக்க அனைத்து முன்னெச்சரிக்கை நடவடிக்கைகளும் எடுக்கப்பட்டுள்ளன - சுகாதாரத்துறை அமைச்சர் விஜயபாஸ்கர் #CoronaVirus #China #TamilNadu @Vijayabaskarofl @AIADMKOfficial #TamilNews #Thalayangam'],\n",
       " ['@BBCNews on @MRC_Outbreak, @Imperial_JIDEA, @imperialcollege report on outbreak of 2019-nCoV #coronavirus: emphasis on possible human to human transmission. Understanding how a novel virus is spreading is a crucial part of assessing its threat. https://www.bbc.co.uk/news/health-51148303'],\n",
       " ['சீனாவில் கொரனோ வைரஸ் பரவி வரும் நிலையில் தமிழகம் வரும் சீன பயணிகளுக்கு மருத்துவ பரிசோதனை #China | #Coronavirus | #MinisterVijayabaskar Watch More ON:https://bit.ly/35lSHIO'],\n",
       " ['Foram detetados casos de pneumonia pelo novo #coronavírus fora da #China. Mas não há razão para alarme. Para já, só quem viaja para esse país deve tomar precauções. Saiba quais em http://bit.ly/coronavirus20. #decoproteste #portugal'],\n",
       " ['Le ministère de la Santé met en garde contre le #coronavirus https://www.defimedia.info/conseils-des-ministres-les-travaux-de-protection-cotiere-se-poursuivent-dans-le-sud-est #Maurice #Mauritius #Wuhan #nCoV #pneumonie via @defimediainfo'],\n",
       " ['La OMS ha confirmado un caso del nuevo #coronavirus en una persona en Tailandia '],\n",
       " ['#telocuentotodo https://telocuentotodo.com/2020/01/18/japon-confirma-el-primer-caso-del-nuevo-coronavirus-chino/ #chino #coronavirus #Japón'],\n",
       " ['#WakeUpCall #globalaviation @Haagsche @MinPres @KMar_PenB_SPL @Schiphol @EU_Commission @EUCouncil @FedericaMog @vonderleyen @WHO @WHO_Europe @EU #EU #SARS #CoronaVirus #Wuhan @asia @china #ActNow #TimeIsTicking '],\n",
       " ['CUIDADO EN FRONTERAS #CoronaVirus ¿Estamos preparados? #MásValePrevenir ¿Recuerdan les comenté sobre una Alerta de la OMS acerca de un virus?@WHO Esperemos que haya un programa especial en puertos donde ingresan personas que de China,Tahilandia y Japón #LoQueRealmenteImporta'],\n",
       " ['New virus via China has SARS like symptoms/effects. #apocalypsewatch #coronavirus '],\n",
       " ['Link below from #USA’s disease control officials re the #coronavirus outbreak in #China...'],\n",
       " ['Latest #coronavirus outbreak different from SARS for 3 reasons: 1) Chinese scientists hv tools unavailable in 2002 2) acumen to look for something new 3) transparency to warn the world New Tech, Sharp Docs Made Fast ID of Wuhan Coronavirus Possible '],\n",
       " ['Selon l’OMS, une épidémie majeure est peu probable au #Japon https://www3.nhk.or.jp/nhkworld/fr/news/211893/ #Wuhan #pneumonie #coronavirus #nCoV via @NHKWORLD_News Fr page'],\n",
       " ['चीन में वायरस से हड़कंप #China #virus #coronavirus '],\n",
       " ['【主張】新型 #肺炎 中国は正確な情報開示を https://www.sankei.com/life/news/200118/lif2001180006-n1.html #Opinion #武漢 #コロナウイルス #Wuhan #pneumonia #nCoV #coronavirus #Japan via @Sankei_news'],\n",
       " ['#coronavirus '],\n",
       " ['2019-#nCoV #肺炎 への医療機関の対応指針が改訂 https://medical.nikkeibp.co.jp/leaf/mem/pub/hotnews/int/202001/563900.html #武漢 #コロナウイルス #Wuhan #pneumonia #coronavirus #Japan via @NMonl'],\n",
       " ['We have published Series 2 of GET Policy Brief! Titled: Corona-viruses from Bats in Laikipia County, Kenya and their Implications on Human and Animal Health by Dr. Rimfa Amos. You can download>>> Simply click on https://www.getafrica.org/get-policy-brief-series/ #publichealth #coronavirus #humanhealth'],\n",
       " [\"A passenger told @VOAChinese it's a very easy process that took about 15 minutes. #coronavirus 跟妻子和3个孩子在武汉转机的霍华德先生说：“非常简单，非常容易就通过了。就填一下你的症状，你的信息，测下体温。就15分钟吧。” \"],\n",
       " ['தமிழகத்தில் குரோனோ வைரஸ் ? குரோனோ வைரஸ் தமிழகத்தில் பரவாமல் தடுக்க அனைத்து முன்னெச்சரிக்கை நடவடிக்கைகளும் எடுக்கப்பட்டுள்ளன - சுகாதாரத்துறை அமைச்சர் விஜயபாஸ்கர் #CoronaVirus #China #TamilNadu @Vijayabaskarofl @AIADMKOfficial #TamilNews'],\n",
       " ['சீனாவில் புதிய கரோனோ வைரஸ் தொற்று : சீனா செல்லும் இந்திய பயணிகளுக்கு விடுக்கப்பட்ட எச்சரிக்கை! #ChinaVirus #coronavirus #China']]"
      ]
     },
     "execution_count": 4,
     "metadata": {},
     "output_type": "execute_result"
    }
   ],
   "source": [
    "#Print text\n",
    "text_tweets"
   ]
  },
  {
   "cell_type": "code",
   "execution_count": 5,
   "metadata": {},
   "outputs": [],
   "source": [
    "stop_words = stopwords.words('english')"
   ]
  },
  {
   "cell_type": "code",
   "execution_count": 6,
   "metadata": {},
   "outputs": [],
   "source": [
    "stop_words = [\"i\", \"me\", \"my\", \"myself\", \"we\", \"our\", \"ours\", \"ourselves\", \"you\", \"your\", \"yours\", \"yourself\",\n",
    "              \"yourselves\", \"he\", \"him\", \"his\", \"himself\", \"she\", \"her\", \"hers\", \"herself\", \"it\", \"its\", \"itself\",\n",
    "              \"they\", \"them\", \"their\", \"theirs\", \"themselves\", \"what\", \"which\", \"who\", \"whom\", \"this\", \"that\", \"these\",\n",
    "              \"those\", \"am\", \"is\", \"are\", \"was\", \"were\", \"be\", \"been\", \"being\", \"have\", \"has\", \"had\", \"having\", \"do\",\n",
    "              \"does\", \"did\", \"doing\", \"a\", \"an\", \"the\", \"and\", \"but\", \"if\", \"or\", \"because\", \"as\", \"until\", \"while\",\n",
    "              \"of\", \"at\", \"by\", \"for\", \"with\", \"about\", \"against\", \"between\", \"into\", \"through\", \"during\", \"before\",\n",
    "              \"after\", \"above\", \"below\", \"to\", \"from\", \"up\", \"down\", \"in\", \"out\", \"on\", \"off\", \"over\", \"under\", \"again\",\n",
    "              \"further\", \"then\", \"once\", \"here\", \"there\", \"when\", \"where\", \"why\", \"how\", \"all\", \"any\", \"both\", \"each\",\n",
    "              \"few\", \"more\", \"most\", \"other\", \"some\", \"such\", \"no\", \"nor\", \"not\", \"only\", \"own\", \"same\", \"so\", \"than\",\n",
    "              \"too\", \"very\", \"s\", \"t\", \"can\", \"will\", \"just\", \"don\", \"should\", \"now\"]"
   ]
  },
  {
   "cell_type": "code",
   "execution_count": 7,
   "metadata": {},
   "outputs": [],
   "source": [
    "#Removing stop words from the tokenized words list\n",
    "final_words = [word for word in tokenized_words if word not in stop_words]"
   ]
  },
  {
   "cell_type": "code",
   "execution_count": 8,
   "metadata": {},
   "outputs": [
    {
     "name": "stdout",
     "output_type": "stream",
     "text": [
      "Counter({' attracted': 4, ' fearful': 4, ' happy': 2, ' free': 2, ' sad': 2, ' esteemed': 2, ' safe': 1, ' average': 1, ' obsessed': 1, ' powerless': 1, ' surprise': 1, ' attached': 1, ' loved': 1, ' angry': 1, ' alone': 1, ' belittled': 1, ' powerful': 1})\n"
     ]
    }
   ],
   "source": [
    "# Get emotions text\n",
    "emotion_list = []\n",
    "with open('emotions.txt', 'r') as file:\n",
    "    for line in file:\n",
    "        clear_line = line.replace('\\n', '').replace(',', '').replace(\"'\", '').strip()\n",
    "        word, emotion = clear_line.split(':')\n",
    "        if word in final_words:\n",
    "            emotion_list.append(emotion)\n",
    "            \n",
    "w = Counter(emotion_list)\n",
    "print(w)"
   ]
  },
  {
   "cell_type": "code",
   "execution_count": 9,
   "metadata": {},
   "outputs": [
    {
     "data": {
      "image/png": "[encoded data removed]",
      "text/plain": [
       "<Figure size 432x288 with 1 Axes>"
      ]
     },
     "metadata": {
      "needs_background": "light"
     },
     "output_type": "display_data"
    }
   ],
   "source": [
    "fig, ax1 = plt.subplots()\n",
    "ax1.bar(w.keys(),w.values())\n",
    "fig.autofmt_xdate()\n",
    "plt.savefig('graph.png')\n",
    "plt.show()"
   ]
  },
  {
   "cell_type": "markdown",
   "metadata": {},
   "source": [
    "# After Outbreak\n"
   ]
  },
  {
   "cell_type": "code",
   "execution_count": 10,
   "metadata": {},
   "outputs": [],
   "source": [
    "def get_tweets():\n",
    "    import GetOldTweets3 as got  #Library used to scrape data from twitter without any other tools\n",
    "    tweetCriteria = got.manager.TweetCriteria().setQuerySearch('#Coronavirus') \\\n",
    "        .setSince('2020-03-01') \\\n",
    "        .setUntil('2020-03-31') \\\n",
    "        .setMaxTweets(100)\n",
    "    # Creation of list that contains all tweets\n",
    "    tweets = got.manager.TweetManager.getTweets(tweetCriteria)\n",
    "    # Creating list of choosen tweet data\n",
    "    text_tweets = [[tweet.text] for tweet in tweets]\n",
    "    return text_tweets"
   ]
  },
  {
   "cell_type": "code",
   "execution_count": 11,
   "metadata": {},
   "outputs": [],
   "source": [
    "#Reading Text file \n",
    "text = \"\"\n",
    "text_tweets = get_tweets()\n",
    "\n",
    "length = len(text_tweets)\n",
    "\n",
    "for i in range(0,length):\n",
    "    text = text_tweets[i][0] + \" \" + text\n",
    "    \n",
    "#Converting to lowercase\n",
    "lower_case = text.lower()\n",
    "\n",
    "# Removing punctuations\n",
    "cleaned_text = lower_case.translate(str.maketrans('', '', string.punctuation))\n",
    "\n",
    "#splitting text into words\n",
    "tokenized_words = cleaned_text.split()"
   ]
  },
  {
   "cell_type": "code",
   "execution_count": 12,
   "metadata": {},
   "outputs": [
    {
     "data": {
      "text/plain": [
       "[['The real cure for coronavirus: Private research and innovation offer promising new leads. https://www.wsj.com/articles/the-real-cure-for-coronavirus-11585516011 via @WSJ Let the #markets work. #Ancap #justice @CNN @FoxNews #covid19 #coronavirus @US_FDA'],\n",
       " ['Italian doctors demand protective supplies as #CoronaVirus deaths...At least 50 doctors have died from COVID-19 while trying to help the sick in Italy '],\n",
       " [\"#Trump's disgusting #coronavirus bill signing photo op! https://robertpaulreyes.com/trumps-disgusting-coronavirus-bill-photo-op/\"],\n",
       " ['En medio de la pandemia del #coronavirus, el presidente Alberto Fernández, rechaza las sanciones ilegales contra Cuba y Venezuela. \"Acá no es una cuestión política, sino una cuestión humanitaria\" #LasSancionesSonUnCrimen'],\n",
       " ['I must say: Merits where it’s due. I reckon this Job-Keeper package is one of the greatest initiatives an Australian government has implemented. It’s a beacon of light in so much darkness for so many #coronavirus #ScoMo #Covid_19 #auspol2020 #ausDiaries'],\n",
       " [\"Adrian Dix, Minister of Health, and Dr. Bonnie Henry, B.C.'s provincial health officer, have issued the following joint statement regarding updates on the novel coronavirus (COVID-19) response in British Columbia: #Coronavirus #cityofpg #northernbc http://pgdailynews.ca/index.php/2020/03/30/covid-19-eighty-six-new-cases-in-b-c-over-past-two-days-northern-health-area-now-has-14-cases/\"],\n",
       " ['O brasileiro não tem limites! #coronavirus '],\n",
       " [\"Oh Cohen mes coquilles là. La con de ta mère catapulte tes ancêtres loin et l'autre enculé de bourgeois avec sa tête de jacquard alleez tous vous faire encullleeerr #CohenBendit #coronavirus \"],\n",
       " ['“This one is scarier”: Obama-era officials say current #EconomicCrisis is fundamentally different from 2008. There’s a lot more uncertainty this time around because of the #Coronavirus outbreak. And no one or Economic Team to lead us out. '],\n",
       " [\"@CIACulinary I'm a security guard at childrens hospital Los Angeles. When this all over help me attend school #coronavirus\"],\n",
       " ['#Covid_19 #cuarentena #pandemia #coronavirus #cdmx_oficial #cdmx'],\n",
       " ['A president is supposed to force a company to make masks when others are volunteering? Are you high? #whosafacistnow #Coronavirustruth #DPA #COVID19 #coronavirus #ChinaLiedPeopleDied #ChinaVirus'],\n",
       " ['Que paso @chahuan @gabrielboric @PamJiles @camila_vallejo @allamand pq no advirtieron esto antes?? Ganan mas de 9 palos y solo legislan para uds lacras....deberian encerrarlos en el congreso y darles una dosis de #coronavirus y no dejarlos salir de ahi... #COVIDー19Chile'],\n",
       " ['Se insiste en la necesidad del seguimiento a los trabajadores del Turismo. #Matanzas #Cuba #coronavirus #QuedateEnCasaYa'],\n",
       " ['WSJ: Justice Department Investigating Lawmakers for Possible Insider Trading... #coronavirus #FBI http://rankstr.com/item/21268275/tw'],\n",
       " ['Everyone should be wearing #gloves and a #mask whenever they go outside https://twitter.com/TheGlare_TM/status/1244757503809851393?s=19 #SpanishFlu #1918 #CoronaVirus #COVID19'],\n",
       " [\"I have reached a point where I no longer respond to the #Trumpbots just block'em and forget'em The #coronavirus is bad enough, thank God there is a vaccine for Bots \"],\n",
       " ['#Illinois: 7 residents at Carol Stream nursing facility test positive for #coronavirus '],\n",
       " [\"An idiot Senator in PA thinks it's OK for us to go back to work! In fact, he's trying to introduce legislation so that we can! Hooray! I can't wait until we're all dead or sick because of this asshole! Fucking read dude, this isn't a joke. #coronavirus #Pennsylvania\"],\n",
       " [' INFORME DE SITUACIÓN AL 30 DE MARZO - 20:30hs. Se continúa sin ningún caso confirmado positivo para #Coronavirus y ningún caso sospechoso. Se ha monitoreado a 465 personas con control de aislamiento domiciliario obligatorio #QuedateEnCasa '],\n",
       " ['Statistics across the world. Please #stayhome so we take control of this #COVID19 outbreak. Here are the statistics. Stay Alive. Keep your family and friends alive. #COVIDUG #coronavirus '],\n",
       " ['▓▓▓▓▓▓▓▓▓▓▓▓▓▓▓▓▓▓▓▓▓▓▓░ Infectados/día: 8618 - Muertes por día: 415 - Días desde el primer reporte: 91 #Coronavirus #Covid19 ~ Estadísticas a cada hora'],\n",
       " ['Healthcare workers are f-ing #HEROES. #WTF #coronavirus #COVIDー19 #COVID19. Shame on you @realDonaldTrump'],\n",
       " ['What should you say? #MichiganRoss faculty member Amy Young offers seven tips to get your messaging right and create a positive culture during the #coronavirus pandemic. Read more about her tips for leadership communication here: http://myumi.ch/lxe2X'],\n",
       " ['Stop doing the \"I love Trump\" pressers and replace them WITH ONLY medical pros & experts to give #coronavirus updates. Daily LIES from @realDonaldTrump at @WhiteHouse pulpit will cost even more Americans their lives. @CDCDirector @NIHDirector @VP @GOP @Scavino45 @KellyannePolls'],\n",
       " ['Idiots in Michigan supporting Trump no matter what, and who will survive #coronavirus will continue voting for Trump. Others have already seen what Trump stands for, votes and economy over Michigander’s lives.'],\n",
       " ['1075 casos de COVID-19 86 nuevos casos 6582 pruebas 84% negativa 16%positivos 888 aislamiento domiciliario 152 hospitalizados 109 sala 43 UCI 27 defunciones 9 recuperados #coronavirus #Panama #COVID19 #QuedateEnCasa @rpc_radio'],\n",
       " ['Con el #coronavirus los exportadores de paltas se van a tener que meter las paltas en la raja que vendan las paltas en el mercado nacional #quevendanlaspaltasenchile #QuedateEnCasaYa'],\n",
       " ['Tienen que escuchar a este experto de COVID-19 de Corea del Sur | Asian ... https://youtu.be/xafPqcy3lwk via @YouTube #coronavirus #covid-19 #Venezuela'],\n",
       " ['Stop our critical supplies from being shipped to China \\u2066@ScottMorrisonMP\\u2069 &amp; \\u2066@GregHuntMP\\u2069! - #Coronavirus Australia: More medical supplies and groceries being shipped to China. #COVID19Aus #currentaffairs'],\n",
       " ['#Coronavirus #Lockdown - Binge on the Bible https://youtu.be/1h4vM9EvoPs via @YouTube'],\n",
       " ['What #404BarandGrill followers are doing during #coronavirus #SaferatHome! #Shoutout #Support #Thanks '],\n",
       " ['Was this before or after your insider trading that put your own financials before #coronavirus relief?'],\n",
       " ['#bizbizeyeteriz #vaka10827 #coronavirus #DevletimizYanimizda'],\n",
       " ['China trade may have gutted opportunities for lower skilled American workers, denied us masks and sanitizers, but at least I have MUH cheaper flat screen tv. #coronavirus'],\n",
       " ['#NoMasMigajas #GobiernoEmpresarial #HabraConsecuencias #NomasAFP #ElAguaEsUnDerecho #SaludPublicaDigna #TrabajoSeguro #EducacionDeCalidad #HastaQueLaDignidadSeHagaCostumbre #coronavirus #laluchasigue #YoApruebo '],\n",
       " ['#Coronavirus'],\n",
       " [\"C'est à croire que le #Coronavirus ne concerne pas ces terroristes et ces déstabilisateurs Côte d’Ivoire : « Ces alliés » du Covid 19 qui inquiètent aussi les populations \"],\n",
       " ['#quedateencasa #coronavirus Nosotros te la llevamos a tu casa #delivery en Galindelandia https://www.instagram.com/p/B-YIaidny2H/?igshid=bfy7pvzau7eo'],\n",
       " ['The prisons in #Iran are infected with #Coronavirus. Authorities are silent and refuse to report on the status of ordinary and #PoliticalPrisoners. Prisoners are in grave danger. #FreeAllProtesters &amp; #PoliticalPrisoners'],\n",
       " ['Still here waiting for the corona version of this vine #COVID19 #vine #twoguys #coronavirus '],\n",
       " ['Dit is waarom landen in lockdown gaan in strijd tegen het coronavirus https://brabantn.ws/zmQf #Coronavirus'],\n",
       " ['You are fleecing #Americans. $2T and you gave 11 billion to Africa. Not #coronavirus you gave $25 million to Kennedy Center and they still laid ppl off. You need to #stepdown #criminal'],\n",
       " [\"While the whole world is now struggling with this #coronavirus, China's initial denial and coverup of the disease may have contributed to its global spread. https://www.theage.com.au/national/one-controversial-aspect-of-trump-s-response-to-covid-19-is-right-20200325-p54ds6.html #Covid_19 #covid_19australia\"],\n",
       " ['Items not to leave home without: 1970 Coins, to buy candy 1980 Pens, to take notes 1990 Watch, to be on time 2000 mobile phone, to be reachable 2010 Smart phone, to never miss out 2020 Alcohol wipes, to reduce anxiety #FlattenTheCurve #COVID19 #coronavirus #viralanxiety'],\n",
       " ['#CoronaVirus #COVID19 #CoronaVirusUpdates #Covid_19 #N95masks #respirators #PPE #surgicalmask #SocialDistancing #pandemic Our planet simply cannot survive making and wearing tens of millions of these masks'],\n",
       " [\"WHY isn't #NorthAmerica doing this instead of shipping millions of #PPE overseas?!? #Canada #USA #coronavirus #Coronavirustruth #COVID19 #Covid_19 #pandemic #CoronavirusOutbreak #CoronavirusPandemic #PPEshortage #PPEShortages\"],\n",
       " ['Hechos al día #covid19 #coronavirus '],\n",
       " ['“Ecuador colapsó y no tiene cómo enterrar a sus muertos” #coronavirus #Covid19 #QuedateEnCasaYa'],\n",
       " [\"@cnn still pushing their phony story of New York not having enough ventilators. Here @outfrontcnn is interviewing a doctor to prove their point ... he's from Canada! #fakenews #cnn #cnnfakenews #erinburnett #outfrontcnn #Coronavirustruth #coronavirus \"],\n",
       " ['The Transportation Security Administration says an agent at Denver International Airport tested positive for the #Coronavirus @DENAirport'],\n",
       " ['Trump Universal Translator: \"Snarky\" — Trump is guilty AF and he knows it. It\\'s a manifestation of displaced aggression. Trump\\'s about to \\'Go full Colonel Jessup\\'. #Snarky #Coronavirus'],\n",
       " ['Gov. Andrew #Cuomo of #NewYork made a clear declaration at his Mon #coronavirus press briefing: “I’m not running for president.\" The fact that he had to clarify says a lot about the state of presidential politics in 2020: @nytimes #Cuomo2020 #Diplomacy140'],\n",
       " ['Perché non c’è stato l’obbligo di portare #mascherine in pubblico dall’inizio del #coronavirus? Ciò avrebbe bloccato lo spargere del virus in pubblico senza bloccare l’#economia! @MariaLauraCanta @GiorgiaMeloni #GiorgiaMeloni @ItaliaProspera @borghi_claudio @maxdantoni'],\n",
       " [\"Teamsters Local 727 Informs Great Lakes Coca-Cola Of Dangerous Situation It's Creating For Its Workers $PEP $KDP $KO #coronavirus #COVID2019\"],\n",
       " ['Siap diantar-jemput, Sewa Tabung Oksigen Besar mulai dr 125rb/bln, tabung kecil mulai dari 50rb/bln. Isi ulang dikantor 24jam. Whatsapp 0838-2285-0596 #infobandung #infobdg #bdg #prfmnews #SocialDistancing #BPJSKesehatan #VirusCorona #coronavirus #DiRumahAjaDulu #lockdown #Selasa'],\n",
       " ['After today’s rally, I mean, briefing... The new Coronavirus task force will be led by the My Pillow guy, Mr. Clean, Ms. Butterworth and Mr. Whipple. Nothing to worry about. We good. (Not enough booze in the world for this) #coronavirus #COVID19 #wtf'],\n",
       " ['From #CoronaVirus to the #GreenNewDeal – The Bullet #auspol #qldpol #StopAdani Demand #ClimateAction to stimulate the global economy. #SDGS #… https://fnqcitizensclimatecouncil.wordpress.com/2020/03/31/from-coronavirus-to-the-greennewdeal-the-bullet-auspol-qldpol-stopadani-demand-climateaction-to-stimulate-the-global-economy-sdgs/'],\n",
       " ['#Coronavirus: el presidente Alberto Fernández recibió a representantes de la organización #SeamosUno http://misionesonline.net/2020/03/30/coronavirus-el-presidente-alberto-fernandez-recibio-a-representantes-de-la-organizacion-seamosuno/'],\n",
       " ['Webinar: Planning for Post-Pandemic Success; join local SEO phenom @krystal_taing, @vizionweb SEO Mgr Joshua Titsworth, @rio_seo VP of Customer Success Mick Wilson &amp; yours truly as we talk #COVID19 business recovery https://go.rioseo.com/planning-post-pandemic-webinar.html #coronavirus #businesssupport'],\n",
       " [' Se confirman 21 nuevos casos de #Coronavirus en #SantaFe y la cifra de contagiados asciende a 111 en la provincia. De los nuevos casos, 14 fueron registrados en Rosario, 2 en Villa Constitución, 2 en Armstrong, 1 en Rafaela, 1 en Funes y en 1 Roldán.'],\n",
       " ['Was this before or after your insider trading that put your own financials before #coronavirus relief?'],\n",
       " ['Nº de contagios por #coronavirus a 30 de marzo: 1. EEUU (163.195) 2. Italia (101.739) 3. España (87.956) 4. China (81.470) 5. NUEVA YORK (67.227) EEUU aumenta cifras a un ritmo imparable. Sus positivos ya doblan los de España (nueva Top-3) y China. Caos. #COVID19 https://twitter.com/jaimeor96/status/1243690238180032514'],\n",
       " [\"Ascension flippante #COVID19 I'm allover the world #coronavirus \"],\n",
       " ['#30Mar El Pentágono confirma la primera muerte de un militar en #EstadosUnidos por #coronavirus +Noticias http://laprensatachira.com'],\n",
       " ['JUST IN: PM @AndrewHolnessJM announces effective April 1 to April 8 there will be an all-island curfew from 8 p.m to 6 a.m as part of measures to contain the #coronavirus. This means there will be restrictions on public transportation and all movements except where exempted.'],\n",
       " ['#TararirasHOY #Coronavirus #Uruguay #Covid19 Hoy se procesaron 299 análisis (289 negativos y 10 positivos). Total de casos positivos a la fecha: 320. Del total (320), 25 personas ya se han recuperado.'],\n",
       " ['Ummm, da fuq? #Coronavirus #COVID19 #Quarantine #SocialDistancing'],\n",
       " ['Al parecer eso del #coronavirus no es un chiste.'],\n",
       " ['Coronavirus: Huge crowds as India lockdown sparks mass migration #nightmare #coronavirus #COVID19'],\n",
       " ['BBC News - #Coronavirus: The good that can come out of an upside-down world #lifeadvice #wordsofwisdom'],\n",
       " ['Inside a Brooklyn hospital that is overwhelmed with Covid-19 patients and deaths - CNN via \\u2066@miguelmarquez\\u2069 \\u2066@soniamoghe\\u2069 #coronavirus '],\n",
       " ['Never wanted to leave my flat more than I do right now @ArianaGrande #TheLockdown #lockdown #Coronavirustruth #coronavirus #CoronaCrisisuk'],\n",
       " ['Simple.#coronavirus #COVID19 #BreakingNews #CoronaUpdate'],\n",
       " ['Editorial @BostonGlobe: \"A president unfit for a pandemic: Much of the suffering and death coming was preventable. The president has blood on his hands.\" https://www.bostonglobe.com/2020/03/30/opinion/president-unfit-pandemic/?event=event25 &gt; #bospoli #mapoli #covid19 #coronavirus #pandemic @MassGov @CDCgov @POTUS @realDonaldTrump'],\n",
       " ['First day of e-learning started off with a @Flipgrid Virtual Check-In so that we could see everyone and hear what we’ve all been up to! It brightened my day to be able to connect with my students virtually!! #coronavirus #elearning @BearCreekEtown @etownPAschools'],\n",
       " ['Our Response to #Coronavirus #covıd19 Get a Jump on April’s #420 Celebration By Copping our Waldo Deck #LinkInBio #FreeShipping Entire Store During the #lockdown #420Life #SkateLife #420daily #skateeverydamnday'],\n",
       " ['Ülkece panik atak olduk #COVID19 #coronavirus'],\n",
       " ['‘You need to react quickly … you need to be coordinated. You need to be coherent … the greatest error is not to move.’ — Every leader on Earth should heed the WHO director’s words. Especially Trump. #coronavirus 01 #VoteBlueNoMatterWho'],\n",
       " ['O ministro Mandetta realmente fez um retiro espiritual no Butão, ele tem uma paciência e sangue frio de dar inveja! #coronavirus #COVID19'],\n",
       " ['Was this before or after your insider trading that put your own financials before #coronavirus relief?'],\n",
       " ['This is a BOMBSHELL Without Dr. Fauci this #Coronavirus would not be!! Once again, listen to part 3, after 34:1 mark you will hear about this. https://www.youtube.com/watch?v=15YKs_dyEZI #Coronavirustruth'],\n",
       " ['@CNN Coronavirus: Number of global cases passes 750,000 #Coronavirus '],\n",
       " ['COVID-19: Facebook unveils $100m for new journalism project @Facebook #coronavirus #CoronavirusUSA https://sptnkne.ws/BS8P (vía @SputnikInt)'],\n",
       " ['Italia ha perdido el 0.02.% de su población a causa del #COVID19; sin embargo, Estados Unidos, al tener más infectados, tiene actualmente menos fallecidos. Un pequeño análisis del #coronavirus en base a la data. '],\n",
       " [\"#Stuckathome coz of #Coronavirus, then take a tour in #Egypt's Kodak Agfa's finest arts and history trips: A Quick look to Renovated #Downtown #Cairo https://bit.ly/3dLilw3 #StayAtHome #VirtualEgypt #Photography #ThisisCairo #RealEgypt #DiscoverEgypt #Architecturephotography\"],\n",
       " ['#Coronavirus : l’#Allemagne choisit la stratégie sud-coréenne #HumanRights https://www.liberation.fr/depeches/2020/03/30/coronavirus-l-allemagne-choisit-la-strategie-sud-coreenne_1783536'],\n",
       " ['Our @MMobleyKAKE spoke with Chief Gordon Ramsey @WichitaPolice about trends during the stay-at-home order. He also talked about enforcing the order. http://www.kake.com/clip/15037103/wichita-police-chief-talks-crime-rates-amid-covid-19-crisis #coronavirus #Wichita'],\n",
       " ['¡ENTÉRATE! El #COVID19 no se transmite de estas maneras #coronavirus #coronavirusmx'],\n",
       " ['#DrPecon #Africa #WHO #Coronavirus '],\n",
       " ['Back From the Brink https://open.spotify.com/episode/4ZLjeCKf9kIX5MndiR7C6O?si=63WaV_A2T22h6MZMiOoeJg #patientzero #coronavirus'],\n",
       " [' Nuestros aplausos y reconocimiento para todos que los salen trabajar día a día en medio de la #pandemia #ArgentinaAplaude #YoMeQuedoEnCasa #CuarentenaTotal #Coronavirus #COVID19'],\n",
       " ['After three #coronavirus stimulus packages, the US Congress is already prepping for phase four '],\n",
       " ['#COVIDー19#coronavirus Una enfermera registrada en un hospital de Manhattan el domingo 29 de marzo, vio un gran camión refrigerador, listo para llevar a los que habían muerto por #coronavirus Se acercó a la camioneta, abrió el pestillo y tomó una foto. '],\n",
       " ['This is beyond unconstitutional! Disgusting! We have become a dictatorship! #coronavirus #covid19 #covid_19 #coronarights #unconstitutional #coronatruth #bbb20 #foraprior'],\n",
       " ['#30Mar #Coronavirus #EEUU #Washintong Cientos de camas se han establecido en el Centro Javits, listos para recibir pacientes con Coronavirus. - @thehill'],\n",
       " ['Ya know how everyone kept saying \"hold my beer\", as a way to show things could most definitely get worse in situations? ... Well they named this stupid virus after a beer. #randomthoughts #coronavirus #wth #COVID19 #corona #lol #imlosingit'],\n",
       " ['The first American serviceman has died from the #coronavirus. '],\n",
       " ['\\'Un p\\'tit virus a tout changé\\' Une chanson de confinement de Marie et Philippe, sur l\\'air de \"La montagne\" de Jean Ferrat. 30 mars 2020, troisième semaine de confinement https://youtu.be/RNDgWosj-Kk via @YouTube #confinement #coronavirus #covid19 #chanson #soignants'],\n",
       " ['Apparently, when #Tigray sneezes the rest of #Ethiopia sneeze. After the government of Tigray announced the State of Emergency to combat the spread of #CoronaVirus, rest of the regions in Ethiopia started to follow suit which is good but it clearly shows who is in full control.']]"
      ]
     },
     "execution_count": 12,
     "metadata": {},
     "output_type": "execute_result"
    }
   ],
   "source": [
    "#Print text\n",
    "text_tweets"
   ]
  },
  {
   "cell_type": "code",
   "execution_count": 13,
   "metadata": {},
   "outputs": [],
   "source": [
    "stop_words = [\"i\", \"me\", \"my\", \"myself\", \"we\", \"our\", \"ours\", \"ourselves\", \"you\", \"your\", \"yours\", \"yourself\",\n",
    "              \"yourselves\", \"he\", \"him\", \"his\", \"himself\", \"she\", \"her\", \"hers\", \"herself\", \"it\", \"its\", \"itself\",\n",
    "              \"they\", \"them\", \"their\", \"theirs\", \"themselves\", \"what\", \"which\", \"who\", \"whom\", \"this\", \"that\", \"these\",\n",
    "              \"those\", \"am\", \"is\", \"are\", \"was\", \"were\", \"be\", \"been\", \"being\", \"have\", \"has\", \"had\", \"having\", \"do\",\n",
    "              \"does\", \"did\", \"doing\", \"a\", \"an\", \"the\", \"and\", \"but\", \"if\", \"or\", \"because\", \"as\", \"until\", \"while\",\n",
    "              \"of\", \"at\", \"by\", \"for\", \"with\", \"about\", \"against\", \"between\", \"into\", \"through\", \"during\", \"before\",\n",
    "              \"after\", \"above\", \"below\", \"to\", \"from\", \"up\", \"down\", \"in\", \"out\", \"on\", \"off\", \"over\", \"under\", \"again\",\n",
    "              \"further\", \"then\", \"once\", \"here\", \"there\", \"when\", \"where\", \"why\", \"how\", \"all\", \"any\", \"both\", \"each\",\n",
    "              \"few\", \"more\", \"most\", \"other\", \"some\", \"such\", \"no\", \"nor\", \"not\", \"only\", \"own\", \"same\", \"so\", \"than\",\n",
    "              \"too\", \"very\", \"s\", \"t\", \"can\", \"will\", \"just\", \"don\", \"should\", \"now\"]"
   ]
  },
  {
   "cell_type": "code",
   "execution_count": 14,
   "metadata": {},
   "outputs": [],
   "source": [
    "#Removing stop words from the tokenized words list\n",
    "final_words = [word for word in tokenized_words if word not in stop_words]"
   ]
  },
  {
   "cell_type": "code",
   "execution_count": 15,
   "metadata": {},
   "outputs": [
    {
     "name": "stdout",
     "output_type": "stream",
     "text": [
      "Counter({' sad': 2, ' singled out': 1, ' average': 1, ' powerless': 1, ' happy': 1, 'fearful': 1})\n"
     ]
    }
   ],
   "source": [
    "# Get emotions text\n",
    "emotion_list = []\n",
    "with open('emotions.txt', 'r') as file:\n",
    "    for line in file:\n",
    "        clear_line = line.replace('\\n', '').replace(',', '').replace(\"'\", '').strip()\n",
    "        word, emotion = clear_line.split(':')\n",
    "        if word in final_words:\n",
    "            emotion_list.append(emotion)\n",
    "            \n",
    "x = Counter(emotion_list)\n",
    "print(x)"
   ]
  },
  {
   "cell_type": "code",
   "execution_count": 16,
   "metadata": {},
   "outputs": [
    {
     "data": {
      "image/png": "[encoded data removed]",
      "text/plain": [
       "<Figure size 432x288 with 1 Axes>"
      ]
     },
     "metadata": {
      "needs_background": "light"
     },
     "output_type": "display_data"
    }
   ],
   "source": [
    "fig, ax1 = plt.subplots()\n",
    "ax1.bar(x.keys(),x.values())\n",
    "fig.autofmt_xdate()\n",
    "plt.savefig('graph.png')\n",
    "plt.show()"
   ]
  },
  {
   "cell_type": "markdown",
   "metadata": {},
   "source": [
    "# Comparison:\n",
    "Now,lets compare the peoples emotion before and after the breakout"
   ]
  },
  {
   "cell_type": "code",
   "execution_count": 17,
   "metadata": {},
   "outputs": [
    {
     "data": {
      "image/png": "[encoded data removed]",
      "text/plain": [
       "<Figure size 432x288 with 1 Axes>"
      ]
     },
     "metadata": {
      "needs_background": "light"
     },
     "output_type": "display_data"
    }
   ],
   "source": [
    "#Before\n",
    "fig, ax1 = plt.subplots()\n",
    "ax1.bar(w.keys(),w.values())\n",
    "fig.autofmt_xdate()\n",
    "plt.savefig('graph.png')\n",
    "plt.show()"
   ]
  },
  {
   "cell_type": "code",
   "execution_count": 18,
   "metadata": {},
   "outputs": [
    {
     "data": {
      "image/png": "[encoded data removed]",
      "text/plain": [
       "<Figure size 432x288 with 1 Axes>"
      ]
     },
     "metadata": {
      "needs_background": "light"
     },
     "output_type": "display_data"
    }
   ],
   "source": [
    "#After\n",
    "fig, ax1 = plt.subplots()\n",
    "ax1.bar(x.keys(),x.values())\n",
    "fig.autofmt_xdate()\n",
    "plt.savefig('graph.png')\n",
    "plt.show()"
   ]
  },
  {
   "cell_type": "markdown",
   "metadata": {},
   "source": [
    "# Observations:\n",
    "1.Before the outbreak the peoples emotions were very different in comparison to after the outbreak.\n",
    "\n",
    "2.Before the outbreak peoples emotions were a)Happy b)Attracted c)Fearful d)Sad and many more.\n",
    "\n",
    "3.But after March-2020 majority of the people were sad. It may be due to the follwing:\n",
    "a).Loss of Jobs   b).Lack of proper medical facilities  c).Disruption of daily Business,Agriculture,Infrastructure activities\n",
    "and d).Due to exponential increase/rise in the number of deaths etc.\n",
    "     "
   ]
  },
  {
   "cell_type": "markdown",
   "metadata": {},
   "source": [
    "# 2) Pick your choice of document and update the emotion document accordingly (you document words and associated emotion where applicable) and analyse the sentiments of people."
   ]
  },
  {
   "cell_type": "code",
   "execution_count": 19,
   "metadata": {},
   "outputs": [],
   "source": [
    "from nltk.sentiment.vader import SentimentIntensityAnalyzer\n",
    "from nltk.stem import WordNetLemmatizer\n",
    "from nltk.tokenize import word_tokenize\n",
    "import nltk\n",
    "import warnings\n",
    "warnings.filterwarnings('ignore')"
   ]
  },
  {
   "cell_type": "code",
   "execution_count": 20,
   "metadata": {},
   "outputs": [],
   "source": [
    "#text = Open('read.txt', 'r',encoding = 'utf-8')\n",
    "text = open('Jackma_story.txt', encoding = 'utf-8',).read()\n",
    "lower_case = text.lower()\n",
    "\n",
    "#str.maketrans remove any punctuations \n",
    "cleaned_text = lower_case.translate(str.maketrans('','', string.punctuation))\n",
    "\n",
    "#Using word_tokenize to tokenize sentence into words\n",
    "tokenized_words = word_tokenize(cleaned_text, 'english')"
   ]
  },
  {
   "cell_type": "code",
   "execution_count": 21,
   "metadata": {},
   "outputs": [],
   "source": [
    "#Removing stop words\n",
    "final_words = []\n",
    "\n",
    "for word in tokenized_words:\n",
    "    if word not in stopwords.words('english'):\n",
    "        final_words.append(word)"
   ]
  },
  {
   "cell_type": "code",
   "execution_count": 22,
   "metadata": {},
   "outputs": [],
   "source": [
    "#Lemmatization - From plural to single + Base of a word (example better-> good)\n",
    "lemma_words = []\n",
    "\n",
    "for word in final_words:\n",
    "    word = WordNetLemmatizer().lemmatize(word)\n",
    "    lemma_words.append(word)"
   ]
  },
  {
   "cell_type": "code",
   "execution_count": 23,
   "metadata": {},
   "outputs": [
    {
     "name": "stdout",
     "output_type": "stream",
     "text": [
      "People emotions from the text \n",
      " [' sad', ' focused', ' free', ' happy', ' alone', ' loved', ' independent', ' hated', ' powerful', 'fearful', 'happy', 'happy'] \n",
      " \n",
      "\n",
      "Count of each emotion \n",
      " Counter({'happy': 2, ' sad': 1, ' focused': 1, ' free': 1, ' happy': 1, ' alone': 1, ' loved': 1, ' independent': 1, ' hated': 1, ' powerful': 1, 'fearful': 1})\n"
     ]
    }
   ],
   "source": [
    "emotion_list = []\n",
    "\n",
    "with open('emotions.txt', 'r') as file:\n",
    "    for line in file:\n",
    "        clear_line = line.replace('\\n', '').replace(\",\", '').replace(\"'\", '').strip()\n",
    "        word, emotion = clear_line.split(':')\n",
    "        \n",
    "        if word in lemma_words:\n",
    "            emotion_list.append(emotion)\n",
    "            \n",
    "print('People emotions from the text \\n', emotion_list, '\\n \\n')\n",
    "\n",
    "v = Counter(emotion_list)\n",
    "print('Count of each emotion \\n', v)"
   ]
  },
  {
   "cell_type": "markdown",
   "metadata": {},
   "source": [
    "# Checking Polarity classification"
   ]
  },
  {
   "cell_type": "code",
   "execution_count": 24,
   "metadata": {},
   "outputs": [
    {
     "name": "stderr",
     "output_type": "stream",
     "text": [
      "[nltk_data] Downloading package vader_lexicon to\n",
      "[nltk_data]     C:\\Users\\lklqy\\AppData\\Roaming\\nltk_data...\n",
      "[nltk_data]   Package vader_lexicon is already up-to-date!\n"
     ]
    },
    {
     "data": {
      "text/plain": [
       "True"
      ]
     },
     "execution_count": 24,
     "metadata": {},
     "output_type": "execute_result"
    }
   ],
   "source": [
    "nltk.download('vader_lexicon')"
   ]
  },
  {
   "cell_type": "code",
   "execution_count": 25,
   "metadata": {},
   "outputs": [
    {
     "name": "stdout",
     "output_type": "stream",
     "text": [
      "{'neg': 0.107, 'neu': 0.78, 'pos': 0.112, 'compound': 0.0258}\n"
     ]
    }
   ],
   "source": [
    "#Test how SentimentIntensityAnalyzer works\n",
    "sia = SentimentIntensityAnalyzer()\n",
    "\n",
    "test_sent = \"Lebanon's prime minister has announced his government's resignation, less than a week after a huge explosion tore through capital Beirut\"\n",
    "#Sent = \"House of cards is a awesome series, one of my best Series\"\n",
    "print(sia.polarity_scores(test_sent))"
   ]
  },
  {
   "cell_type": "code",
   "execution_count": 26,
   "metadata": {},
   "outputs": [],
   "source": [
    "def sentiment_analyse(sentiment_text):\n",
    "    score = SentimentIntensityAnalyzer().polarity_scores(sentiment_text)\n",
    "    if score['neg'] > score['pos']:\n",
    "        print('\\n   Negative Sentiment   ')\n",
    "        \n",
    "    elif score['neg'] < score['pos']:\n",
    "        print('\\n   Positive Sentiment   ')\n",
    "    else:\n",
    "        print('Neutral Sentiment')"
   ]
  },
  {
   "cell_type": "code",
   "execution_count": 27,
   "metadata": {},
   "outputs": [
    {
     "name": "stdout",
     "output_type": "stream",
     "text": [
      "\n",
      "   Positive Sentiment   \n"
     ]
    },
    {
     "data": {
      "image/png": "[encoded data removed]",
      "text/plain": [
       "<Figure size 432x288 with 1 Axes>"
      ]
     },
     "metadata": {
      "needs_background": "light"
     },
     "output_type": "display_data"
    }
   ],
   "source": [
    "sentiment_analyse(cleaned_text)\n",
    "\n",
    "fig, ax1 = plt.subplots()\n",
    "ax1.bar(v.keys(), v.values())\n",
    "fig.autofmt_xdate()\n",
    "plt.savefig('graph.png')\n",
    "plt.show()"
   ]
  },
  {
   "cell_type": "markdown",
   "metadata": {},
   "source": [
    "# 3) pick your own document (say A) and create BOW using a count vectorizer. Use another document (say B) and identify how many words of the B document are present in the BOW of A."
   ]
  },
  {
   "cell_type": "markdown",
   "metadata": {},
   "source": [
    "# Bag of Words"
   ]
  },
  {
   "cell_type": "code",
   "execution_count": 28,
   "metadata": {},
   "outputs": [
    {
     "name": "stdout",
     "output_type": "stream",
     "text": [
      "bag of words : ['coronavirus', 'family', 'is', 'of', 'viruses']\n"
     ]
    }
   ],
   "source": [
    "#Example of single document\n",
    "#Without stopwords\n",
    "from sklearn.feature_extraction.text import CountVectorizer\n",
    "import pandas as pd\n",
    "#Single document (',' seperate each document)\n",
    "Doc_A = ['Coronavirus is a family of viruses']\n",
    "#This step will convert text into tokens\n",
    "vect_A = CountVectorizer()\n",
    "vect_A.fit_transform(Doc_A)\n",
    "print('bag of words :',vect_A.get_feature_names())"
   ]
  },
  {
   "cell_type": "code",
   "execution_count": 29,
   "metadata": {},
   "outputs": [
    {
     "data": {
      "text/plain": [
       "{'coronavirus': 0, 'is': 2, 'family': 1, 'of': 3, 'viruses': 4}"
      ]
     },
     "execution_count": 29,
     "metadata": {},
     "output_type": "execute_result"
    }
   ],
   "source": [
    "vect_A.vocabulary_"
   ]
  },
  {
   "cell_type": "code",
   "execution_count": 30,
   "metadata": {},
   "outputs": [
    {
     "data": {
      "text/plain": [
       "CountVectorizer()"
      ]
     },
     "execution_count": 30,
     "metadata": {},
     "output_type": "execute_result"
    }
   ],
   "source": [
    "c_vect = CountVectorizer()\n",
    "c_vect.fit(Doc_A)"
   ]
  },
  {
   "cell_type": "code",
   "execution_count": 31,
   "metadata": {},
   "outputs": [
    {
     "name": "stdout",
     "output_type": "stream",
     "text": [
      "Text Present at  [[0 1 1 1 1]]\n",
      "original indexes ['coronavirus', 'family', 'is', 'of', 'viruses']\n"
     ]
    }
   ],
   "source": [
    "Doc_B = [\"Let's understand what is a family of viruses\"]\n",
    "vect_B = c_vect.transform(Doc_B)\n",
    "print(\"Text Present at \",vect_B.toarray())\n",
    "#Compare with the indexes\n",
    "print('original indexes', vect_A.get_feature_names())"
   ]
  },
  {
   "cell_type": "markdown",
   "metadata": {},
   "source": [
    "# Bag of words using stopword"
   ]
  },
  {
   "cell_type": "code",
   "execution_count": 32,
   "metadata": {},
   "outputs": [
    {
     "name": "stdout",
     "output_type": "stream",
     "text": [
      "CountVectorizer(stop_words=['i', 'me', 'my', 'myself', 'we', 'our', 'ours',\n",
      "                            'ourselves', 'you', \"you're\", \"you've\", \"you'll\",\n",
      "                            \"you'd\", 'your', 'yours', 'yourself', 'yourselves',\n",
      "                            'he', 'him', 'his', 'himself', 'she', \"she's\",\n",
      "                            'her', 'hers', 'herself', 'it', \"it's\", 'its',\n",
      "                            'itself', ...])\n"
     ]
    }
   ],
   "source": [
    "#You can avoid writing extra steps to remove stopwords\n",
    "stop_words = stopwords.words('english')\n",
    "Doc_A = ['Coronavirus is a family of viruses']\n",
    "vect_A = CountVectorizer(stop_words=stop_words)\n",
    "print(vect_A)"
   ]
  },
  {
   "cell_type": "code",
   "execution_count": 33,
   "metadata": {},
   "outputs": [
    {
     "name": "stdout",
     "output_type": "stream",
     "text": [
      "bag of words : ['coronavirus', 'family', 'viruses']\n",
      "voca         : {'coronavirus': 0, 'family': 1, 'viruses': 2}\n"
     ]
    }
   ],
   "source": [
    "vect_A.fit_transform(Doc_A)\n",
    "print('bag of words :',vect_A.get_feature_names())\n",
    "print('voca         :',vect_A.vocabulary_)"
   ]
  },
  {
   "cell_type": "code",
   "execution_count": 34,
   "metadata": {},
   "outputs": [],
   "source": [
    "# Using function\n",
    "def text_matrix(message, countvect):\n",
    "    terms_doc = countvect.fit_transform(message)\n",
    "    return pd.DataFrame(terms_doc.toarray(),columns=countvect.get_feature_names())"
   ]
  },
  {
   "cell_type": "code",
   "execution_count": 35,
   "metadata": {},
   "outputs": [
    {
     "name": "stdout",
     "output_type": "stream",
     "text": [
      "Below metrix is the bag of words approach\n"
     ]
    },
    {
     "data": {
      "text/html": [
       "<div>\n",
       "<style scoped>\n",
       "    .dataframe tbody tr th:only-of-type {\n",
       "        vertical-align: middle;\n",
       "    }\n",
       "\n",
       "    .dataframe tbody tr th {\n",
       "        vertical-align: top;\n",
       "    }\n",
       "\n",
       "    .dataframe thead th {\n",
       "        text-align: right;\n",
       "    }\n",
       "</style>\n",
       "<table border=\"1\" class=\"dataframe\">\n",
       "  <thead>\n",
       "    <tr style=\"text-align: right;\">\n",
       "      <th></th>\n",
       "      <th>are</th>\n",
       "      <th>but</th>\n",
       "      <th>for</th>\n",
       "      <th>get</th>\n",
       "      <th>in</th>\n",
       "      <th>is</th>\n",
       "      <th>language</th>\n",
       "      <th>making</th>\n",
       "      <th>mantra</th>\n",
       "      <th>natural</th>\n",
       "      <th>only</th>\n",
       "      <th>practice</th>\n",
       "      <th>processing</th>\n",
       "      <th>progress</th>\n",
       "      <th>slowly</th>\n",
       "      <th>success</th>\n",
       "      <th>the</th>\n",
       "      <th>there</th>\n",
       "      <th>we</th>\n",
       "      <th>will</th>\n",
       "    </tr>\n",
       "  </thead>\n",
       "  <tbody>\n",
       "    <tr>\n",
       "      <th>0</th>\n",
       "      <td>1</td>\n",
       "      <td>0</td>\n",
       "      <td>0</td>\n",
       "      <td>0</td>\n",
       "      <td>1</td>\n",
       "      <td>0</td>\n",
       "      <td>1</td>\n",
       "      <td>1</td>\n",
       "      <td>0</td>\n",
       "      <td>1</td>\n",
       "      <td>0</td>\n",
       "      <td>0</td>\n",
       "      <td>1</td>\n",
       "      <td>1</td>\n",
       "      <td>1</td>\n",
       "      <td>0</td>\n",
       "      <td>0</td>\n",
       "      <td>0</td>\n",
       "      <td>1</td>\n",
       "      <td>0</td>\n",
       "    </tr>\n",
       "    <tr>\n",
       "      <th>1</th>\n",
       "      <td>0</td>\n",
       "      <td>0</td>\n",
       "      <td>0</td>\n",
       "      <td>1</td>\n",
       "      <td>0</td>\n",
       "      <td>0</td>\n",
       "      <td>0</td>\n",
       "      <td>0</td>\n",
       "      <td>0</td>\n",
       "      <td>0</td>\n",
       "      <td>0</td>\n",
       "      <td>0</td>\n",
       "      <td>0</td>\n",
       "      <td>0</td>\n",
       "      <td>0</td>\n",
       "      <td>0</td>\n",
       "      <td>0</td>\n",
       "      <td>1</td>\n",
       "      <td>1</td>\n",
       "      <td>1</td>\n",
       "    </tr>\n",
       "    <tr>\n",
       "      <th>2</th>\n",
       "      <td>0</td>\n",
       "      <td>1</td>\n",
       "      <td>1</td>\n",
       "      <td>0</td>\n",
       "      <td>0</td>\n",
       "      <td>1</td>\n",
       "      <td>0</td>\n",
       "      <td>0</td>\n",
       "      <td>1</td>\n",
       "      <td>0</td>\n",
       "      <td>1</td>\n",
       "      <td>1</td>\n",
       "      <td>0</td>\n",
       "      <td>0</td>\n",
       "      <td>0</td>\n",
       "      <td>1</td>\n",
       "      <td>1</td>\n",
       "      <td>0</td>\n",
       "      <td>0</td>\n",
       "      <td>0</td>\n",
       "    </tr>\n",
       "  </tbody>\n",
       "</table>\n",
       "</div>"
      ],
      "text/plain": [
       "   are  but  for  get  in  is  language  making  mantra  natural  only  \\\n",
       "0    1    0    0    0   1   0         1       1       0        1     0   \n",
       "1    0    0    0    1   0   0         0       0       0        0     0   \n",
       "2    0    1    1    0   0   1         0       0       1        0     1   \n",
       "\n",
       "   practice  processing  progress  slowly  success  the  there  we  will  \n",
       "0         0           1         1       1        0    0      0   1     0  \n",
       "1         0           0         0       0        0    0      1   1     1  \n",
       "2         1           0         0       0        1    1      0   0     0  "
      ]
     },
     "execution_count": 35,
     "metadata": {},
     "output_type": "execute_result"
    }
   ],
   "source": [
    "message = ['We are slowly making progress in Natural Language Processing',\n",
    "           'We will get there','But practice is the only mantra for success']\n",
    "c_vect = CountVectorizer()\n",
    "print('Below metrix is the bag of words approach')\n",
    "text_matrix(message,c_vect)"
   ]
  },
  {
   "cell_type": "markdown",
   "metadata": {},
   "source": [
    "# n-grams"
   ]
  },
  {
   "cell_type": "code",
   "execution_count": 36,
   "metadata": {},
   "outputs": [
    {
     "name": "stdout",
     "output_type": "stream",
     "text": [
      "1-gram  : ['an', 'example', 'gram', 'is', 'of', 'this']\n",
      "2-gram  : ['an example', 'example of', 'is an', 'of gram', 'this is']\n",
      "3-gram  : ['an example of', 'example of gram', 'is an example', 'this is an']\n",
      "4-gram  : ['an example of gram', 'is an example of', 'this is an example']\n"
     ]
    }
   ],
   "source": [
    "#n-grams example\n",
    "string = [\"This is an example of n-gram!\"]\n",
    "\n",
    "vect1 = CountVectorizer(ngram_range=(1,1))\n",
    "\n",
    "vect1.fit_transform(string)\n",
    "\n",
    "vect2 = CountVectorizer(ngram_range=(2,2))\n",
    "vect2.fit_transform(string)\n",
    "\n",
    "vect3 = CountVectorizer(ngram_range=(3,3))\n",
    "vect3.fit_transform(string)\n",
    "\n",
    "vect4 = CountVectorizer(ngram_range=(4,4))\n",
    "vect4.fit_transform(string)\n",
    "\n",
    "print(\"1-gram  :\",vect1.get_feature_names())\n",
    "\n",
    "print(\"2-gram  :\",vect2.get_feature_names())\n",
    "print(\"3-gram  :\",vect3.get_feature_names())\n",
    "print(\"4-gram  :\",vect4.get_feature_names())"
   ]
  },
  {
   "cell_type": "code",
   "execution_count": null,
   "metadata": {},
   "outputs": [],
   "source": []
  }
 ],
 "metadata": {
  "kernelspec": {
   "display_name": "Python 3",
   "language": "python",
   "name": "python3"
  },
  "language_info": {
   "codemirror_mode": {
    "name": "ipython",
    "version": 3
   },
   "file_extension": ".py",
   "mimetype": "text/x-python",
   "name": "python",
   "nbconvert_exporter": "python",
   "pygments_lexer": "ipython3",
   "version": "3.7.6"
  }
 },
 "nbformat": 4,
 "nbformat_minor": 4
}
